{
 "cells": [
  {
   "cell_type": "markdown",
   "id": "94145462",
   "metadata": {},
   "source": [
    "# Practical 1"
   ]
  },
  {
   "cell_type": "markdown",
   "id": "3b408bd2",
   "metadata": {},
   "source": [
    "# Shortcut key for Markdown: esc m then enter"
   ]
  },
  {
   "cell_type": "markdown",
   "id": "2c8bfea2",
   "metadata": {},
   "source": [
    "# Key for going back to code: esc y enter"
   ]
  },
  {
   "cell_type": "markdown",
   "id": "df525c28",
   "metadata": {},
   "source": [
    "# https://onlinecourses.nptel.ac.in/noc22 cs 124"
   ]
  },
  {
   "cell_type": "code",
   "execution_count": 1,
   "id": "0362916e",
   "metadata": {},
   "outputs": [],
   "source": [
    "import tensorflow as tf"
   ]
  },
  {
   "cell_type": "code",
   "execution_count": 2,
   "id": "41f1fa14",
   "metadata": {},
   "outputs": [],
   "source": [
    "# Command to install tensorflow: pip install tensorflow"
   ]
  },
  {
   "cell_type": "code",
   "execution_count": 3,
   "id": "9b4a4838",
   "metadata": {},
   "outputs": [],
   "source": [
    "# To install using GPU: pip install tensorflow -gpu"
   ]
  },
  {
   "cell_type": "code",
   "execution_count": null,
   "id": "55854f9a",
   "metadata": {},
   "outputs": [],
   "source": [
    "# To check if tensorflow is built with cuda"
   ]
  },
  {
   "cell_type": "code",
   "execution_count": 6,
   "id": "126c3bdb",
   "metadata": {},
   "outputs": [
    {
     "name": "stdout",
     "output_type": "stream",
     "text": [
      "False\n"
     ]
    }
   ],
   "source": [
    "print(tf.test.is_built_with_cuda())"
   ]
  },
  {
   "cell_type": "code",
   "execution_count": 5,
   "id": "835f949d",
   "metadata": {},
   "outputs": [],
   "source": [
    "# Command to check the version of TensorFlow: python -c 'import tensorflow as tf; print(tf.__version__)'"
   ]
  },
  {
   "cell_type": "code",
   "execution_count": null,
   "id": "7efe8665",
   "metadata": {},
   "outputs": [],
   "source": [
    "# To check if tensorflow is built with gpu support"
   ]
  },
  {
   "cell_type": "code",
   "execution_count": 7,
   "id": "5229f3b2",
   "metadata": {},
   "outputs": [
    {
     "name": "stdout",
     "output_type": "stream",
     "text": [
      "False\n"
     ]
    }
   ],
   "source": [
    "print(tf.test.is_built_with_gpu_support())"
   ]
  },
  {
   "cell_type": "code",
   "execution_count": 8,
   "id": "3c9fd670",
   "metadata": {},
   "outputs": [
    {
     "name": "stdout",
     "output_type": "stream",
     "text": [
      "Please Install GPU verion of tf\n"
     ]
    }
   ],
   "source": [
    "if tf.test.gpu_device_name():\n",
    "    print('Default GPU device:{}'.format(tf.test.gpu_device_name()))\n",
    "else:\n",
    "    print(\"Please Install GPU verion of tf\")"
   ]
  },
  {
   "cell_type": "code",
   "execution_count": 11,
   "id": "4eb3415d",
   "metadata": {},
   "outputs": [],
   "source": [
    "# To check the number of GPU devices available"
   ]
  },
  {
   "cell_type": "code",
   "execution_count": 12,
   "id": "8e6e8239",
   "metadata": {},
   "outputs": [
    {
     "name": "stdout",
     "output_type": "stream",
     "text": [
      "Number of GPU available\n"
     ]
    },
    {
     "data": {
      "text/plain": [
       "0"
      ]
     },
     "execution_count": 12,
     "metadata": {},
     "output_type": "execute_result"
    }
   ],
   "source": [
    "print(\"Number of GPU available\")\n",
    "len(tf.config.experimental.list_physical_devices('GPU'))"
   ]
  },
  {
   "cell_type": "code",
   "execution_count": 15,
   "id": "8f9707fa",
   "metadata": {},
   "outputs": [
    {
     "name": "stdout",
     "output_type": "stream",
     "text": [
      "Numdevices: 0\n"
     ]
    }
   ],
   "source": [
    "physical_devices=tf.config.list_physical_devices('GPU')\n",
    "print(\"Numdevices:\", len(physical_devices))"
   ]
  },
  {
   "cell_type": "markdown",
   "id": "c3fa58cb",
   "metadata": {},
   "source": [
    "## A tensor is a multi dimensional array"
   ]
  },
  {
   "cell_type": "markdown",
   "id": "be098361",
   "metadata": {},
   "source": [
    "## Similar to NumPy nd-array objects, tf.Tesnor objects have a data type and a shape"
   ]
  },
  {
   "cell_type": "code",
   "execution_count": 17,
   "id": "0e2c9d52",
   "metadata": {},
   "outputs": [
    {
     "name": "stdout",
     "output_type": "stream",
     "text": [
      "tf.Tensor(3, shape=(), dtype=int32)\n"
     ]
    }
   ],
   "source": [
    "import tensorflow as tf\n",
    "print(tf.add(1,2))"
   ]
  },
  {
   "cell_type": "code",
   "execution_count": 30,
   "id": "54f31907",
   "metadata": {},
   "outputs": [
    {
     "name": "stdout",
     "output_type": "stream",
     "text": [
      "tf.Tensor([4 6], shape=(2,), dtype=int32)\n"
     ]
    }
   ],
   "source": [
    "print(tf.add([1,2], [3,4]))"
   ]
  },
  {
   "cell_type": "code",
   "execution_count": 21,
   "id": "7ab58fa6",
   "metadata": {},
   "outputs": [
    {
     "name": "stdout",
     "output_type": "stream",
     "text": [
      "tf.Tensor(25, shape=(), dtype=int32)\n"
     ]
    }
   ],
   "source": [
    "print(tf.square(5))"
   ]
  },
  {
   "cell_type": "code",
   "execution_count": 24,
   "id": "556295ad",
   "metadata": {},
   "outputs": [
    {
     "name": "stdout",
     "output_type": "stream",
     "text": [
      "tf.Tensor(6, shape=(), dtype=int32)\n"
     ]
    }
   ],
   "source": [
    "print(tf.reduce_sum([1,2,3]))"
   ]
  },
  {
   "cell_type": "code",
   "execution_count": 25,
   "id": "c982dafa",
   "metadata": {},
   "outputs": [
    {
     "name": "stdout",
     "output_type": "stream",
     "text": [
      "tf.Tensor(13, shape=(), dtype=int32)\n"
     ]
    }
   ],
   "source": [
    "print(tf.square(2)+tf.square(3))"
   ]
  },
  {
   "cell_type": "code",
   "execution_count": 32,
   "id": "933f6c87",
   "metadata": {},
   "outputs": [],
   "source": [
    "x=tf.matmul([[1]], [[2,3]])  # matmul stands for matrix multiplication"
   ]
  },
  {
   "cell_type": "code",
   "execution_count": 33,
   "id": "049d1dfc",
   "metadata": {},
   "outputs": [
    {
     "name": "stdout",
     "output_type": "stream",
     "text": [
      "tf.Tensor([[2 3]], shape=(1, 2), dtype=int32)\n"
     ]
    }
   ],
   "source": [
    "print(x)"
   ]
  },
  {
   "cell_type": "code",
   "execution_count": 34,
   "id": "4aaf44c5",
   "metadata": {},
   "outputs": [
    {
     "name": "stdout",
     "output_type": "stream",
     "text": [
      "(1, 2)\n"
     ]
    }
   ],
   "source": [
    "print(x.shape)"
   ]
  },
  {
   "cell_type": "code",
   "execution_count": 35,
   "id": "7740e094",
   "metadata": {},
   "outputs": [
    {
     "name": "stdout",
     "output_type": "stream",
     "text": [
      "<dtype: 'int32'>\n"
     ]
    }
   ],
   "source": [
    "print(x.dtype)"
   ]
  },
  {
   "cell_type": "markdown",
   "id": "6b57220e",
   "metadata": {},
   "source": [
    "## matmul return matrix multiplication of two matrix"
   ]
  },
  {
   "cell_type": "code",
   "execution_count": 37,
   "id": "31aee888",
   "metadata": {},
   "outputs": [
    {
     "name": "stdout",
     "output_type": "stream",
     "text": [
      "Requirement already satisfied: tensorflow in ./opt/anaconda3/lib/python3.8/site-packages (2.8.0)\n",
      "Requirement already satisfied: typing-extensions>=3.6.6 in ./opt/anaconda3/lib/python3.8/site-packages (from tensorflow) (3.7.4.3)\n",
      "Requirement already satisfied: h5py>=2.9.0 in ./opt/anaconda3/lib/python3.8/site-packages (from tensorflow) (2.10.0)\n",
      "Requirement already satisfied: grpcio<2.0,>=1.24.3 in ./opt/anaconda3/lib/python3.8/site-packages (from tensorflow) (1.43.0)\n",
      "Requirement already satisfied: gast>=0.2.1 in ./opt/anaconda3/lib/python3.8/site-packages (from tensorflow) (0.5.3)\n",
      "Requirement already satisfied: tf-estimator-nightly==2.8.0.dev2021122109 in ./opt/anaconda3/lib/python3.8/site-packages (from tensorflow) (2.8.0.dev2021122109)\n",
      "Requirement already satisfied: google-pasta>=0.1.1 in ./opt/anaconda3/lib/python3.8/site-packages (from tensorflow) (0.2.0)\n",
      "Requirement already satisfied: opt-einsum>=2.3.2 in ./opt/anaconda3/lib/python3.8/site-packages (from tensorflow) (3.3.0)\n",
      "Requirement already satisfied: astunparse>=1.6.0 in ./opt/anaconda3/lib/python3.8/site-packages (from tensorflow) (1.6.3)\n",
      "Requirement already satisfied: tensorflow-io-gcs-filesystem>=0.23.1 in ./opt/anaconda3/lib/python3.8/site-packages (from tensorflow) (0.24.0)\n",
      "Requirement already satisfied: flatbuffers>=1.12 in ./opt/anaconda3/lib/python3.8/site-packages (from tensorflow) (2.0)\n",
      "Requirement already satisfied: keras<2.9,>=2.8.0rc0 in ./opt/anaconda3/lib/python3.8/site-packages (from tensorflow) (2.8.0)\n",
      "Requirement already satisfied: keras-preprocessing>=1.1.1 in ./opt/anaconda3/lib/python3.8/site-packages (from tensorflow) (1.1.2)\n",
      "Requirement already satisfied: termcolor>=1.1.0 in ./opt/anaconda3/lib/python3.8/site-packages (from tensorflow) (1.1.0)\n",
      "Requirement already satisfied: wrapt>=1.11.0 in ./opt/anaconda3/lib/python3.8/site-packages (from tensorflow) (1.12.1)\n",
      "Requirement already satisfied: six>=1.12.0 in ./opt/anaconda3/lib/python3.8/site-packages (from tensorflow) (1.15.0)\n",
      "Requirement already satisfied: absl-py>=0.4.0 in ./opt/anaconda3/lib/python3.8/site-packages (from tensorflow) (1.0.0)\n",
      "Requirement already satisfied: libclang>=9.0.1 in ./opt/anaconda3/lib/python3.8/site-packages (from tensorflow) (13.0.0)\n",
      "Requirement already satisfied: tensorboard<2.9,>=2.8 in ./opt/anaconda3/lib/python3.8/site-packages (from tensorflow) (2.8.0)\n",
      "Requirement already satisfied: numpy>=1.20 in ./opt/anaconda3/lib/python3.8/site-packages (from tensorflow) (1.20.1)\n",
      "Requirement already satisfied: setuptools in ./opt/anaconda3/lib/python3.8/site-packages (from tensorflow) (52.0.0.post20210125)\n",
      "Requirement already satisfied: protobuf>=3.9.2 in ./opt/anaconda3/lib/python3.8/site-packages (from tensorflow) (3.19.4)\n",
      "Requirement already satisfied: wheel<1.0,>=0.23.0 in ./opt/anaconda3/lib/python3.8/site-packages (from astunparse>=1.6.0->tensorflow) (0.36.2)\n",
      "Requirement already satisfied: google-auth-oauthlib<0.5,>=0.4.1 in ./opt/anaconda3/lib/python3.8/site-packages (from tensorboard<2.9,>=2.8->tensorflow) (0.4.6)\n",
      "Requirement already satisfied: tensorboard-plugin-wit>=1.6.0 in ./opt/anaconda3/lib/python3.8/site-packages (from tensorboard<2.9,>=2.8->tensorflow) (1.8.1)\n",
      "Requirement already satisfied: markdown>=2.6.8 in ./opt/anaconda3/lib/python3.8/site-packages (from tensorboard<2.9,>=2.8->tensorflow) (3.3.6)\n",
      "Requirement already satisfied: werkzeug>=0.11.15 in ./opt/anaconda3/lib/python3.8/site-packages (from tensorboard<2.9,>=2.8->tensorflow) (1.0.1)\n",
      "Requirement already satisfied: google-auth<3,>=1.6.3 in ./opt/anaconda3/lib/python3.8/site-packages (from tensorboard<2.9,>=2.8->tensorflow) (2.6.0)\n",
      "Requirement already satisfied: requests<3,>=2.21.0 in ./opt/anaconda3/lib/python3.8/site-packages (from tensorboard<2.9,>=2.8->tensorflow) (2.25.1)\n",
      "Requirement already satisfied: tensorboard-data-server<0.7.0,>=0.6.0 in ./opt/anaconda3/lib/python3.8/site-packages (from tensorboard<2.9,>=2.8->tensorflow) (0.6.1)\n",
      "Requirement already satisfied: pyasn1-modules>=0.2.1 in ./opt/anaconda3/lib/python3.8/site-packages (from google-auth<3,>=1.6.3->tensorboard<2.9,>=2.8->tensorflow) (0.2.8)\n",
      "Requirement already satisfied: rsa<5,>=3.1.4 in ./opt/anaconda3/lib/python3.8/site-packages (from google-auth<3,>=1.6.3->tensorboard<2.9,>=2.8->tensorflow) (4.8)\n",
      "Requirement already satisfied: cachetools<6.0,>=2.0.0 in ./opt/anaconda3/lib/python3.8/site-packages (from google-auth<3,>=1.6.3->tensorboard<2.9,>=2.8->tensorflow) (5.0.0)\n",
      "Requirement already satisfied: requests-oauthlib>=0.7.0 in ./opt/anaconda3/lib/python3.8/site-packages (from google-auth-oauthlib<0.5,>=0.4.1->tensorboard<2.9,>=2.8->tensorflow) (1.3.1)\n",
      "Requirement already satisfied: importlib-metadata>=4.4 in ./opt/anaconda3/lib/python3.8/site-packages (from markdown>=2.6.8->tensorboard<2.9,>=2.8->tensorflow) (4.10.1)\n",
      "Requirement already satisfied: zipp>=0.5 in ./opt/anaconda3/lib/python3.8/site-packages (from importlib-metadata>=4.4->markdown>=2.6.8->tensorboard<2.9,>=2.8->tensorflow) (3.4.1)\n",
      "Requirement already satisfied: pyasn1<0.5.0,>=0.4.6 in ./opt/anaconda3/lib/python3.8/site-packages (from pyasn1-modules>=0.2.1->google-auth<3,>=1.6.3->tensorboard<2.9,>=2.8->tensorflow) (0.4.8)\n",
      "Requirement already satisfied: chardet<5,>=3.0.2 in ./opt/anaconda3/lib/python3.8/site-packages (from requests<3,>=2.21.0->tensorboard<2.9,>=2.8->tensorflow) (4.0.0)\n",
      "Requirement already satisfied: certifi>=2017.4.17 in ./opt/anaconda3/lib/python3.8/site-packages (from requests<3,>=2.21.0->tensorboard<2.9,>=2.8->tensorflow) (2020.12.5)\n",
      "Requirement already satisfied: idna<3,>=2.5 in ./opt/anaconda3/lib/python3.8/site-packages (from requests<3,>=2.21.0->tensorboard<2.9,>=2.8->tensorflow) (2.10)\n",
      "Requirement already satisfied: urllib3<1.27,>=1.21.1 in ./opt/anaconda3/lib/python3.8/site-packages (from requests<3,>=2.21.0->tensorboard<2.9,>=2.8->tensorflow) (1.26.4)\n",
      "Requirement already satisfied: oauthlib>=3.0.0 in ./opt/anaconda3/lib/python3.8/site-packages (from requests-oauthlib>=0.7.0->google-auth-oauthlib<0.5,>=0.4.1->tensorboard<2.9,>=2.8->tensorflow) (3.2.0)\n",
      "Note: you may need to restart the kernel to use updated packages.\n"
     ]
    }
   ],
   "source": [
    "pip install tensorflow"
   ]
  },
  {
   "cell_type": "code",
   "execution_count": 39,
   "id": "b6c49f51",
   "metadata": {},
   "outputs": [],
   "source": [
    "import tensorflow as tf\n",
    "import numpy as np"
   ]
  },
  {
   "cell_type": "code",
   "execution_count": 40,
   "id": "5eb0533d",
   "metadata": {},
   "outputs": [],
   "source": [
    "ndarray=np.ones([3,3])"
   ]
  },
  {
   "cell_type": "code",
   "execution_count": 41,
   "id": "89f9ae5a",
   "metadata": {},
   "outputs": [
    {
     "name": "stdout",
     "output_type": "stream",
     "text": [
      "Tensorflow operations convert numpy arrays to tensorflow automatically\n",
      "tf.Tensor(\n",
      "[[42. 42. 42.]\n",
      " [42. 42. 42.]\n",
      " [42. 42. 42.]], shape=(3, 3), dtype=float64)\n"
     ]
    }
   ],
   "source": [
    "print(\"Tensorflow operations convert numpy arrays to tensorflow automatically\")\n",
    "tesnor=tf.multiply(ndarray, 42)\n",
    "print(tesnor)"
   ]
  },
  {
   "cell_type": "code",
   "execution_count": 42,
   "id": "9d0ac904",
   "metadata": {},
   "outputs": [
    {
     "name": "stdout",
     "output_type": "stream",
     "text": [
      "And numpy operation convert tensors to numpy arrays automatically\n",
      "[[43. 43. 43.]\n",
      " [43. 43. 43.]\n",
      " [43. 43. 43.]]\n"
     ]
    }
   ],
   "source": [
    "print(\"Add numpy operation convert tensors to numpy arrays automatically\")\n",
    "print(np.add(tesnor, 1))"
   ]
  },
  {
   "cell_type": "code",
   "execution_count": 45,
   "id": "5d8427ce",
   "metadata": {},
   "outputs": [
    {
     "name": "stdout",
     "output_type": "stream",
     "text": [
      " The .numpy() method explicitly converts a Tensor to numpy array\n"
     ]
    },
    {
     "ename": "AttributeError",
     "evalue": "module 'tensorflow' has no attribute 'numpy'",
     "output_type": "error",
     "traceback": [
      "\u001b[0;31m---------------------------------------------------------------------------\u001b[0m",
      "\u001b[0;31mAttributeError\u001b[0m                            Traceback (most recent call last)",
      "\u001b[0;32m<ipython-input-45-4f9a424095f0>\u001b[0m in \u001b[0;36m<module>\u001b[0;34m\u001b[0m\n\u001b[1;32m      1\u001b[0m \u001b[0mprint\u001b[0m\u001b[0;34m(\u001b[0m\u001b[0;34m\" The .numpy() method explicitly converts a Tensor to numpy array\"\u001b[0m\u001b[0;34m)\u001b[0m\u001b[0;34m\u001b[0m\u001b[0;34m\u001b[0m\u001b[0m\n\u001b[0;32m----> 2\u001b[0;31m \u001b[0mprint\u001b[0m\u001b[0;34m(\u001b[0m\u001b[0mtf\u001b[0m\u001b[0;34m.\u001b[0m\u001b[0mnumpy\u001b[0m\u001b[0;34m(\u001b[0m\u001b[0;34m)\u001b[0m\u001b[0;34m)\u001b[0m\u001b[0;34m\u001b[0m\u001b[0;34m\u001b[0m\u001b[0m\n\u001b[0m",
      "\u001b[0;31mAttributeError\u001b[0m: module 'tensorflow' has no attribute 'numpy'"
     ]
    }
   ],
   "source": [
    "print(\" The .numpy() method explicitly converts a Tensor to numpy array\")\n",
    "print(tf.numpy())"
   ]
  },
  {
   "cell_type": "markdown",
   "id": "16828084",
   "metadata": {},
   "source": [
    "# Program to write Fizzbuzz"
   ]
  },
  {
   "cell_type": "code",
   "execution_count": 1,
   "id": "05c81618",
   "metadata": {},
   "outputs": [],
   "source": [
    "import tensorflow as tf"
   ]
  },
  {
   "cell_type": "code",
   "execution_count": 2,
   "id": "1370ce8a",
   "metadata": {},
   "outputs": [
    {
     "name": "stdout",
     "output_type": "stream",
     "text": [
      "Fuzz\n"
     ]
    }
   ],
   "source": [
    "def fizzbuzz (max_num):\n",
    "    counter=tf.constant(0)\n",
    "    max_num=tf.convert_to_tensor(max_num)\n",
    "    for num in range(1, max_num.numpy()+1):\n",
    "        num=tf.constant(num)\n",
    "    if int(num%3) == 0 and int(num%5) ==0:\n",
    "        print(\"FizzBuzz\")\n",
    "    elif int(num%3) ==0:\n",
    "        print(\"Fuzz\")\n",
    "    elif int(num%5) ==0:\n",
    "        print(\"Buzz\")\n",
    "    else:\n",
    "        print(num.numpy())\n",
    "    counter +=1\n",
    "fizzbuzz(18)\n",
    "            "
   ]
  },
  {
   "cell_type": "code",
   "execution_count": 3,
   "id": "8552ed48",
   "metadata": {},
   "outputs": [
    {
     "name": "stdout",
     "output_type": "stream",
     "text": [
      "Buzz\n"
     ]
    }
   ],
   "source": [
    "def fizzbuzz (max_num):\n",
    "    counter=tf.constant(0)\n",
    "    max_num=tf.convert_to_tensor(max_num)\n",
    "    for num in range(1, max_num.numpy()+1):\n",
    "        num=tf.constant(num)\n",
    "    if int(num%3) == 0 and int(num%5) ==0:\n",
    "        print(\"FizzBuzz\")\n",
    "    elif int(num%3) ==0:\n",
    "        print(\"Fuzz\")\n",
    "    elif int(num%5) ==0:\n",
    "        print(\"Buzz\")\n",
    "    else:\n",
    "        print(num.numpy())\n",
    "    counter +=1\n",
    "fizzbuzz(20)          "
   ]
  },
  {
   "cell_type": "code",
   "execution_count": 4,
   "id": "22c4d133",
   "metadata": {},
   "outputs": [
    {
     "name": "stdout",
     "output_type": "stream",
     "text": [
      "FizzBuzz\n"
     ]
    }
   ],
   "source": [
    "def fizzbuzz (max_num):\n",
    "    counter=tf.constant(0)\n",
    "    max_num=tf.convert_to_tensor(max_num)\n",
    "    for num in range(1, max_num.numpy()+1):\n",
    "        num=tf.constant(num)\n",
    "    if int(num%3) == 0 and int(num%5) ==0:\n",
    "        print(\"FizzBuzz\")\n",
    "    elif int(num%3) ==0:\n",
    "        print(\"Fuzz\")\n",
    "    elif int(num%5) ==0:\n",
    "        print(\"Buzz\")\n",
    "    else:\n",
    "        print(num.numpy())\n",
    "    counter +=1\n",
    "fizzbuzz(30)\n",
    "            "
   ]
  },
  {
   "cell_type": "markdown",
   "id": "ef3cbbbc",
   "metadata": {},
   "source": [
    "# To check the performance"
   ]
  },
  {
   "cell_type": "code",
   "execution_count": 6,
   "id": "d8a69ba8",
   "metadata": {},
   "outputs": [],
   "source": [
    "import tensorflow as tf"
   ]
  },
  {
   "cell_type": "code",
   "execution_count": 10,
   "id": "7718089f",
   "metadata": {},
   "outputs": [
    {
     "name": "stdout",
     "output_type": "stream",
     "text": [
      "Time to multiply a (1000, 1000) matrix by itself 200 times:\n",
      "CPU: 3.76033616065979 secs\n",
      "GPU not available\n"
     ]
    }
   ],
   "source": [
    "import time\n",
    "def measure (x, steps):  # A function with parameters x and steps, where x=size of array\n",
    "    tf.matmul (x,x)\n",
    "    start =time.time()\n",
    "    for i in range(steps):\n",
    "        x=tf.matmul(x,x)\n",
    "        _ = x.numpy()\n",
    "        end = time.time()\n",
    "    return end-start;   # The difference between the end time and start time is taken.\n",
    "shape=(1000,1000)\n",
    "steps=200\n",
    "print(\"Time to multiply a {} matrix by itself {} times:\".format(shape,steps))\n",
    "\n",
    "# Running on CPU:\n",
    "with tf.device (\"/cpu:0\"):\n",
    "    print(\"CPU: {} secs\".format(measure(tf.random.normal(shape), steps)))\n",
    "\n",
    "# Running on GPU if available:\n",
    "if tf.config.experimental.list_physical_devices(\"GPU\"):\n",
    "    with tf.device(\"/gpu:0\"):\n",
    "        print(\"GPU: {} secs\".format(measure(tf.random.normal(shape), steps)))\n",
    "else:\n",
    "    print(\"GPU not available\")\n",
    "            "
   ]
  },
  {
   "cell_type": "code",
   "execution_count": 13,
   "id": "cb59e9f8",
   "metadata": {},
   "outputs": [
    {
     "name": "stdout",
     "output_type": "stream",
     "text": [
      "Time to multiply a (2000, 2000) matrix by itself 200 times:\n",
      "CPU: 25.836796045303345 secs\n",
      "GPU not available\n"
     ]
    }
   ],
   "source": [
    "import time\n",
    "def measure (x, steps):\n",
    "    tf.matmul (x,x)\n",
    "    start =time.time()\n",
    "    for i in range(steps):\n",
    "        x=tf.matmul(x,x)\n",
    "        _ = x.numpy()\n",
    "        end = time.time()\n",
    "    return end-start;\n",
    "shape=(2000,2000)\n",
    "steps=200\n",
    "print(\"Time to multiply a {} matrix by itself {} times:\".format(shape,steps))\n",
    "\n",
    "# Running on CPU:\n",
    "with tf.device (\"/cpu:0\"):\n",
    "    print(\"CPU: {} secs\".format(measure(tf.random.normal(shape), steps)))\n",
    "\n",
    "# Running on GPU if available:\n",
    "if tf.config.experimental.list_physical_devices(\"GPU\"):\n",
    "    with tf.device(\"/gpu:0\"):\n",
    "        print(\"GPU: {} secs\".format(measure(tf.random.normal(shape), steps)))\n",
    "else:\n",
    "    print(\"GPU not available\")\n",
    "            "
   ]
  },
  {
   "cell_type": "code",
   "execution_count": 14,
   "id": "d8fcd0fa",
   "metadata": {},
   "outputs": [
    {
     "name": "stdout",
     "output_type": "stream",
     "text": [
      "Time to multiply a (5000, 5000) matrix by itself 200 times:\n",
      "CPU: 458.2754170894623 secs\n",
      "GPU not available\n"
     ]
    }
   ],
   "source": [
    "import time\n",
    "def measure (x, steps):\n",
    "    tf.matmul (x,x)\n",
    "    start =time.time()\n",
    "    for i in range(steps):\n",
    "        x=tf.matmul(x,x)\n",
    "        _ = x.numpy()\n",
    "        end = time.time()\n",
    "    return end-start;\n",
    "shape=(5000,5000)\n",
    "steps=200\n",
    "print(\"Time to multiply a {} matrix by itself {} times:\".format(shape,steps))\n",
    "\n",
    "# Running on CPU:\n",
    "with tf.device (\"/cpu:0\"):\n",
    "    print(\"CPU: {} secs\".format(measure(tf.random.normal(shape), steps)))\n",
    "\n",
    "# Running on GPU if available:\n",
    "if tf.config.experimental.list_physical_devices(\"GPU\"):\n",
    "    with tf.device(\"/gpu:0\"):\n",
    "        print(\"GPU: {} secs\".format(measure(tf.random.normal(shape), steps)))\n",
    "else:\n",
    "    print(\"GPU not available\")\n",
    "            "
   ]
  },
  {
   "cell_type": "markdown",
   "id": "1dea3bc9",
   "metadata": {},
   "source": [
    "# Ragged Tensors"
   ]
  },
  {
   "cell_type": "code",
   "execution_count": null,
   "id": "da9cbb13",
   "metadata": {},
   "outputs": [],
   "source": [
    "# Ragged tesnors deals with non uniform shapes of arrays, like addition, multiplication of non uniform shapes."
   ]
  },
  {
   "cell_type": "code",
   "execution_count": 17,
   "id": "29a44527",
   "metadata": {},
   "outputs": [],
   "source": [
    "import tensorflow as tf "
   ]
  },
  {
   "cell_type": "code",
   "execution_count": 18,
   "id": "940102fa",
   "metadata": {},
   "outputs": [
    {
     "name": "stdout",
     "output_type": "stream",
     "text": [
      "<tf.RaggedTensor [[6, 4, 7, 4], [], [8, 12, 5], [9], []]>\n",
      "tf.Tensor([2.25              nan 5.33333333 6.                nan], shape=(5,), dtype=float64)\n",
      "<tf.RaggedTensor [[3, 1, 4, 1], [], [5, 9, 2], [6], [], [5, 3]]>\n",
      "<tf.RaggedTensor [[3, 1, 4, 1, 3, 1, 4, 1], [], [5, 9, 2, 5, 9, 2], [6, 6], []]>\n",
      "<tf.RaggedTensor [[b'So', b'lo'], [b'th', b'fo', b'al', b'th', b'fi']]>\n",
      "<tf.RaggedTensor [[9, 1, 16, 1], [], [25, 81, 4], [36], []]>\n"
     ]
    }
   ],
   "source": [
    "digits=tf.ragged.constant ([[3,1,4,1], [], [5,9,2], [6], []])\n",
    "words=tf.ragged.constant([[\"So \", \"long\"], [\"thanks\", \"for\", \"all\", \"the\", \"fish\"]])\n",
    "\n",
    "print(tf.add(digits, 3))\n",
    "print(tf.reduce_mean(digits, axis=1))\n",
    "print(tf.concat([digits, [[5,3]]], axis=0))  # [5,3] will be added to the list.\n",
    "print(tf.tile(digits, [1,2]))\n",
    "print(tf.strings.substr(words, 0, 2))\n",
    "print(tf.map_fn(tf.math.square, digits))\n",
    "\n",
    "# Note: [] is taken as null array"
   ]
  },
  {
   "cell_type": "markdown",
   "id": "8156535f",
   "metadata": {},
   "source": [
    "# To check scalar and Vector of Strings"
   ]
  },
  {
   "cell_type": "code",
   "execution_count": 24,
   "id": "c93e00de",
   "metadata": {},
   "outputs": [
    {
     "name": "stdout",
     "output_type": "stream",
     "text": [
      "tf.Tensor(b'Gray wolf', shape=(), dtype=string)\n"
     ]
    }
   ],
   "source": [
    "scalar_string_tesnor = tf.constant(\"Gray wolf\")\n",
    "print(scalar_string_tesnor)"
   ]
  },
  {
   "cell_type": "code",
   "execution_count": 26,
   "id": "941364f6",
   "metadata": {},
   "outputs": [
    {
     "name": "stdout",
     "output_type": "stream",
     "text": [
      "tf.Tensor([b'Gray Wolf' b'Quick Brown fox' b'Lazy Dog'], shape=(3,), dtype=string)\n"
     ]
    }
   ],
   "source": [
    "tesnor_of_strings = tf.constant([\"Gray Wolf\", \"Quick Brown fox\", \"Lazy Dog\"])\n",
    "print(tesnor_of_strings)"
   ]
  },
  {
   "cell_type": "markdown",
   "id": "0367cf0d",
   "metadata": {},
   "source": [
    "# Indexing "
   ]
  },
  {
   "cell_type": "code",
   "execution_count": 27,
   "id": "9897e055",
   "metadata": {},
   "outputs": [],
   "source": [
    "import tensorflow as tf\n",
    "import numpy as np"
   ]
  },
  {
   "cell_type": "markdown",
   "id": "08044ba2",
   "metadata": {},
   "source": [
    "### Note: Indexing with scalar removes the dimensions"
   ]
  },
  {
   "cell_type": "code",
   "execution_count": 31,
   "id": "f4c845f4",
   "metadata": {},
   "outputs": [
    {
     "name": "stdout",
     "output_type": "stream",
     "text": [
      "[ 0  1  1  2  3  5  8 13 21 34]\n",
      "First: 0\n",
      "Second: 1\n",
      "Last: 34\n"
     ]
    }
   ],
   "source": [
    "rank_1_tesnor=tf.constant([0,1,1,2,3,5,8,13,21,34])\n",
    "print(rank_1_tesnor.numpy())\n",
    "print(\"First:\", rank_1_tesnor[0].numpy())\n",
    "print(\"Second:\", rank_1_tesnor[1].numpy())\n",
    "print(\"Last:\", rank_1_tesnor[-1].numpy())"
   ]
  },
  {
   "cell_type": "markdown",
   "id": "493105fc",
   "metadata": {},
   "source": [
    "### Note: Indexing with a: slice keeps the dimension"
   ]
  },
  {
   "cell_type": "code",
   "execution_count": 32,
   "id": "d014d09e",
   "metadata": {},
   "outputs": [
    {
     "name": "stdout",
     "output_type": "stream",
     "text": [
      "Everything: [ 0  1  1  2  3  5  8 13 21 34]\n",
      "Before 4 [0 1 1 2]\n",
      "After 4 [ 3  5  8 13 21 34]\n",
      "From 2 to beofre 7 [1 2 3 5 8]\n",
      "Every other item [ 0  1  3  8 21]\n",
      "reversed [34 21 13  8  5  3  2  1  1  0]\n"
     ]
    }
   ],
   "source": [
    "print(\"Everything:\", rank_1_tesnor[:].numpy())\n",
    "print(\"Before 4\", rank_1_tesnor[:4].numpy())\n",
    "print(\"After 4\", rank_1_tesnor[4:].numpy())\n",
    "print(\"From 2 to beofre 7\", rank_1_tesnor[2:7].numpy())\n",
    "print(\"Every other item\", rank_1_tesnor[::2].numpy())\n",
    "print(\"reversed\", rank_1_tesnor[::-1].numpy())"
   ]
  },
  {
   "cell_type": "markdown",
   "id": "31dd8ad7",
   "metadata": {},
   "source": [
    "# Multi-Axis Indexing"
   ]
  },
  {
   "cell_type": "markdown",
   "id": "041cbb54",
   "metadata": {},
   "source": [
    "### Note: Higher rank tensors are indexed by passing multiple indices"
   ]
  },
  {
   "cell_type": "markdown",
   "id": "f76a60c2",
   "metadata": {},
   "source": [
    "### Note: The rules are same as that of singl axis case, just that it has to be applied on each index"
   ]
  },
  {
   "cell_type": "code",
   "execution_count": 35,
   "id": "d39c3786",
   "metadata": {},
   "outputs": [
    {
     "name": "stdout",
     "output_type": "stream",
     "text": [
      "[[1. 2.]\n",
      " [3. 4.]\n",
      " [5. 6.]]\n"
     ]
    }
   ],
   "source": [
    "import tensorflow as tf\n",
    "import numpy as np\n",
    "rank_2_tensor=tf.constant([[1,2], [3,4], [5,6]], dtype=tf.float16)\n",
    "print(rank_2_tensor.numpy())"
   ]
  },
  {
   "cell_type": "markdown",
   "id": "63670b51",
   "metadata": {},
   "source": [
    "### Passing an integer for each index the result is a scalar"
   ]
  },
  {
   "cell_type": "code",
   "execution_count": 36,
   "id": "f5f53c63",
   "metadata": {},
   "outputs": [
    {
     "name": "stdout",
     "output_type": "stream",
     "text": [
      "4.0\n"
     ]
    }
   ],
   "source": [
    "print(rank_2_tensor[1,1].numpy())"
   ]
  },
  {
   "cell_type": "markdown",
   "id": "69a3ad5c",
   "metadata": {},
   "source": [
    "### We can index using any combination of integers and slices"
   ]
  },
  {
   "cell_type": "code",
   "execution_count": 37,
   "id": "af1e8f2a",
   "metadata": {},
   "outputs": [],
   "source": [
    "# Getting rows and columns of tensor"
   ]
  },
  {
   "cell_type": "code",
   "execution_count": 1,
   "id": "2305a18a",
   "metadata": {},
   "outputs": [
    {
     "ename": "NameError",
     "evalue": "name 'rank_2_tensor' is not defined",
     "output_type": "error",
     "traceback": [
      "\u001b[0;31m---------------------------------------------------------------------------\u001b[0m",
      "\u001b[0;31mNameError\u001b[0m                                 Traceback (most recent call last)",
      "\u001b[0;32m<ipython-input-1-1d40b6331249>\u001b[0m in \u001b[0;36m<module>\u001b[0;34m\u001b[0m\n\u001b[0;32m----> 1\u001b[0;31m \u001b[0mprint\u001b[0m\u001b[0;34m(\u001b[0m\u001b[0;34m\"Second row:\"\u001b[0m\u001b[0;34m,\u001b[0m \u001b[0mrank_2_tensor\u001b[0m\u001b[0;34m[\u001b[0m\u001b[0;36m1\u001b[0m\u001b[0;34m,\u001b[0m\u001b[0;34m:\u001b[0m\u001b[0;34m]\u001b[0m\u001b[0;34m.\u001b[0m\u001b[0mnumpy\u001b[0m\u001b[0;34m(\u001b[0m\u001b[0;34m)\u001b[0m\u001b[0;34m)\u001b[0m\u001b[0;34m\u001b[0m\u001b[0;34m\u001b[0m\u001b[0m\n\u001b[0m\u001b[1;32m      2\u001b[0m \u001b[0mprint\u001b[0m\u001b[0;34m(\u001b[0m\u001b[0;34m\"Second row:\"\u001b[0m\u001b[0;34m,\u001b[0m \u001b[0mrank_2_tensor\u001b[0m\u001b[0;34m[\u001b[0m\u001b[0;36m1\u001b[0m\u001b[0;34m,\u001b[0m\u001b[0;34m:\u001b[0m\u001b[0;34m]\u001b[0m\u001b[0;34m.\u001b[0m\u001b[0mnumpy\u001b[0m\u001b[0;34m(\u001b[0m\u001b[0;34m)\u001b[0m\u001b[0;34m)\u001b[0m\u001b[0;34m\u001b[0m\u001b[0;34m\u001b[0m\u001b[0m\n\u001b[1;32m      3\u001b[0m \u001b[0mprint\u001b[0m\u001b[0;34m(\u001b[0m\u001b[0;34m\"Second row:\"\u001b[0m\u001b[0;34m,\u001b[0m \u001b[0mrank_2_tensor\u001b[0m\u001b[0;34m[\u001b[0m\u001b[0;36m1\u001b[0m\u001b[0;34m,\u001b[0m\u001b[0;34m:\u001b[0m\u001b[0;34m]\u001b[0m\u001b[0;34m.\u001b[0m\u001b[0mnumpy\u001b[0m\u001b[0;34m(\u001b[0m\u001b[0;34m)\u001b[0m\u001b[0;34m)\u001b[0m\u001b[0;34m\u001b[0m\u001b[0;34m\u001b[0m\u001b[0m\n\u001b[1;32m      4\u001b[0m \u001b[0mprint\u001b[0m\u001b[0;34m(\u001b[0m\u001b[0;34m\"Second row:\"\u001b[0m\u001b[0;34m,\u001b[0m \u001b[0mrank_2_tensor\u001b[0m\u001b[0;34m[\u001b[0m\u001b[0;36m1\u001b[0m\u001b[0;34m,\u001b[0m\u001b[0;34m:\u001b[0m\u001b[0;34m]\u001b[0m\u001b[0;34m.\u001b[0m\u001b[0mnumpy\u001b[0m\u001b[0;34m(\u001b[0m\u001b[0;34m)\u001b[0m\u001b[0;34m)\u001b[0m\u001b[0;34m\u001b[0m\u001b[0;34m\u001b[0m\u001b[0m\n\u001b[1;32m      5\u001b[0m \u001b[0mprint\u001b[0m\u001b[0;34m(\u001b[0m\u001b[0;34m\"Second row:\"\u001b[0m\u001b[0;34m,\u001b[0m \u001b[0mrank_2_tensor\u001b[0m\u001b[0;34m[\u001b[0m\u001b[0;36m1\u001b[0m\u001b[0;34m,\u001b[0m\u001b[0;34m:\u001b[0m\u001b[0;34m]\u001b[0m\u001b[0;34m.\u001b[0m\u001b[0mnumpy\u001b[0m\u001b[0;34m(\u001b[0m\u001b[0;34m)\u001b[0m\u001b[0;34m)\u001b[0m\u001b[0;34m\u001b[0m\u001b[0;34m\u001b[0m\u001b[0m\n",
      "\u001b[0;31mNameError\u001b[0m: name 'rank_2_tensor' is not defined"
     ]
    }
   ],
   "source": [
    "print(\"Second row:\", rank_2_tensor[1,:].numpy())\n",
    "print(\"Second row:\", rank_2_tensor[1,:].numpy())\n",
    "print(\"Second row:\", rank_2_tensor[1,:].numpy())\n",
    "print(\"Second row:\", rank_2_tensor[1,:].numpy())\n",
    "print(\"Second row:\", rank_2_tensor[1,:].numpy())\n",
    "print(\"Second row:\", rank_2_tensor[1,:].numpy())\n",
    "print(\"Second row:\", rank_2_tensor[1,:].numpy())\n"
   ]
  },
  {
   "cell_type": "markdown",
   "id": "8acfa0c3",
   "metadata": {},
   "source": [
    "# Graphs in tensor"
   ]
  },
  {
   "cell_type": "code",
   "execution_count": 2,
   "id": "691ba7fd",
   "metadata": {},
   "outputs": [],
   "source": [
    "# Define a python function"
   ]
  },
  {
   "cell_type": "code",
   "execution_count": 24,
   "id": "505216fb",
   "metadata": {},
   "outputs": [
    {
     "data": {
      "text/plain": [
       "array([[12.]], dtype=float32)"
      ]
     },
     "execution_count": 24,
     "metadata": {},
     "output_type": "execute_result"
    }
   ],
   "source": [
    "import tensorflow as tf\n",
    "import numpy as np\n",
    "def a_regular_function(x,y,b):\n",
    "    x=tf.matmul(x,y)\n",
    "    \n",
    "    x=x+b\n",
    "    return x\n",
    "\n",
    "# 'a_function_that_uses_a_graph' is a TensorFlow 'Function'\n",
    "a_function_that_uses_a_graph=tf.function(a_regular_function)\n",
    "\n",
    "# Make some tensors\n",
    "x1=tf.constant([[1.0,2.0]])\n",
    "y1=tf.constant([[2.0],[3.0]])\n",
    "b1=tf.constant(4.0)\n",
    "\n",
    "orig_value=a_regular_function(x1, y1, b1).numpy()\n",
    "#Call a 'Function' like a python fucntion\n",
    "tf_function_value=a_function_that_uses_a_graph(x1,y1,b1).numpy()\n",
    "assert(orig_value==tf_function_value)\n",
    "\n",
    "def inner_function(x,y,b):\n",
    "    x=tf.matmul(x,y)\n",
    "    x=x+b\n",
    "    return x\n",
    "\n",
    "# Use the decorator to make outer_function a 'Function'\n",
    "@tf.function\n",
    "def outer_function(x):\n",
    "    y=tf.constant([[2.0], [3.0]])\n",
    "    b=tf.constant(4.0)\n",
    "    \n",
    "    return inner_function(x,y,b)\n",
    "\n",
    "# Note that collable will create a graph that includes 'inner_function' as well as 'outer_function'.\n",
    "outer_function(tf.constant([[1.0,2.0]])).numpy()"
   ]
  },
  {
   "cell_type": "code",
   "execution_count": 1,
   "id": "b8369b06",
   "metadata": {},
   "outputs": [
    {
     "ename": "SyntaxError",
     "evalue": "unexpected EOF while parsing (<ipython-input-1-d9c85a95987e>, line 14)",
     "output_type": "error",
     "traceback": [
      "\u001b[0;36m  File \u001b[0;32m\"<ipython-input-1-d9c85a95987e>\"\u001b[0;36m, line \u001b[0;32m14\u001b[0m\n\u001b[0;31m    print(tf_simple_relu.get_concrete_fucntion\u001b[0m\n\u001b[0m                                              ^\u001b[0m\n\u001b[0;31mSyntaxError\u001b[0m\u001b[0;31m:\u001b[0m unexpected EOF while parsing\n"
     ]
    }
   ],
   "source": [
    "def simple_relu(x):\n",
    "    if tf.greater(x,0):\n",
    "        return x\n",
    "    else:\n",
    "        return 0\n",
    "# tf_simple_relu is a tensor flow function that wraps simple relu\n",
    "tf_simpe_relu =tf.function(simple_relu)\n",
    "print(\"First Branch, with graphs:\", tf_simple_relu(tf.constant(-1)).numpy())\n",
    "\n",
    "# This is the graoh generating output of AutoGraph\n",
    "print(tf.autograph.tp_code(simple_relu))\n",
    "\n",
    "# This is the graph itself\n",
    "print(tf_simple_relu.get_concrete_fucntion"
   ]
  },
  {
   "cell_type": "markdown",
   "id": "74a54852",
   "metadata": {},
   "source": [
    "# Linear Regression"
   ]
  },
  {
   "cell_type": "code",
   "execution_count": 2,
   "id": "cce465b6",
   "metadata": {},
   "outputs": [],
   "source": [
    "import numpy as np\n",
    "import tensorflow as tf\n",
    "import matplotlib.pyplot as plt"
   ]
  },
  {
   "cell_type": "code",
   "execution_count": 5,
   "id": "891632f7",
   "metadata": {},
   "outputs": [],
   "source": [
    "np.random.seed(101)\n",
    "tf.random.set_seed(101)"
   ]
  },
  {
   "cell_type": "code",
   "execution_count": 7,
   "id": "c6e2f608",
   "metadata": {},
   "outputs": [],
   "source": [
    "# Generatimg random linear data\n",
    "# There will be 50 data points ranging from 0 to 50\n",
    "x=np.linspace(0,50,50)\n",
    "y=np.linspace(0,50,50)"
   ]
  },
  {
   "cell_type": "code",
   "execution_count": 9,
   "id": "b3a5811e",
   "metadata": {},
   "outputs": [
    {
     "data": {
      "image/png": "[encoded data removed]",
      "text/plain": [
       "<Figure size 432x288 with 1 Axes>"
      ]
     },
     "metadata": {
      "needs_background": "light"
     },
     "output_type": "display_data"
    }
   ],
   "source": [
    "# Adding noice to the random linear data\n",
    "x+=np.random.uniform(-4,4,50)\n",
    "y+=np.random.uniform(-4,4,50)\n",
    "n=len(x) # Number of data points\n",
    "\n",
    "# Plotting of training data\n",
    "plt.scatter(x,y)\n",
    "plt.xlabel('x')\n",
    "plt.ylabel('y')\n",
    "plt.title(\"Training Data\")\n",
    "plt.show()"
   ]
  },
  {
   "cell_type": "code",
   "execution_count": 14,
   "id": "18d7e505",
   "metadata": {},
   "outputs": [
    {
     "name": "stdout",
     "output_type": "stream",
     "text": [
      "WARNING:tensorflow:From /Users/amarjitkumar/opt/anaconda3/lib/python3.8/site-packages/tensorflow/python/compat/v2_compat.py:107: disable_resource_variables (from tensorflow.python.ops.variable_scope) is deprecated and will be removed in a future version.\n",
      "Instructions for updating:\n",
      "non-resource variables are not supported in the long term\n"
     ]
    }
   ],
   "source": [
    "# Creating of model by defining the placeholders X and Y\n",
    "import tensorflow.compat.v1 as tf\n",
    "tf.disable_v2_behavior()\n",
    "\n",
    "X=tf.placeholder(\"float\")\n",
    "Y=tf.placeholder(\"float\")\n",
    "\n",
    "# Declaring two tensorflow trainable variables\n",
    "W=tf.Variable(np.random.randn(), name=\"W\")\n",
    "b=tf.Variable(np.random.randn(), name=\"b\")\n",
    "\n",
    "# Defining the hyperparameters of the model\n",
    "learning_rate=0.01\n",
    "training_epochs=1000"
   ]
  },
  {
   "cell_type": "code",
   "execution_count": 15,
   "id": "816e3b10",
   "metadata": {},
   "outputs": [],
   "source": [
    "# Now we will be buiding the hypothesis and the optimizer"
   ]
  },
  {
   "cell_type": "code",
   "execution_count": 17,
   "id": "ee3167c2",
   "metadata": {},
   "outputs": [],
   "source": [
    "# Hypothesis\n",
    "y_pred=tf.add(tf.multiply(X,W), b)"
   ]
  },
  {
   "cell_type": "code",
   "execution_count": 19,
   "id": "4da53d78",
   "metadata": {},
   "outputs": [],
   "source": [
    "# Mean Squared Error Cost Function\n",
    "cost=tf.reduce_sum(tf.pow(y_pred-Y, 2))/(2*n)"
   ]
  },
  {
   "cell_type": "code",
   "execution_count": 20,
   "id": "067c43bf",
   "metadata": {},
   "outputs": [],
   "source": [
    "# Gradient Descent Optimizer\n",
    "optimizer=tf.train.GradientDescentOptimizer(learning_rate).minimize(cost)"
   ]
  },
  {
   "cell_type": "code",
   "execution_count": 21,
   "id": "394a4d86",
   "metadata": {},
   "outputs": [],
   "source": [
    "# Global Variable Initializer\n",
    "init=tf.global_variables_initializer()"
   ]
  },
  {
   "cell_type": "code",
   "execution_count": 22,
   "id": "b02c72bb",
   "metadata": {},
   "outputs": [],
   "source": [
    "# Now we will beigin the traning process    "
   ]
  },
  {
   "cell_type": "code",
   "execution_count": 24,
   "id": "386327ae",
   "metadata": {},
   "outputs": [
    {
     "name": "stdout",
     "output_type": "stream",
     "text": [
      "Epoch 50 :cost= 0.0025639567 W= 0.9951241 b= 1.238105\n",
      "Epoch 100 :cost= 0.0025335285 W= 0.99812365 b= 1.0914395\n",
      "Epoch 150 :cost= 0.0025064892 W= 1.0008028 b= 0.96044284\n",
      "Epoch 200 :cost= 0.0024824452 W= 1.0031956 b= 0.84343934\n",
      "Epoch 250 :cost= 0.0024611657 W= 1.0053328 b= 0.7389355\n",
      "Epoch 300 :cost= 0.002442089 W= 1.007242 b= 0.6455921\n",
      "Epoch 350 :cost= 0.0024251896 W= 1.008947 b= 0.56221986\n",
      "Epoch 400 :cost= 0.0024101094 W= 1.01047 b= 0.48775342\n",
      "Epoch 450 :cost= 0.0023967566 W= 1.0118302 b= 0.42124158\n",
      "Epoch 500 :cost= 0.0023847818 W= 1.0130452 b= 0.36183482\n",
      "Epoch 550 :cost= 0.002374101 W= 1.0141305 b= 0.30877408\n",
      "Epoch 600 :cost= 0.002364668 W= 1.0150996 b= 0.2613811\n",
      "Epoch 650 :cost= 0.0023562168 W= 1.0159653 b= 0.21905078\n",
      "Epoch 700 :cost= 0.002348631 W= 1.0167387 b= 0.18124203\n",
      "Epoch 750 :cost= 0.0023419065 W= 1.0174294 b= 0.14747237\n",
      "Epoch 800 :cost= 0.002335966 W= 1.0180461 b= 0.11730931\n",
      "Epoch 850 :cost= 0.0023305856 W= 1.0185971 b= 0.090368524\n",
      "Epoch 900 :cost= 0.0023258366 W= 1.0190892 b= 0.06630575\n",
      "Epoch 950 :cost= 0.0023215336 W= 1.0195289 b= 0.044813294\n",
      "Epoch 1000 :cost= 0.0023177858 W= 1.0199214 b= 0.02561658\n"
     ]
    }
   ],
   "source": [
    "# Starting the tensorflow session\n",
    "with tf.Session() as sess:\n",
    "    #Initializing the variables\n",
    "    sess.run(init)\n",
    "    # iterating through all epochs\n",
    "    for epoch in range(training_epochs):\n",
    "        # Feeding each data point into the optimizer using Feed Dictionary\n",
    "        for(_x, _y) in zip(x,y):\n",
    "            sess.run(optimizer, feed_dict={X:_x, Y:_y})\n",
    "        # Displaying the result after every 50 epochs\n",
    "        if(epoch+1)%50==0:\n",
    "            # Calculating the cost of every epoch\n",
    "            c=sess.run(cost,feed_dict={X:_x, Y:_y})\n",
    "            print(\"Epoch\", (epoch+1), \":cost=\", c, \"W=\", sess.run(W), \"b=\", sess.run(b))\n",
    "        # Storing necessary values to be used outside the function\n",
    "        training_cost=sess.run(cost, feed_dict={X:_x, Y:_y})\n",
    "        weight=sess.run(W)\n",
    "        bias=sess.run(b)"
   ]
  },
  {
   "cell_type": "code",
   "execution_count": 25,
   "id": "2eb357e5",
   "metadata": {},
   "outputs": [
    {
     "name": "stdout",
     "output_type": "stream",
     "text": [
      "Training cost= 0.0023177858 Weight= 1.0199214 bias= 0.02561658 \n",
      "\n"
     ]
    }
   ],
   "source": [
    "# Calculating the predictions\n",
    "predictions=weight*x+bias\n",
    "print(\"Training cost=\", training_cost, \"Weight=\", weight, \"bias=\", bias, \"\\n\")"
   ]
  },
  {
   "cell_type": "code",
   "execution_count": 26,
   "id": "7688598a",
   "metadata": {},
   "outputs": [
    {
     "data": {
      "image/png": "[encoded data removed]",
      "text/plain": [
       "<Figure size 432x288 with 1 Axes>"
      ]
     },
     "metadata": {
      "needs_background": "light"
     },
     "output_type": "display_data"
    }
   ],
   "source": [
    "# Plotting the results\n",
    "plt.plot(x,y, 'ro', label=\"Original data\")\n",
    "plt.plot(x, predictions, label=\"Fitted line\")\n",
    "plt.title(\"Linear Regression Result\")\n",
    "plt.legend()\n",
    "plt.show()"
   ]
  },
  {
   "cell_type": "markdown",
   "id": "759fb619",
   "metadata": {},
   "source": [
    "## What is epoch?\n",
    "### It indicates the number of passes of the entire training dataset the machine learning algorithm has completed"
   ]
  },
  {
   "cell_type": "markdown",
   "id": "cba6050a",
   "metadata": {},
   "source": [
    "# Multi-layer perceptron"
   ]
  },
  {
   "cell_type": "code",
   "execution_count": 1,
   "id": "80974697",
   "metadata": {},
   "outputs": [],
   "source": [
    "# Single layer perceptron: There are no hidden layers\n",
    "# Also in single layer perceptron, there is no backtracking\n",
    "\n",
    "# Whereas in multilayer perceptron, there is backtracking and also hidden layer is present."
   ]
  },
  {
   "cell_type": "markdown",
   "id": "16d6d1b9",
   "metadata": {},
   "source": [
    "# Implementation"
   ]
  },
  {
   "cell_type": "code",
   "execution_count": 2,
   "id": "13b4d24f",
   "metadata": {},
   "outputs": [],
   "source": [
    "# Importing the required library\n"
   ]
  },
  {
   "cell_type": "code",
   "execution_count": 7,
   "id": "dd8a8019",
   "metadata": {},
   "outputs": [],
   "source": [
    "import tensorflow as tf\n",
    "import numpy as np\n",
    "from tensorflow.keras.models import Sequential\n",
    "from tensorflow.keras.layers import Flatten\n",
    "from tensorflow.keras.layers import Dense\n",
    "from tensorflow.keras.layers import Activation\n",
    "import matplotlib.pyplot as plt"
   ]
  },
  {
   "cell_type": "code",
   "execution_count": 8,
   "id": "edfebb4b",
   "metadata": {},
   "outputs": [],
   "source": [
    "# Use the MNIST dataset to show how it works. It can be used as a train and test dataset immediately as it is build into TesnorFlow"
   ]
  },
  {
   "cell_type": "code",
   "execution_count": 9,
   "id": "c258dd3d",
   "metadata": {},
   "outputs": [],
   "source": [
    "(x_train, y_train), (x_test, y_test) = tf.keras.datasets.mnist.load_data()"
   ]
  },
  {
   "cell_type": "code",
   "execution_count": 10,
   "id": "c9065ae8",
   "metadata": {},
   "outputs": [],
   "source": [
    "# Turn the pixel values into floating-value to make the predictions. Changing the number to graysacle values will help because\n",
    "# they will get smaller and make math easier and faster. As the value of pixel range from 0 to 255, eveything except 0 is 255. If we divide all the numbers by 255"
   ]
  },
  {
   "cell_type": "code",
   "execution_count": 11,
   "id": "63474171",
   "metadata": {},
   "outputs": [
    {
     "name": "stdout",
     "output_type": "stream",
     "text": [
      "Feature Matrix: (60000, 28, 28)\n",
      "Target Matrix: (10000, 28, 28)\n",
      "Feature Matrix: (60000,)\n",
      "Target Matrix: (10000,)\n"
     ]
    }
   ],
   "source": [
    "x_train=x_train.astype('float32')\n",
    "x_test=x_test.astype('float32')\n",
    "\n",
    "# For normalization image pixel values are divided by 255\n",
    "gray_scale=255\n",
    "x_train /=gray_scale\n",
    "x_test /=gray_scale\n",
    "\n",
    "# To understand the structure of dataset\n",
    "print(\"Feature Matrix:\", x_train.shape)\n",
    "print(\"Target Matrix:\", x_test.shape)\n",
    "print(\"Feature Matrix:\", y_train.shape)\n",
    "print(\"Target Matrix:\", y_test.shape)"
   ]
  },
  {
   "cell_type": "code",
   "execution_count": 12,
   "id": "1ef32a75",
   "metadata": {},
   "outputs": [
    {
     "data": {
      "image/png": "[encoded data removed]",
      "text/plain": [
       "<Figure size 432x288 with 100 Axes>"
      ]
     },
     "metadata": {
      "needs_background": "light"
     },
     "output_type": "display_data"
    }
   ],
   "source": [
    "# Visulaize the data\n",
    "fig, ax=plt.subplots(10,10)\n",
    "k=0\n",
    "for i in range(10):\n",
    "    for j in range(10):\n",
    "        ax[i][j].imshow(x_train[k].reshape(28,28), aspect='auto')\n",
    "        k+=1\n",
    "    plt.show()"
   ]
  },
  {
   "cell_type": "code",
   "execution_count": 24,
   "id": "bad4b53a",
   "metadata": {},
   "outputs": [],
   "source": [
    "# reshape 28 row828 columns due to 28*28 rows\n",
    "model=Sequential([\n",
    "    Flatten(input_shape=(28,28)),\n",
    "    # Dense Layer 1\n",
    "    Dense(256, activation='sigmoid'),\n",
    "\n",
    "    # dense layer 2\n",
    "    Dense(128, activation='sigmoid'),\n",
    "\n",
    "    # Output layer\n",
    "    Dense(10, activation='sigmoid')])"
   ]
  },
  {
   "cell_type": "code",
   "execution_count": 26,
   "id": "08ee8b4c",
   "metadata": {},
   "outputs": [],
   "source": [
    "# Compile the model\n",
    "model.compile(optimizer='adam', loss='sparse_categorical_crossentropy', metrics=['accuracy'])"
   ]
  },
  {
   "cell_type": "code",
   "execution_count": 27,
   "id": "a7cc08e7",
   "metadata": {},
   "outputs": [],
   "source": [
    "# Fitting the model"
   ]
  },
  {
   "cell_type": "code",
   "execution_count": 28,
   "id": "0a68e294",
   "metadata": {},
   "outputs": [
    {
     "name": "stdout",
     "output_type": "stream",
     "text": [
      "Epoch 1/10\n",
      "24/24 [==============================] - 1s 37ms/step - loss: 2.0698 - accuracy: 0.4477 - val_loss: 1.7064 - val_accuracy: 0.7054\n",
      "Epoch 2/10\n",
      "24/24 [==============================] - 1s 31ms/step - loss: 1.3695 - accuracy: 0.7349 - val_loss: 1.0109 - val_accuracy: 0.8059\n",
      "Epoch 3/10\n",
      "24/24 [==============================] - 1s 31ms/step - loss: 0.8423 - accuracy: 0.8256 - val_loss: 0.6534 - val_accuracy: 0.8668\n",
      "Epoch 4/10\n",
      "24/24 [==============================] - 1s 31ms/step - loss: 0.5892 - accuracy: 0.8704 - val_loss: 0.4842 - val_accuracy: 0.8911\n",
      "Epoch 5/10\n",
      "24/24 [==============================] - 1s 31ms/step - loss: 0.4623 - accuracy: 0.8900 - val_loss: 0.3981 - val_accuracy: 0.9036\n",
      "Epoch 6/10\n",
      "24/24 [==============================] - 1s 31ms/step - loss: 0.3929 - accuracy: 0.9001 - val_loss: 0.3477 - val_accuracy: 0.9095\n",
      "Epoch 7/10\n",
      "24/24 [==============================] - 1s 33ms/step - loss: 0.3501 - accuracy: 0.9076 - val_loss: 0.3162 - val_accuracy: 0.9147\n",
      "Epoch 8/10\n",
      "24/24 [==============================] - 1s 38ms/step - loss: 0.3210 - accuracy: 0.9122 - val_loss: 0.2932 - val_accuracy: 0.9216\n",
      "Epoch 9/10\n",
      "24/24 [==============================] - 1s 33ms/step - loss: 0.2985 - accuracy: 0.9170 - val_loss: 0.2767 - val_accuracy: 0.9238\n",
      "Epoch 10/10\n",
      "24/24 [==============================] - 1s 32ms/step - loss: 0.2810 - accuracy: 0.9215 - val_loss: 0.2616 - val_accuracy: 0.9263\n"
     ]
    },
    {
     "data": {
      "text/plain": [
       "<keras.callbacks.History at 0x7fa3d9e52ee0>"
      ]
     },
     "execution_count": 28,
     "metadata": {},
     "output_type": "execute_result"
    }
   ],
   "source": [
    "model.fit(x_train, y_train, epochs=10, batch_size=2000, validation_split=0.2)"
   ]
  },
  {
   "cell_type": "code",
   "execution_count": 29,
   "id": "1eb3e289",
   "metadata": {},
   "outputs": [
    {
     "name": "stdout",
     "output_type": "stream",
     "text": [
      "test loss, test acc: [0.2664797008037567, 0.9244999885559082]\n"
     ]
    }
   ],
   "source": [
    "# The code to find model accuracy is\n",
    "results=model.evaluate(x_test, y_test, verbose=0)\n",
    "print('test loss, test acc:', results)"
   ]
  },
  {
   "cell_type": "markdown",
   "id": "62e4a5c3",
   "metadata": {},
   "source": [
    "# Tesnorflow Optimimzer"
   ]
  },
  {
   "cell_type": "code",
   "execution_count": null,
   "id": "6107a4f2",
   "metadata": {},
   "outputs": [],
   "source": []
  },
  {
   "cell_type": "markdown",
   "id": "5a39714a",
   "metadata": {},
   "source": [
    "# Keras: The Sequential Model"
   ]
  },
  {
   "cell_type": "code",
   "execution_count": 1,
   "id": "2368bbea",
   "metadata": {},
   "outputs": [],
   "source": [
    "import tensorflow as tf\n",
    "from tensorflow import keras\n",
    "from tensorflow.keras import layers"
   ]
  },
  {
   "cell_type": "code",
   "execution_count": 2,
   "id": "46fa051a",
   "metadata": {},
   "outputs": [],
   "source": [
    "# Defining sequntial model with three layers"
   ]
  },
  {
   "cell_type": "code",
   "execution_count": 3,
   "id": "e80a17e4",
   "metadata": {},
   "outputs": [],
   "source": [
    "model=keras.Sequential(\n",
    "[\n",
    "    layers.Dense(2, activation='relu', name=\"layer1\"),\n",
    "    layers.Dense(3, activation='relu', name=\"layer2\"),\n",
    "    layers.Dense(4, name=\"layer3\"),\n",
    "]\n",
    ")"
   ]
  },
  {
   "cell_type": "code",
   "execution_count": 5,
   "id": "db2d6027",
   "metadata": {},
   "outputs": [],
   "source": [
    "# Call model on test input\n",
    "x=tf.ones((3,3))\n",
    "y=model(x)"
   ]
  },
  {
   "cell_type": "markdown",
   "id": "ce00ddfa",
   "metadata": {},
   "source": [
    "# The Above Code is equivalent to"
   ]
  },
  {
   "cell_type": "code",
   "execution_count": 6,
   "id": "9ef37798",
   "metadata": {},
   "outputs": [],
   "source": [
    "# Creating three layers\n",
    "layer1=layers.Dense(2, activation='relu', name=\"layer1\")\n",
    "layer2=layers.Dense(3, activation='relu', name=\"layer2\")\n",
    "layer3=layers.Dense(4, name=\"layer3\")"
   ]
  },
  {
   "cell_type": "code",
   "execution_count": 8,
   "id": "430d8523",
   "metadata": {},
   "outputs": [],
   "source": [
    "# Call layers on a test input\n",
    "x=tf.ones((3,3))\n",
    "y=layer3(layer2(layer1(x)))"
   ]
  },
  {
   "cell_type": "code",
   "execution_count": 9,
   "id": "c3478a73",
   "metadata": {},
   "outputs": [],
   "source": [
    "# pop method is used to remove layer"
   ]
  },
  {
   "cell_type": "code",
   "execution_count": 10,
   "id": "b099286e",
   "metadata": {},
   "outputs": [
    {
     "name": "stdout",
     "output_type": "stream",
     "text": [
      "2\n"
     ]
    }
   ],
   "source": [
    "model.pop()\n",
    "print(len(model.layers))"
   ]
  },
  {
   "cell_type": "code",
   "execution_count": 11,
   "id": "c965db89",
   "metadata": {},
   "outputs": [],
   "source": [
    "# Nanimg the models in case we have more than one model or we want to give meaningful name to the model\n",
    "model=keras.Sequential(name=\"my_sequential\")\n",
    "model.add(layers.Dense(2, activation='relu', name=\"layer1\"))\n",
    "model.add(layers.Dense(3, activation='relu', name=\"layer2\"))\n",
    "model.add(layers.Dense(4, name=\"layer3\"))"
   ]
  },
  {
   "cell_type": "code",
   "execution_count": 12,
   "id": "892a9119",
   "metadata": {},
   "outputs": [
    {
     "data": {
      "text/plain": [
       "[]"
      ]
     },
     "execution_count": 12,
     "metadata": {},
     "output_type": "execute_result"
    }
   ],
   "source": [
    "# Effect of specifying the input shape in advance\n",
    "layer=layers.Dense(3)\n",
    "layer.weights"
   ]
  },
  {
   "cell_type": "code",
   "execution_count": 13,
   "id": "52584884",
   "metadata": {},
   "outputs": [],
   "source": [
    "# The above output states that it is an Empty output"
   ]
  },
  {
   "cell_type": "code",
   "execution_count": 17,
   "id": "6019a69d",
   "metadata": {},
   "outputs": [
    {
     "data": {
      "text/plain": [
       "[<tf.Variable 'dense/kernel:0' shape=(4, 3) dtype=float32, numpy=\n",
       " array([[-0.6041925 ,  0.17066121,  0.80183613],\n",
       "        [-0.83672994, -0.8670063 ,  0.74914956],\n",
       "        [-0.6301912 ,  0.78592396,  0.39163458],\n",
       "        [-0.90849525,  0.27932262, -0.12932467]], dtype=float32)>,\n",
       " <tf.Variable 'dense/bias:0' shape=(3,) dtype=float32, numpy=array([0., 0., 0.], dtype=float32)>]"
      ]
     },
     "execution_count": 17,
     "metadata": {},
     "output_type": "execute_result"
    }
   ],
   "source": [
    "# Call layer on a test input\n",
    "x=tf.ones((1,4))\n",
    "y=layer(x)\n",
    "layer.weights"
   ]
  },
  {
   "cell_type": "code",
   "execution_count": 19,
   "id": "ac493f97",
   "metadata": {},
   "outputs": [],
   "source": [
    "model=keras.Sequential(\n",
    "[\n",
    "    layers.Dense(2, activation='relu'),\n",
    "    layers.Dense(3, activation='relu'),\n",
    "    layers.Dense(4),\n",
    "]\n",
    ")"
   ]
  },
  {
   "cell_type": "code",
   "execution_count": 20,
   "id": "2f00036c",
   "metadata": {},
   "outputs": [],
   "source": [
    "# In the above code at this point we can't do model.weights\n",
    "# Also we can't do model.summary()"
   ]
  },
  {
   "cell_type": "code",
   "execution_count": 22,
   "id": "5962c4b2",
   "metadata": {},
   "outputs": [
    {
     "name": "stdout",
     "output_type": "stream",
     "text": [
      "Number of weights after calling the model: 6\n",
      "Model: \"sequential_1\"\n",
      "_________________________________________________________________\n",
      " Layer (type)                Output Shape              Param #   \n",
      "=================================================================\n",
      " dense_2 (Dense)             (1, 2)                    10        \n",
      "                                                                 \n",
      " dense_3 (Dense)             (1, 3)                    9         \n",
      "                                                                 \n",
      " dense_4 (Dense)             (1, 4)                    16        \n",
      "                                                                 \n",
      "=================================================================\n",
      "Total params: 35\n",
      "Trainable params: 35\n",
      "Non-trainable params: 0\n",
      "_________________________________________________________________\n"
     ]
    }
   ],
   "source": [
    "# Calling the model on a test input\n",
    "x=tf.ones((1,4))\n",
    "y=model(x)\n",
    "print(\"Number of weights after calling the model:\", len(model.weights))\n",
    "model.summary()"
   ]
  },
  {
   "cell_type": "markdown",
   "id": "0c39171a",
   "metadata": {},
   "source": [
    "# A common debugging workflow: add() + summary()"
   ]
  },
  {
   "cell_type": "code",
   "execution_count": 23,
   "id": "b7c33d23",
   "metadata": {},
   "outputs": [
    {
     "name": "stdout",
     "output_type": "stream",
     "text": [
      "Model: \"sequential_2\"\n",
      "_________________________________________________________________\n",
      " Layer (type)                Output Shape              Param #   \n",
      "=================================================================\n",
      " conv2d (Conv2D)             (None, 123, 123, 32)      2432      \n",
      "                                                                 \n",
      " conv2d_1 (Conv2D)           (None, 121, 121, 32)      9248      \n",
      "                                                                 \n",
      " max_pooling2d (MaxPooling2D  (None, 40, 40, 32)       0         \n",
      " )                                                               \n",
      "                                                                 \n",
      "=================================================================\n",
      "Total params: 11,680\n",
      "Trainable params: 11,680\n",
      "Non-trainable params: 0\n",
      "_________________________________________________________________\n",
      "Model: \"sequential_2\"\n",
      "_________________________________________________________________\n",
      " Layer (type)                Output Shape              Param #   \n",
      "=================================================================\n",
      " conv2d (Conv2D)             (None, 123, 123, 32)      2432      \n",
      "                                                                 \n",
      " conv2d_1 (Conv2D)           (None, 121, 121, 32)      9248      \n",
      "                                                                 \n",
      " max_pooling2d (MaxPooling2D  (None, 40, 40, 32)       0         \n",
      " )                                                               \n",
      "                                                                 \n",
      " conv2d_2 (Conv2D)           (None, 38, 38, 32)        9248      \n",
      "                                                                 \n",
      " conv2d_3 (Conv2D)           (None, 36, 36, 32)        9248      \n",
      "                                                                 \n",
      " max_pooling2d_1 (MaxPooling  (None, 12, 12, 32)       0         \n",
      " 2D)                                                             \n",
      "                                                                 \n",
      " conv2d_4 (Conv2D)           (None, 10, 10, 32)        9248      \n",
      "                                                                 \n",
      " conv2d_5 (Conv2D)           (None, 8, 8, 32)          9248      \n",
      "                                                                 \n",
      " max_pooling2d_2 (MaxPooling  (None, 4, 4, 32)         0         \n",
      " 2D)                                                             \n",
      "                                                                 \n",
      "=================================================================\n",
      "Total params: 48,672\n",
      "Trainable params: 48,672\n",
      "Non-trainable params: 0\n",
      "_________________________________________________________________\n"
     ]
    }
   ],
   "source": [
    "model=keras.Sequential()\n",
    "model.add(keras.Input(shape=(250, 250, 3))) # 250*250 RGB Images\n",
    "model.add(layers.Conv2D(32, 5, strides=2, activation='relu'))\n",
    "model.add(layers.Conv2D(32, 3, activation='relu'))\n",
    "model.add(layers.MaxPooling2D(3))\n",
    "\n",
    "# At this point the shape cannot be gusees\n",
    "model.summary()\n",
    "\n",
    "model.add(layers.Conv2D(32, 3, activation='relu'))\n",
    "model.add(layers.Conv2D(32, 3, activation='relu'))\n",
    "model.add(layers.MaxPooling2D(3))\n",
    "model.add(layers.Conv2D(32, 3, activation='relu'))\n",
    "model.add(layers.Conv2D(32, 3, activation='relu'))\n",
    "model.add(layers.MaxPooling2D(2))\n",
    "\n",
    "model.summary()"
   ]
  },
  {
   "cell_type": "code",
   "execution_count": 24,
   "id": "b3d95e79",
   "metadata": {},
   "outputs": [],
   "source": [
    "# Now we have a 4*4 feature map, now we will apply global max pooling"
   ]
  },
  {
   "cell_type": "code",
   "execution_count": 25,
   "id": "5986cfa4",
   "metadata": {},
   "outputs": [],
   "source": [
    "model.add(layers.GlobalMaxPooling2D())"
   ]
  },
  {
   "cell_type": "code",
   "execution_count": 26,
   "id": "8be9adbd",
   "metadata": {},
   "outputs": [],
   "source": [
    "# Finally adding a classification layer\n",
    "model.add(layers.Dense(10))"
   ]
  },
  {
   "cell_type": "markdown",
   "id": "3f2719c4",
   "metadata": {},
   "source": [
    "# Loading a convolutinal base with pre-trained weights"
   ]
  },
  {
   "cell_type": "code",
   "execution_count": 1,
   "id": "1ce85269",
   "metadata": {},
   "outputs": [
    {
     "ename": "SyntaxError",
     "evalue": "invalid syntax (<ipython-input-1-ff7dc6ac337d>, line 2)",
     "output_type": "error",
     "traceback": [
      "\u001b[0;36m  File \u001b[0;32m\"<ipython-input-1-ff7dc6ac337d>\"\u001b[0;36m, line \u001b[0;32m2\u001b[0m\n\u001b[0;31m    (weights='imagenet', include_top=False, pooling='avg')\u001b[0m\n\u001b[0m            ^\u001b[0m\n\u001b[0;31mSyntaxError\u001b[0m\u001b[0;31m:\u001b[0m invalid syntax\n"
     ]
    }
   ],
   "source": [
    "base_model=keras.applications.Xception\n",
    "(weights='imagenet', include_top=False, pooling='avg')"
   ]
  },
  {
   "cell_type": "code",
   "execution_count": 2,
   "id": "3e62ef8d",
   "metadata": {},
   "outputs": [],
   "source": [
    "# Freeze the base model"
   ]
  },
  {
   "cell_type": "code",
   "execution_count": 3,
   "id": "171fadaf",
   "metadata": {},
   "outputs": [
    {
     "ename": "NameError",
     "evalue": "name 'base_model' is not defined",
     "output_type": "error",
     "traceback": [
      "\u001b[0;31m---------------------------------------------------------------------------\u001b[0m",
      "\u001b[0;31mNameError\u001b[0m                                 Traceback (most recent call last)",
      "\u001b[0;32m<ipython-input-3-29ab9cbc0194>\u001b[0m in \u001b[0;36m<module>\u001b[0;34m\u001b[0m\n\u001b[0;32m----> 1\u001b[0;31m \u001b[0mbase_model\u001b[0m\u001b[0;34m.\u001b[0m\u001b[0mtrainable\u001b[0m\u001b[0;34m=\u001b[0m\u001b[0;32mFalse\u001b[0m\u001b[0;34m\u001b[0m\u001b[0;34m\u001b[0m\u001b[0m\n\u001b[0m",
      "\u001b[0;31mNameError\u001b[0m: name 'base_model' is not defined"
     ]
    }
   ],
   "source": [
    "base_model.trainable=False"
   ]
  },
  {
   "cell_type": "code",
   "execution_count": 5,
   "id": "8a3e3a13",
   "metadata": {},
   "outputs": [
    {
     "ename": "NameError",
     "evalue": "name 'keras' is not defined",
     "output_type": "error",
     "traceback": [
      "\u001b[0;31m---------------------------------------------------------------------------\u001b[0m",
      "\u001b[0;31mNameError\u001b[0m                                 Traceback (most recent call last)",
      "\u001b[0;32m<ipython-input-5-2bfa9fde4511>\u001b[0m in \u001b[0;36m<module>\u001b[0;34m\u001b[0m\n\u001b[1;32m      1\u001b[0m \u001b[0;31m# Use a Sequential Model to add a trainable classifier on top\u001b[0m\u001b[0;34m\u001b[0m\u001b[0;34m\u001b[0m\u001b[0;34m\u001b[0m\u001b[0m\n\u001b[0;32m----> 2\u001b[0;31m \u001b[0mmodel\u001b[0m\u001b[0;34m=\u001b[0m\u001b[0mkeras\u001b[0m\u001b[0;34m.\u001b[0m\u001b[0mSequential\u001b[0m\u001b[0;34m\u001b[0m\u001b[0;34m\u001b[0m\u001b[0m\n\u001b[0m\u001b[1;32m      3\u001b[0m \u001b[0;34m(\u001b[0m\u001b[0;34m[\u001b[0m\u001b[0mbase_model\u001b[0m\u001b[0;34m,\u001b[0m \u001b[0mlayers\u001b[0m\u001b[0;34m.\u001b[0m\u001b[0mDense\u001b[0m\u001b[0;34m(\u001b[0m\u001b[0;36m1000\u001b[0m\u001b[0;34m)\u001b[0m\u001b[0;34m]\u001b[0m\u001b[0;34m)\u001b[0m\u001b[0;34m,\u001b[0m\u001b[0;34m\u001b[0m\u001b[0;34m\u001b[0m\u001b[0m\n",
      "\u001b[0;31mNameError\u001b[0m: name 'keras' is not defined"
     ]
    }
   ],
   "source": [
    "# Use a Sequential Model to add a trainable classifier on top\n",
    "model=keras.Sequential\n",
    "([base_model, layers.Dense(1000)]),"
   ]
  },
  {
   "cell_type": "code",
   "execution_count": 6,
   "id": "0d76e18c",
   "metadata": {},
   "outputs": [
    {
     "ename": "NameError",
     "evalue": "name 'model' is not defined",
     "output_type": "error",
     "traceback": [
      "\u001b[0;31m---------------------------------------------------------------------------\u001b[0m",
      "\u001b[0;31mNameError\u001b[0m                                 Traceback (most recent call last)",
      "\u001b[0;32m<ipython-input-6-60d00c9bc223>\u001b[0m in \u001b[0;36m<module>\u001b[0;34m\u001b[0m\n\u001b[1;32m      1\u001b[0m \u001b[0;31m# Compile and train\u001b[0m\u001b[0;34m\u001b[0m\u001b[0;34m\u001b[0m\u001b[0;34m\u001b[0m\u001b[0m\n\u001b[0;32m----> 2\u001b[0;31m \u001b[0mmodel\u001b[0m\u001b[0;34m.\u001b[0m\u001b[0mcompile\u001b[0m\u001b[0;34m(\u001b[0m\u001b[0;34m)\u001b[0m\u001b[0;34m\u001b[0m\u001b[0;34m\u001b[0m\u001b[0m\n\u001b[0m\u001b[1;32m      3\u001b[0m \u001b[0mmodel\u001b[0m\u001b[0;34m.\u001b[0m\u001b[0mfit\u001b[0m\u001b[0;34m(\u001b[0m\u001b[0;34m)\u001b[0m\u001b[0;34m\u001b[0m\u001b[0;34m\u001b[0m\u001b[0m\n",
      "\u001b[0;31mNameError\u001b[0m: name 'model' is not defined"
     ]
    }
   ],
   "source": [
    "# Compile and train\n",
    "model.compile()\n",
    "model.fit()"
   ]
  },
  {
   "cell_type": "markdown",
   "id": "2c4f831f",
   "metadata": {},
   "source": [
    "# Image Classification in Keras"
   ]
  },
  {
   "cell_type": "code",
   "execution_count": 54,
   "id": "44bcad0c",
   "metadata": {},
   "outputs": [],
   "source": [
    "# Classification comes under Supervised Machine Learning\n",
    "# There are various kinds of classification: ie multi level etc."
   ]
  },
  {
   "cell_type": "code",
   "execution_count": 55,
   "id": "aa2067a6",
   "metadata": {},
   "outputs": [],
   "source": [
    "# Train a neural network model to classify images of clothing like sneakers and shirts"
   ]
  },
  {
   "cell_type": "code",
   "execution_count": 56,
   "id": "e958825b",
   "metadata": {},
   "outputs": [],
   "source": [
    "# TensorFlow and tf.keras\n",
    "import tensorflow as tf\n",
    "from tensorflow import keras\n"
   ]
  },
  {
   "cell_type": "code",
   "execution_count": 57,
   "id": "a80b1a9d",
   "metadata": {},
   "outputs": [],
   "source": [
    "# Helper Librarier\n",
    "import numpy as np\n",
    "import matplotlib.pyplot as plt"
   ]
  },
  {
   "cell_type": "code",
   "execution_count": 58,
   "id": "bcd9e3f3",
   "metadata": {},
   "outputs": [],
   "source": [
    "# IMporting the Fashion MNIST dataset\n",
    "fashion_mnist=keras.datasets.fashion_mnist\n",
    "(train_images, train_labels), (test_images, test_labels)=fashion_mnist.load_data()"
   ]
  },
  {
   "cell_type": "code",
   "execution_count": 59,
   "id": "5640fe2c",
   "metadata": {},
   "outputs": [],
   "source": [
    "class_names=['T-shirts/top', 'Trousers', 'Pullover', 'Dress', 'Coat', 'Sandal', 'Shirt', 'Sneaker', 'Bag', 'Ankle Boot' ]"
   ]
  },
  {
   "cell_type": "code",
   "execution_count": 60,
   "id": "6d79c356",
   "metadata": {},
   "outputs": [],
   "source": [
    "# Exploring the data"
   ]
  },
  {
   "cell_type": "code",
   "execution_count": 61,
   "id": "3c232095",
   "metadata": {},
   "outputs": [
    {
     "data": {
      "text/plain": [
       "(60000, 28, 28)"
      ]
     },
     "execution_count": 61,
     "metadata": {},
     "output_type": "execute_result"
    }
   ],
   "source": [
    "train_images.shape"
   ]
  },
  {
   "cell_type": "code",
   "execution_count": 62,
   "id": "5d3df338",
   "metadata": {},
   "outputs": [
    {
     "data": {
      "text/plain": [
       "60000"
      ]
     },
     "execution_count": 62,
     "metadata": {},
     "output_type": "execute_result"
    }
   ],
   "source": [
    "len(train_labels)"
   ]
  },
  {
   "cell_type": "code",
   "execution_count": 63,
   "id": "a95b3695",
   "metadata": {},
   "outputs": [
    {
     "data": {
      "text/plain": [
       "array([9, 0, 0, ..., 3, 0, 5], dtype=uint8)"
      ]
     },
     "execution_count": 63,
     "metadata": {},
     "output_type": "execute_result"
    }
   ],
   "source": [
    "train_labels"
   ]
  },
  {
   "cell_type": "code",
   "execution_count": 64,
   "id": "be94d53b",
   "metadata": {},
   "outputs": [
    {
     "data": {
      "text/plain": [
       "(10000, 28, 28)"
      ]
     },
     "execution_count": 64,
     "metadata": {},
     "output_type": "execute_result"
    }
   ],
   "source": [
    "test_images.shape"
   ]
  },
  {
   "cell_type": "code",
   "execution_count": 65,
   "id": "fa127a21",
   "metadata": {},
   "outputs": [
    {
     "data": {
      "text/plain": [
       "10000"
      ]
     },
     "execution_count": 65,
     "metadata": {},
     "output_type": "execute_result"
    }
   ],
   "source": [
    "len(test_labels)"
   ]
  },
  {
   "cell_type": "markdown",
   "id": "75f13fc5",
   "metadata": {},
   "source": [
    "# Pre-processing the data"
   ]
  },
  {
   "cell_type": "code",
   "execution_count": 66,
   "id": "8b8210f9",
   "metadata": {},
   "outputs": [
    {
     "data": {
      "image/png": "[encoded data removed]",
      "text/plain": [
       "<Figure size 432x288 with 2 Axes>"
      ]
     },
     "metadata": {
      "needs_background": "light"
     },
     "output_type": "display_data"
    }
   ],
   "source": [
    "plt.figure()\n",
    "plt.imshow(train_images[0])\n",
    "plt.colorbar()\n",
    "plt.grid(False)\n",
    "plt.show()\n",
    "           "
   ]
  },
  {
   "cell_type": "code",
   "execution_count": 67,
   "id": "11139128",
   "metadata": {},
   "outputs": [
    {
     "data": {
      "image/png": "[encoded data removed]",
      "text/plain": [
       "<Figure size 432x288 with 2 Axes>"
      ]
     },
     "metadata": {
      "needs_background": "light"
     },
     "output_type": "display_data"
    }
   ],
   "source": [
    "plt.figure()\n",
    "plt.imshow(train_images[0])\n",
    "plt.colorbar()\n",
    "plt.grid(False)\n",
    "plt.show()\n",
    "\n",
    "train_images=train_images/255.0\n",
    "test_images=test_images/255.0"
   ]
  },
  {
   "cell_type": "code",
   "execution_count": 68,
   "id": "2fbf0a66",
   "metadata": {},
   "outputs": [
    {
     "data": {
      "image/png": "[encoded data removed]",
      "text/plain": [
       "<Figure size 720x720 with 25 Axes>"
      ]
     },
     "metadata": {},
     "output_type": "display_data"
    }
   ],
   "source": [
    "plt.figure(figsize=(10, 10))\n",
    "for i in range(25):\n",
    "    plt.subplot(5,5,i+1)\n",
    "    plt.xticks([])\n",
    "    plt.yticks([])\n",
    "    plt.grid(False)\n",
    "    plt.imshow(train_images[i], cmap=plt.cm.binary)\n",
    "    plt.xlabel(class_names[train_labels[i]])\n",
    "plt.show()"
   ]
  },
  {
   "cell_type": "code",
   "execution_count": 69,
   "id": "5b903666",
   "metadata": {},
   "outputs": [],
   "source": [
    "model=keras.Sequential([\n",
    "    keras.layers.Flatten(input_shape=(28,28)),\n",
    "    keras.layers.Dense(128, activation='relu'),\n",
    "    keras.layers.Dense(10)\n",
    "])"
   ]
  },
  {
   "cell_type": "code",
   "execution_count": 70,
   "id": "b2c02ad7",
   "metadata": {},
   "outputs": [],
   "source": [
    "model.compile(optimizer='adam', \n",
    "             loss=tf.keras.losses.SparseCategoricalCrossentropy(from_logits=True),\n",
    "             metrics=['accuracy'])"
   ]
  },
  {
   "cell_type": "code",
   "execution_count": 71,
   "id": "ed611bf1",
   "metadata": {},
   "outputs": [
    {
     "name": "stdout",
     "output_type": "stream",
     "text": [
      "Epoch 1/10\n",
      "1875/1875 [==============================] - 5s 2ms/step - loss: 0.4955 - accuracy: 0.8268\n",
      "Epoch 2/10\n",
      "1875/1875 [==============================] - 4s 2ms/step - loss: 0.3777 - accuracy: 0.8634\n",
      "Epoch 3/10\n",
      "1875/1875 [==============================] - 4s 2ms/step - loss: 0.3370 - accuracy: 0.8769\n",
      "Epoch 4/10\n",
      "1875/1875 [==============================] - 4s 2ms/step - loss: 0.3133 - accuracy: 0.8847\n",
      "Epoch 5/10\n",
      "1875/1875 [==============================] - 4s 2ms/step - loss: 0.2956 - accuracy: 0.8913\n",
      "Epoch 6/10\n",
      "1875/1875 [==============================] - 4s 2ms/step - loss: 0.2814 - accuracy: 0.8954\n",
      "Epoch 7/10\n",
      "1875/1875 [==============================] - 4s 2ms/step - loss: 0.2681 - accuracy: 0.9011\n",
      "Epoch 8/10\n",
      "1875/1875 [==============================] - 4s 2ms/step - loss: 0.2592 - accuracy: 0.9032\n",
      "Epoch 9/10\n",
      "1875/1875 [==============================] - 4s 2ms/step - loss: 0.2498 - accuracy: 0.9069\n",
      "Epoch 10/10\n",
      "1875/1875 [==============================] - 4s 2ms/step - loss: 0.2382 - accuracy: 0.9107\n"
     ]
    },
    {
     "data": {
      "text/plain": [
       "<keras.callbacks.History at 0x7fd8fcc236a0>"
      ]
     },
     "execution_count": 71,
     "metadata": {},
     "output_type": "execute_result"
    }
   ],
   "source": [
    "model.fit(train_images, train_labels, epochs=10)"
   ]
  },
  {
   "cell_type": "code",
   "execution_count": 72,
   "id": "a1745018",
   "metadata": {},
   "outputs": [
    {
     "name": "stdout",
     "output_type": "stream",
     "text": [
      "313/313 - 0s - loss: 0.3312 - accuracy: 0.8824 - 478ms/epoch - 2ms/step\n",
      "\n",
      "Test Accuracy: 0.8823999762535095\n"
     ]
    }
   ],
   "source": [
    "# Comparing how the model performs on test dataset\n",
    "test_loss, test_acc=model.evaluate(test_images, test_labels, verbose=2)\n",
    "print('\\nTest Accuracy:', test_acc)"
   ]
  },
  {
   "cell_type": "code",
   "execution_count": 73,
   "id": "75c36857",
   "metadata": {},
   "outputs": [],
   "source": [
    "probability_model=tf.keras.Sequential([model, tf.keras.layers.Softmax()])"
   ]
  },
  {
   "cell_type": "code",
   "execution_count": 74,
   "id": "0fb74570",
   "metadata": {},
   "outputs": [],
   "source": [
    "predictions=probability_model.predict(test_images)"
   ]
  },
  {
   "cell_type": "code",
   "execution_count": 75,
   "id": "91cc4821",
   "metadata": {},
   "outputs": [
    {
     "data": {
      "text/plain": [
       "array([1.2541582e-06, 1.2639698e-09, 3.2841857e-08, 5.1956762e-11,\n",
       "       2.7514542e-09, 6.0243704e-03, 6.1721231e-08, 8.2805520e-03,\n",
       "       8.0169804e-07, 9.8569286e-01], dtype=float32)"
      ]
     },
     "execution_count": 75,
     "metadata": {},
     "output_type": "execute_result"
    }
   ],
   "source": [
    "predictions[0]"
   ]
  },
  {
   "cell_type": "code",
   "execution_count": 76,
   "id": "f575462c",
   "metadata": {},
   "outputs": [
    {
     "data": {
      "text/plain": [
       "9"
      ]
     },
     "execution_count": 76,
     "metadata": {},
     "output_type": "execute_result"
    }
   ],
   "source": [
    "np.argmax(predictions[0])"
   ]
  },
  {
   "cell_type": "code",
   "execution_count": 77,
   "id": "4224aefc",
   "metadata": {},
   "outputs": [
    {
     "data": {
      "text/plain": [
       "9"
      ]
     },
     "execution_count": 77,
     "metadata": {},
     "output_type": "execute_result"
    }
   ],
   "source": [
    "test_labels[0]"
   ]
  },
  {
   "cell_type": "code",
   "execution_count": 78,
   "id": "22520b17",
   "metadata": {},
   "outputs": [],
   "source": [
    "#!pip install jovian --upgrade -q"
   ]
  },
  {
   "cell_type": "code",
   "execution_count": 79,
   "id": "0df250bb",
   "metadata": {},
   "outputs": [],
   "source": [
    "import jovian"
   ]
  },
  {
   "cell_type": "code",
   "execution_count": 80,
   "id": "13e4a96d",
   "metadata": {},
   "outputs": [
    {
     "data": {
      "application/javascript": [
       "window.require && require([\"base/js/namespace\"],function(Jupyter){Jupyter.notebook.save_checkpoint()})"
      ],
      "text/plain": [
       "<IPython.core.display.Javascript object>"
      ]
     },
     "metadata": {},
     "output_type": "display_data"
    },
    {
     "name": "stdout",
     "output_type": "stream",
     "text": [
      "[jovian] Updating notebook \"amarjitkr0511/advanced-machine-learning\" on https://jovian.ai/\u001b[0m\n",
      "[jovian] Committed successfully! https://jovian.ai/amarjitkr0511/advanced-machine-learning\u001b[0m\n"
     ]
    },
    {
     "data": {
      "text/plain": [
       "'https://jovian.ai/amarjitkr0511/advanced-machine-learning'"
      ]
     },
     "execution_count": 80,
     "metadata": {},
     "output_type": "execute_result"
    }
   ],
   "source": [
    "jovian.commit()"
   ]
  },
  {
   "cell_type": "code",
   "execution_count": 84,
   "id": "18a98bc0",
   "metadata": {},
   "outputs": [],
   "source": [
    "def plot_image(i, predictions_array, true_lable, img):\n",
    "    true_lables, img=true_lables[i], img[i]\n",
    "    plt.grid(False)\n",
    "    plt.xticks([])\n",
    "    plt.yticks([])\n",
    "    plt.imshow(img, cmap=plt.cm.binary)\n",
    "    \n",
    "    predicted_label=np.argmax(predictions_array)\n",
    "    if predicted_label==true_label:\n",
    "        color='blue'\n",
    "    else:\n",
    "        color='red'\n",
    "    \n",
    "    plt.xlabel(\"{} {:2.0f}% ({})\".format(class_names[predicted_label], 100*np.max(predictions_array), class_names[true_label]), color=color)\n",
    "    \n",
    "def plot_value_array(i, predictions_array, true_labels):\n",
    "    true_label=true_label[i]\n",
    "    plt.grid(False)\n",
    "    plt.xticks(range(10))\n",
    "    plt.yticks([])\n",
    "    thisplot=plt.bar(range(10), predictions_array, color='#777777')\n",
    "    plt.ylim([0,1])\n",
    "    predicted_label=np.argmax(predictions_array)\n",
    "    \n",
    "    thisplot[predicted_label].set_color('red')\n",
    "    thisplot[true_label].set_color('blue')"
   ]
  },
  {
   "cell_type": "code",
   "execution_count": 85,
   "id": "30926837",
   "metadata": {},
   "outputs": [],
   "source": [
    "# Verifying Predictions"
   ]
  },
  {
   "cell_type": "code",
   "execution_count": 86,
   "id": "90b641fc",
   "metadata": {},
   "outputs": [
    {
     "ename": "UnboundLocalError",
     "evalue": "local variable 'true_lables' referenced before assignment",
     "output_type": "error",
     "traceback": [
      "\u001b[0;31m---------------------------------------------------------------------------\u001b[0m",
      "\u001b[0;31mUnboundLocalError\u001b[0m                         Traceback (most recent call last)",
      "\u001b[0;32m<ipython-input-86-c8ae904ebb4c>\u001b[0m in \u001b[0;36m<module>\u001b[0;34m\u001b[0m\n\u001b[1;32m      2\u001b[0m \u001b[0mplt\u001b[0m\u001b[0;34m.\u001b[0m\u001b[0mfigure\u001b[0m\u001b[0;34m(\u001b[0m\u001b[0mfigsize\u001b[0m\u001b[0;34m=\u001b[0m\u001b[0;34m(\u001b[0m\u001b[0;36m6\u001b[0m\u001b[0;34m,\u001b[0m\u001b[0;36m3\u001b[0m\u001b[0;34m)\u001b[0m\u001b[0;34m)\u001b[0m\u001b[0;34m\u001b[0m\u001b[0;34m\u001b[0m\u001b[0m\n\u001b[1;32m      3\u001b[0m \u001b[0mplt\u001b[0m\u001b[0;34m.\u001b[0m\u001b[0msubplot\u001b[0m\u001b[0;34m(\u001b[0m\u001b[0;36m1\u001b[0m\u001b[0;34m,\u001b[0m \u001b[0;36m2\u001b[0m\u001b[0;34m,\u001b[0m \u001b[0;36m1\u001b[0m\u001b[0;34m)\u001b[0m\u001b[0;34m\u001b[0m\u001b[0;34m\u001b[0m\u001b[0m\n\u001b[0;32m----> 4\u001b[0;31m \u001b[0mplot_image\u001b[0m\u001b[0;34m(\u001b[0m\u001b[0mi\u001b[0m\u001b[0;34m,\u001b[0m \u001b[0mpredictions\u001b[0m\u001b[0;34m[\u001b[0m\u001b[0mi\u001b[0m\u001b[0;34m]\u001b[0m\u001b[0;34m,\u001b[0m \u001b[0mtest_labels\u001b[0m\u001b[0;34m,\u001b[0m \u001b[0mtest_images\u001b[0m\u001b[0;34m)\u001b[0m\u001b[0;34m\u001b[0m\u001b[0;34m\u001b[0m\u001b[0m\n\u001b[0m\u001b[1;32m      5\u001b[0m \u001b[0mplt\u001b[0m\u001b[0;34m.\u001b[0m\u001b[0msubplot\u001b[0m\u001b[0;34m(\u001b[0m\u001b[0;36m1\u001b[0m\u001b[0;34m,\u001b[0m\u001b[0;36m2\u001b[0m\u001b[0;34m,\u001b[0m\u001b[0;36m2\u001b[0m\u001b[0;34m)\u001b[0m\u001b[0;34m\u001b[0m\u001b[0;34m\u001b[0m\u001b[0m\n\u001b[1;32m      6\u001b[0m \u001b[0mplot_value_array\u001b[0m\u001b[0;34m(\u001b[0m\u001b[0mi\u001b[0m\u001b[0;34m,\u001b[0m \u001b[0mpredictions\u001b[0m\u001b[0;34m[\u001b[0m\u001b[0mi\u001b[0m\u001b[0;34m]\u001b[0m\u001b[0;34m,\u001b[0m \u001b[0mtest_labels\u001b[0m\u001b[0;34m)\u001b[0m\u001b[0;34m\u001b[0m\u001b[0;34m\u001b[0m\u001b[0m\n",
      "\u001b[0;32m<ipython-input-84-c242626ec39a>\u001b[0m in \u001b[0;36mplot_image\u001b[0;34m(i, predictions_array, true_lable, img)\u001b[0m\n\u001b[1;32m      1\u001b[0m \u001b[0;32mdef\u001b[0m \u001b[0mplot_image\u001b[0m\u001b[0;34m(\u001b[0m\u001b[0mi\u001b[0m\u001b[0;34m,\u001b[0m \u001b[0mpredictions_array\u001b[0m\u001b[0;34m,\u001b[0m \u001b[0mtrue_lable\u001b[0m\u001b[0;34m,\u001b[0m \u001b[0mimg\u001b[0m\u001b[0;34m)\u001b[0m\u001b[0;34m:\u001b[0m\u001b[0;34m\u001b[0m\u001b[0;34m\u001b[0m\u001b[0m\n\u001b[0;32m----> 2\u001b[0;31m     \u001b[0mtrue_lables\u001b[0m\u001b[0;34m,\u001b[0m \u001b[0mimg\u001b[0m\u001b[0;34m=\u001b[0m\u001b[0mtrue_lables\u001b[0m\u001b[0;34m[\u001b[0m\u001b[0mi\u001b[0m\u001b[0;34m]\u001b[0m\u001b[0;34m,\u001b[0m \u001b[0mimg\u001b[0m\u001b[0;34m[\u001b[0m\u001b[0mi\u001b[0m\u001b[0;34m]\u001b[0m\u001b[0;34m\u001b[0m\u001b[0;34m\u001b[0m\u001b[0m\n\u001b[0m\u001b[1;32m      3\u001b[0m     \u001b[0mplt\u001b[0m\u001b[0;34m.\u001b[0m\u001b[0mgrid\u001b[0m\u001b[0;34m(\u001b[0m\u001b[0;32mFalse\u001b[0m\u001b[0;34m)\u001b[0m\u001b[0;34m\u001b[0m\u001b[0;34m\u001b[0m\u001b[0m\n\u001b[1;32m      4\u001b[0m     \u001b[0mplt\u001b[0m\u001b[0;34m.\u001b[0m\u001b[0mxticks\u001b[0m\u001b[0;34m(\u001b[0m\u001b[0;34m[\u001b[0m\u001b[0;34m]\u001b[0m\u001b[0;34m)\u001b[0m\u001b[0;34m\u001b[0m\u001b[0;34m\u001b[0m\u001b[0m\n\u001b[1;32m      5\u001b[0m     \u001b[0mplt\u001b[0m\u001b[0;34m.\u001b[0m\u001b[0myticks\u001b[0m\u001b[0;34m(\u001b[0m\u001b[0;34m[\u001b[0m\u001b[0;34m]\u001b[0m\u001b[0;34m)\u001b[0m\u001b[0;34m\u001b[0m\u001b[0;34m\u001b[0m\u001b[0m\n",
      "\u001b[0;31mUnboundLocalError\u001b[0m: local variable 'true_lables' referenced before assignment"
     ]
    },
    {
     "data": {
      "image/png": "[encoded data removed]",
      "text/plain": [
       "<Figure size 432x216 with 1 Axes>"
      ]
     },
     "metadata": {
      "needs_background": "light"
     },
     "output_type": "display_data"
    }
   ],
   "source": [
    "i=0\n",
    "plt.figure(figsize=(6,3))\n",
    "plt.subplot(1, 2, 1)\n",
    "plot_image(i, predictions[i], test_labels, test_images)\n",
    "plt.subplot(1,2,2)\n",
    "plot_value_array(i, predictions[i], test_labels)\n",
    "plt.show()"
   ]
  },
  {
   "cell_type": "code",
   "execution_count": 42,
   "id": "89af2c0b",
   "metadata": {},
   "outputs": [
    {
     "data": {
      "text/plain": [
       "<function matplotlib.pyplot.figure(num=None, figsize=None, dpi=None, facecolor=None, edgecolor=None, frameon=True, FigureClass=<class 'matplotlib.figure.Figure'>, clear=False, **kwargs)>"
      ]
     },
     "execution_count": 42,
     "metadata": {},
     "output_type": "execute_result"
    }
   ],
   "source": [
    "i=12\n",
    "plt.figure"
   ]
  },
  {
   "cell_type": "markdown",
   "id": "e4a480f2",
   "metadata": {},
   "source": [
    "# Test Classification in Keras"
   ]
  },
  {
   "cell_type": "code",
   "execution_count": 43,
   "id": "41f08428",
   "metadata": {},
   "outputs": [],
   "source": [
    "import keras"
   ]
  },
  {
   "cell_type": "code",
   "execution_count": 44,
   "id": "ff730ffe",
   "metadata": {},
   "outputs": [],
   "source": [
    "from keras.datasets import reuters"
   ]
  },
  {
   "cell_type": "code",
   "execution_count": 46,
   "id": "d89cf097",
   "metadata": {},
   "outputs": [
    {
     "name": "stdout",
     "output_type": "stream",
     "text": [
      "# of Training Samples:8982\n",
      "# of classes:46\n",
      "thewattienondiscriminatorymlnlossforplcsaidatonlyendedsaidcommonwealthcould1tradersnowapril0aaftersaidfrom1985andfromforeign000april0pricesitsaccountyearabutinthismlnhomeanstatesearlierandriseandrevsvs000its16vs000abut3psbroilsseveralandshareholdersanddividendvs000itsall4vs0001mlnagreedlargelyapril0are2stateswillbilliontotalandagainst000pctdlrs\n",
      "3\n"
     ]
    }
   ],
   "source": [
    "(x_train, y_train), (x_test, y_test)=reuters.load_data(num_words=None, test_split=0.2)\n",
    "word_index=reuters.get_word_index(path='reuters_word_index.json')\n",
    "print('# of Training Samples:{}'.format(len(x_train)))\n",
    "\n",
    "num_classes=max(y_train)+1\n",
    "print('# of classes:{}'.format(num_classes))\n",
    "\n",
    "# of Training Samples: 8982\n",
    "# of Test Samples: 2246\n",
    "# of classes: 46\n",
    "\n",
    "index_to_word={}\n",
    "for key, value in word_index.items():\n",
    "    index_to_word[value]=key\n",
    "print(''.join([index_to_word[x] for x in x_train[0]]))\n",
    "print(y_train[0])"
   ]
  },
  {
   "cell_type": "code",
   "execution_count": 21,
   "id": "03c654ab",
   "metadata": {},
   "outputs": [
    {
     "name": "stdout",
     "output_type": "stream",
     "text": [
      "[0. 1. 0. ... 0. 0. 0.]\n",
      "10000\n",
      "[0. 0. 0. 1. 0. 0. 0. 0. 0. 0. 0. 0. 0. 0. 0. 0. 0. 0. 0. 0. 0. 0. 0. 0.\n",
      " 0. 0. 0. 0. 0. 0. 0. 0. 0. 0. 0. 0. 0. 0. 0. 0. 0. 0. 0. 0. 0. 0.]\n",
      "46\n"
     ]
    }
   ],
   "source": [
    "from keras.preprocessing.text import Tokenizer\n",
    "from tensorflow.keras.utils import to_categorical\n",
    "\n",
    "max_words=10000\n",
    "\n",
    "tokenizer=Tokenizer(num_words=max_words)\n",
    "x_train = tokenizer.sequences_to_matrix(x_train, mode='binary')\n",
    "x_test=tokenizer.sequences_to_matrix(x_test, mode='binary')\n",
    "\n",
    "y_train=to_categorical(y_train, num_classes)\n",
    "y_test=to_categorical(y_test, num_classes)\n",
    "\n",
    "print(x_train[0])\n",
    "print(len(x_train[0]))\n",
    "\n",
    "print(y_train[0])\n",
    "print(len(y_train[0]))"
   ]
  },
  {
   "cell_type": "code",
   "execution_count": 22,
   "id": "83bddd6e",
   "metadata": {},
   "outputs": [],
   "source": [
    "from keras import Sequential\n",
    "from keras.layers import Dense, Dropout, Activation"
   ]
  },
  {
   "cell_type": "code",
   "execution_count": 23,
   "id": "221ad3cd",
   "metadata": {},
   "outputs": [],
   "source": [
    "model=Sequential()"
   ]
  },
  {
   "cell_type": "code",
   "execution_count": 24,
   "id": "f9a3c2f8",
   "metadata": {},
   "outputs": [
    {
     "name": "stdout",
     "output_type": "stream",
     "text": [
      "[]\n",
      "Epoch 1/3\n",
      "253/253 [==============================] - 8s 30ms/step - loss: 1.2785 - accuracy: 0.7236 - val_loss: 0.9434 - val_accuracy: 0.7987\n",
      "Epoch 2/3\n",
      "253/253 [==============================] - 8s 30ms/step - loss: 0.4889 - accuracy: 0.8877 - val_loss: 0.8633 - val_accuracy: 0.8142\n",
      "Epoch 3/3\n",
      "253/253 [==============================] - 8s 30ms/step - loss: 0.2721 - accuracy: 0.9363 - val_loss: 0.9274 - val_accuracy: 0.8142\n",
      "71/71 [==============================] - 1s 9ms/step - loss: 0.8790 - accuracy: 0.8068\n",
      "Test loss: 0.8790194392204285\n",
      "Test accuracy: 0.8067675828933716\n"
     ]
    }
   ],
   "source": [
    "model.add(Dense(512, input_shape=(max_words,)))\n",
    "model.add(Activation('relu'))\n",
    "model.add(Dropout(0.5))\n",
    "model.add(Dense(num_classes))\n",
    "model.add(Activation('softmax'))\n",
    "model.compile(loss='categorical_crossentropy', optimizer='adam', metrics=['accuracy'])\n",
    "print(model.metrics_names)\n",
    "batch_size=32\n",
    "epochs=3\n",
    "history=model.fit(x_train, y_train, batch_size=batch_size, epochs=epochs, verbose=1, validation_split=0.1)\n",
    "score=model.evaluate(x_test, y_test, batch_size=batch_size, verbose=1)\n",
    "print('Test loss:', score[0])\n",
    "print('Test accuracy:', score[1])"
   ]
  },
  {
   "cell_type": "markdown",
   "id": "dcc84ab5",
   "metadata": {},
   "source": [
    "# Implementing Linear Regresion"
   ]
  },
  {
   "cell_type": "code",
   "execution_count": 29,
   "id": "0e35ae03",
   "metadata": {},
   "outputs": [],
   "source": [
    "from sklearn.datasets import load_boston\n",
    "from keras.models import Sequential\n",
    "from keras.layers import Dense, Conv1D, Flatten\n",
    "from sklearn.model_selection import train_test_split\n",
    "from sklearn.metrics import mean_squared_error\n",
    "import matplotlib.pyplot as plt"
   ]
  },
  {
   "cell_type": "code",
   "execution_count": 30,
   "id": "a89cb6b2",
   "metadata": {},
   "outputs": [
    {
     "name": "stdout",
     "output_type": "stream",
     "text": [
      "(506, 13)\n",
      "(506,)\n"
     ]
    }
   ],
   "source": [
    "# Preparing the data\n",
    "boston=load_boston()\n",
    "x,y=boston.data, boston.target\n",
    "print(x.shape)\n",
    "print(y.shape)"
   ]
  },
  {
   "cell_type": "code",
   "execution_count": 32,
   "id": "91c22169",
   "metadata": {},
   "outputs": [
    {
     "name": "stdout",
     "output_type": "stream",
     "text": [
      "(506, 13, 1)\n"
     ]
    }
   ],
   "source": [
    "# Reshaping the data\n",
    "x=x.reshape(x.shape[0], x.shape[1], 1)\n",
    "print(x.shape)"
   ]
  },
  {
   "cell_type": "code",
   "execution_count": 33,
   "id": "9ccc30fe",
   "metadata": {},
   "outputs": [],
   "source": [
    "# Now we will split the data into train and test parts\n",
    "xtrain, xtest, ytrain, ytest=train_test_split(x,y, test_size=0.15)"
   ]
  },
  {
   "cell_type": "code",
   "execution_count": 35,
   "id": "995a0b3e",
   "metadata": {},
   "outputs": [],
   "source": [
    "# Defining and fitting the model\n",
    "model=Sequential()\n",
    "model.add(Conv1D(32, 2, activation=\"relu\", input_shape=(13,1)))\n",
    "model.add(Flatten())\n",
    "model.add(Dense(64, activation=\"relu\"))\n",
    "model.add(Dense(1))\n",
    "\n",
    "model.compile(loss=\"mse\", optimizer=\"adam\")"
   ]
  },
  {
   "cell_type": "code",
   "execution_count": 36,
   "id": "782a03d9",
   "metadata": {},
   "outputs": [
    {
     "data": {
      "text/plain": [
       "<keras.callbacks.History at 0x7fd95efa08b0>"
      ]
     },
     "execution_count": 36,
     "metadata": {},
     "output_type": "execute_result"
    }
   ],
   "source": [
    "# Now we will fit the model with the train data\n",
    "model.fit(xtrain, ytrain, batch_size=12, epochs=200, verbose=0)"
   ]
  },
  {
   "cell_type": "code",
   "execution_count": 50,
   "id": "ba30e46c",
   "metadata": {},
   "outputs": [],
   "source": [
    "# Predicting and visualizing the results\n",
    "# Now we will predict the test data with the trained model\n",
    "\n",
    "ypred=model.predict(xtest)"
   ]
  },
  {
   "cell_type": "code",
   "execution_count": 51,
   "id": "0b1d7aba",
   "metadata": {},
   "outputs": [
    {
     "name": "stdout",
     "output_type": "stream",
     "text": [
      "14/14 [==============================] - 0s 2ms/step - loss: 10.8471\n",
      "10.847124099731445\n",
      "MSE:26.7995\n"
     ]
    },
    {
     "data": {
      "image/png": "[encoded data removed]",
      "text/plain": [
       "<Figure size 432x288 with 1 Axes>"
      ]
     },
     "metadata": {
      "needs_background": "light"
     },
     "output_type": "display_data"
    }
   ],
   "source": [
    "print(model.evaluate(xtrain, ytrain))\n",
    "print(\"MSE:%.4f\" %mean_squared_error(ytest, ypred))\n",
    "\n",
    "x_ax=range(len(ypred))\n",
    "plt.scatter(x_ax, ytest, s=5, color=\"blue\", label=\"original\")\n",
    "plt.plot(x_ax, ypred, lw=0.8, color=\"red\", label=\"predicted\")\n",
    "plt.legend()\n",
    "plt.show()"
   ]
  },
  {
   "cell_type": "markdown",
   "id": "a5dae7f4",
   "metadata": {},
   "source": [
    "# Overfitting and Underfitting"
   ]
  },
  {
   "cell_type": "markdown",
   "id": "d2a7c4bb",
   "metadata": {},
   "source": [
    "#### Overfitting: When the algorithm performs better on training data but not on test data \n",
    "##### **Caused due to: High Variance low bias\n",
    "                      \n",
    " \n",
    "#### Underfitting:  When the model does not perform well on training dataset\n",
    "##### **Caused due to: Low Variance and high bias"
   ]
  },
  {
   "cell_type": "markdown",
   "id": "c380b8b8",
   "metadata": {},
   "source": [
    "### Other parameters: Bias and Variance\n",
    "\n"
   ]
  },
  {
   "cell_type": "code",
   "execution_count": 88,
   "id": "b48f85d4",
   "metadata": {},
   "outputs": [],
   "source": [
    "# Bias: Things that we assume to make the predictions more accurate\n",
    "# Variance: As the namesuggests that it is variation, i.e. the variation in prediction when different training dataset is used.\n",
    "\n",
    "#  Low and High Variance: \n",
    "\n",
    "\n",
    "# Ways to Reduce High Variance:\n",
    "\n"
   ]
  },
  {
   "cell_type": "markdown",
   "id": "c28af77d",
   "metadata": {},
   "source": [
    "##### Ideal Machine Learning model should hve low variance and low bias\n"
   ]
  },
  {
   "cell_type": "markdown",
   "id": "42a95df4",
   "metadata": {},
   "source": [
    "# illustration of GridSearchCV"
   ]
  },
  {
   "cell_type": "code",
   "execution_count": 89,
   "id": "4e94b135",
   "metadata": {},
   "outputs": [],
   "source": [
    "# Necessary import\n",
    "from sklearn.linear_model import LogisticRegression"
   ]
  },
  {
   "cell_type": "code",
   "execution_count": 91,
   "id": "b1d319ea",
   "metadata": {},
   "outputs": [],
   "source": [
    "from sklearn.model_selection import GridSearchCV"
   ]
  },
  {
   "cell_type": "code",
   "execution_count": 92,
   "id": "f31f9672",
   "metadata": {},
   "outputs": [],
   "source": [
    "# Creating the hyperparameter grid\n",
    "c_space=np.logspace(-5, 8, 15)\n",
    "param_grid={'C':c_space}"
   ]
  },
  {
   "cell_type": "code",
   "execution_count": 93,
   "id": "28fcb630",
   "metadata": {},
   "outputs": [],
   "source": [
    "#Instantiating logistic regression classifier\n",
    "logreg=LogisticRegression()"
   ]
  },
  {
   "cell_type": "code",
   "execution_count": 96,
   "id": "fb8616c5",
   "metadata": {},
   "outputs": [
    {
     "data": {
      "text/plain": [
       "<bound method BaseSearchCV.fit of GridSearchCV(cv=5, estimator=LogisticRegression(),\n",
       "             param_grid={'C': array([1.00000000e-05, 8.48342898e-05, 7.19685673e-04, 6.10540230e-03,\n",
       "       5.17947468e-02, 4.39397056e-01, 3.72759372e+00, 3.16227766e+01,\n",
       "       2.68269580e+02, 2.27584593e+03, 1.93069773e+04, 1.63789371e+05,\n",
       "       1.38949549e+06, 1.17876863e+07, 1.00000000e+08])})>"
      ]
     },
     "execution_count": 96,
     "metadata": {},
     "output_type": "execute_result"
    }
   ],
   "source": [
    "# Instantiating the GridSearchCV object\n",
    "logreg_cv=GridSearchCV(logreg, param_grid, cv=5)\n",
    "\n",
    "logreg_cv.fit"
   ]
  },
  {
   "cell_type": "code",
   "execution_count": 101,
   "id": "d3bfcda6",
   "metadata": {},
   "outputs": [
    {
     "name": "stdout",
     "output_type": "stream",
     "text": [
      "Tuned Logistic Regression Parameters: GridSearchCV(cv=5, estimator=LogisticRegression(),\n",
      "             param_grid={'C': array([1.00000000e-05, 8.48342898e-05, 7.19685673e-04, 6.10540230e-03,\n",
      "       5.17947468e-02, 4.39397056e-01, 3.72759372e+00, 3.16227766e+01,\n",
      "       2.68269580e+02, 2.27584593e+03, 1.93069773e+04, 1.63789371e+05,\n",
      "       1.38949549e+06, 1.17876863e+07, 1.00000000e+08])})\n"
     ]
    }
   ],
   "source": [
    "# Print the tuned parameters and score\n",
    "print(\"Tuned Logistic Regression Parameters: {}\".format(logreg_cv))\n",
    "#print(\"Best Score is {}\".format(logreg_cv.))\n"
   ]
  },
  {
   "cell_type": "markdown",
   "id": "1eab5686",
   "metadata": {},
   "source": [
    "# CNN"
   ]
  },
  {
   "cell_type": "code",
   "execution_count": 1,
   "id": "59f91ce7",
   "metadata": {},
   "outputs": [],
   "source": [
    "import numpy as np\n",
    "def convld(x, w, p=0, s=1):\n",
    "    w_rot = np.array(w[::-1])\n",
    "    x_padded=np.array(x)\n",
    "    if p>0:\n",
    "        zero_pad=np.zeros(shape=p)\n",
    "        x_padded=np.concatenate([zero_pad, x_padded, zero_pad])\n",
    "        \n",
    "    res=[]\n",
    "    for i in range(0, int(len(x)/s), s):\n",
    "        res.append(np.sum(x_padded[i:i+w_rot.shape[0]]*w_rot))\n",
    "    return np.array(res)"
   ]
  },
  {
   "cell_type": "code",
   "execution_count": 7,
   "id": "96db4359",
   "metadata": {},
   "outputs": [
    {
     "name": "stdout",
     "output_type": "stream",
     "text": [
      "Convld Implemenation: [ 5. 14. 16. 26. 24. 34. 19. 22.]\n",
      "Numpy Results: [ 5 14 16 26 24 34 19 22]\n"
     ]
    }
   ],
   "source": [
    "# Testing\n",
    "x=[1,3,2,4,5,6,1,3]\n",
    "w=[1,0,3,1,2]\n",
    "\n",
    "print('Convld Implemenation:', convld(x, w, p=2, s=1))\n",
    "print('Numpy Results:', np.convolve(x, w, mode='same'))"
   ]
  },
  {
   "cell_type": "code",
   "execution_count": 8,
   "id": "466e95b4",
   "metadata": {},
   "outputs": [
    {
     "name": "stdout",
     "output_type": "stream",
     "text": [
      "Convld Implemenation: [14. 26.]\n",
      "Numpy Results: [ 5 14 16 26 24 34 19 22]\n"
     ]
    }
   ],
   "source": [
    "# Altering the value of p and s(stride)\n",
    "x=[1,3,2,4,5,6,1,3]\n",
    "w=[1,0,3,1,2]\n",
    "\n",
    "print('Convld Implemenation:', convld(x, w, p=1, s=2))\n",
    "print('Numpy Results:', np.convolve(x, w, mode='same'))"
   ]
  },
  {
   "cell_type": "markdown",
   "id": "e8a3a3c7",
   "metadata": {},
   "source": [
    "## Convolution for 2D"
   ]
  },
  {
   "cell_type": "code",
   "execution_count": 8,
   "id": "bd24b705",
   "metadata": {},
   "outputs": [],
   "source": [
    "import numpy as np\n",
    "import scipy.signal"
   ]
  },
  {
   "cell_type": "code",
   "execution_count": 23,
   "id": "5c4b0202",
   "metadata": {},
   "outputs": [],
   "source": [
    "def conv2d(X, W, p=(0,0), s=(1,1)):\n",
    "    W_rot=np.array(W)[::-1, ::-1]\n",
    "    X_orig=np.array(X)\n",
    "    n1=X_orig.shape[0]+2*p[0]\n",
    "    n2=X_orig.shape[1]+2*p[1]\n",
    "    X_padded=np.zeros(shape=(n1,n2))\n",
    "    X_padded[p[0]:p[0]+X_orig.shape[0], p[1]:p[1]+X_orig.shape[1]]=X_orig\n",
    "    res=[]\n",
    "    for i in range(0, int((X_padded.shape[0]-W_rot.shape[0])/s[0])+1, s[0]):\n",
    "        res.append([])\n",
    "        for j in range(0, int((X_padded.shape[1]-W_rot.shape[1])/s[1])+1, s[1]):\n",
    "            X_sub=X_padded[i:i+W_rot.shape[0], j:j+W_rot.shape[1]]\n",
    "            res[-1].append(np.sum(X_sub*W_rot))\n",
    "    return(np.array(res))  "
   ]
  },
  {
   "cell_type": "code",
   "execution_count": 24,
   "id": "970d1973",
   "metadata": {},
   "outputs": [],
   "source": [
    "X=[[1,3,2,4],[5,6,1,3], [1,2,0,2], [3,4,3,2]]\n",
    "W=[[1,0,3], [1,2,1], [0,1,1]]"
   ]
  },
  {
   "cell_type": "code",
   "execution_count": 25,
   "id": "95e89f97",
   "metadata": {},
   "outputs": [
    {
     "name": "stdout",
     "output_type": "stream",
     "text": [
      "Conv2d Implemention: \n",
      " [[11. 25. 32. 13.]\n",
      " [19. 25. 24. 13.]\n",
      " [13. 28. 25. 17.]\n",
      " [11. 17. 14.  9.]]\n",
      "SciPy Results:\n",
      " [[11 25 32 13]\n",
      " [19 25 24 13]\n",
      " [13 28 25 17]\n",
      " [11 17 14  9]]\n"
     ]
    }
   ],
   "source": [
    "print('Conv2d Implemention: \\n', conv2d(X, W, p=(1,1), s=(1,1)))\n",
    "print('SciPy Results:\\n', scipy.signal.convolve2d(X, W, mode='same'))"
   ]
  },
  {
   "cell_type": "markdown",
   "id": "b5430441",
   "metadata": {},
   "source": [
    "# Important for Exams- MTE and CA\n",
    "\n",
    "\n",
    "## Unit 1: Introduction to tensorflow and features\n",
    "###            Fuction for performing certain operations ex. cuda function\n",
    "###           Types of tensors-ragged, string, etc.\n",
    "###           Linear Regression: Numerial and theoritical\n",
    "###           Multilayer perceptron- questions related to weights and threshold and other concepts\n",
    "###           Optimizers: Advantages and syntax\n",
    "## Unit 2:Keras and introduction\n",
    "###           Model layers and modules\n",
    "###           Create a sequential model with these these layers: Defininte to come\n",
    "###           Classification: Image Classification and Text classification\n",
    "###           Transfer Learning: Work Flow of transfer learning\n",
    "###           Overfitting, underfitting, bias, variance\n",
    "###            HyperParameter tuning\n",
    "###            Grid Search , ramdomized search: for 1 marks qn just provide the synatx\n",
    "###            Keras workflow:1. Import required files, 2.load dataset, 3. Create model, 4. Compile model, 5. Train\n",
    "###                                            model, 6. Test model(model evaluation)\n",
    "## Unit 3: CNN\n",
    "###             Augmentation and kinds\n",
    "###             Segmenation\n",
    "                            "
   ]
  },
  {
   "cell_type": "markdown",
   "id": "ef92ccd2",
   "metadata": {},
   "source": [
    "# Image Classification"
   ]
  },
  {
   "cell_type": "code",
   "execution_count": 2,
   "id": "ef51a556",
   "metadata": {},
   "outputs": [
    {
     "name": "stdout",
     "output_type": "stream",
     "text": [
      "Requirement already satisfied: pillow in ./opt/anaconda3/lib/python3.8/site-packages (8.2.0)\n",
      "Note: you may need to restart the kernel to use updated packages.\n"
     ]
    }
   ],
   "source": [
    "pip install pillow"
   ]
  },
  {
   "cell_type": "code",
   "execution_count": 9,
   "id": "d10ed347",
   "metadata": {},
   "outputs": [
    {
     "name": "stdout",
     "output_type": "stream",
     "text": [
      "Collecting scipy==1.1.0\n",
      "  Downloading scipy-1.1.0.tar.gz (15.6 MB)\n",
      "\u001b[K     |████████████▋                   | 6.2 MB 25 kB/s eta 0:06:158\u001b[31mERROR: Exception:\n",
      "Traceback (most recent call last):\n",
      "  File \"/Users/amarjitkumar/opt/anaconda3/lib/python3.8/site-packages/pip/_vendor/resolvelib/resolvers.py\", line 171, in _merge_into_criterion\n",
      "    crit = self.state.criteria[name]\n",
      "KeyError: 'scipy'\n",
      "\n",
      "During handling of the above exception, another exception occurred:\n",
      "\n",
      "Traceback (most recent call last):\n",
      "  File \"/Users/amarjitkumar/opt/anaconda3/lib/python3.8/site-packages/pip/_vendor/urllib3/response.py\", line 438, in _error_catcher\n",
      "    yield\n",
      "  File \"/Users/amarjitkumar/opt/anaconda3/lib/python3.8/site-packages/pip/_vendor/urllib3/response.py\", line 519, in read\n",
      "    data = self._fp.read(amt) if not fp_closed else b\"\"\n",
      "  File \"/Users/amarjitkumar/opt/anaconda3/lib/python3.8/site-packages/pip/_vendor/cachecontrol/filewrapper.py\", line 62, in read\n",
      "    data = self.__fp.read(amt)\n",
      "  File \"/Users/amarjitkumar/opt/anaconda3/lib/python3.8/http/client.py\", line 458, in read\n",
      "    n = self.readinto(b)\n",
      "  File \"/Users/amarjitkumar/opt/anaconda3/lib/python3.8/http/client.py\", line 502, in readinto\n",
      "    n = self.fp.readinto(b)\n",
      "  File \"/Users/amarjitkumar/opt/anaconda3/lib/python3.8/socket.py\", line 669, in readinto\n",
      "    return self._sock.recv_into(b)\n",
      "  File \"/Users/amarjitkumar/opt/anaconda3/lib/python3.8/ssl.py\", line 1241, in recv_into\n",
      "    return self.read(nbytes, buffer)\n",
      "  File \"/Users/amarjitkumar/opt/anaconda3/lib/python3.8/ssl.py\", line 1099, in read\n",
      "    return self._sslobj.read(len, buffer)\n",
      "socket.timeout: The read operation timed out\n",
      "\n",
      "During handling of the above exception, another exception occurred:\n",
      "\n",
      "Traceback (most recent call last):\n",
      "  File \"/Users/amarjitkumar/opt/anaconda3/lib/python3.8/site-packages/pip/_internal/cli/base_command.py\", line 189, in _main\n",
      "    status = self.run(options, args)\n",
      "  File \"/Users/amarjitkumar/opt/anaconda3/lib/python3.8/site-packages/pip/_internal/cli/req_command.py\", line 178, in wrapper\n",
      "    return func(self, options, args)\n",
      "  File \"/Users/amarjitkumar/opt/anaconda3/lib/python3.8/site-packages/pip/_internal/commands/install.py\", line 316, in run\n",
      "    requirement_set = resolver.resolve(\n",
      "  File \"/Users/amarjitkumar/opt/anaconda3/lib/python3.8/site-packages/pip/_internal/resolution/resolvelib/resolver.py\", line 121, in resolve\n",
      "    self._result = resolver.resolve(\n",
      "  File \"/Users/amarjitkumar/opt/anaconda3/lib/python3.8/site-packages/pip/_vendor/resolvelib/resolvers.py\", line 453, in resolve\n",
      "    state = resolution.resolve(requirements, max_rounds=max_rounds)\n",
      "  File \"/Users/amarjitkumar/opt/anaconda3/lib/python3.8/site-packages/pip/_vendor/resolvelib/resolvers.py\", line 318, in resolve\n",
      "    name, crit = self._merge_into_criterion(r, parent=None)\n",
      "  File \"/Users/amarjitkumar/opt/anaconda3/lib/python3.8/site-packages/pip/_vendor/resolvelib/resolvers.py\", line 173, in _merge_into_criterion\n",
      "    crit = Criterion.from_requirement(self._p, requirement, parent)\n",
      "  File \"/Users/amarjitkumar/opt/anaconda3/lib/python3.8/site-packages/pip/_vendor/resolvelib/resolvers.py\", line 82, in from_requirement\n",
      "    if not cands:\n",
      "  File \"/Users/amarjitkumar/opt/anaconda3/lib/python3.8/site-packages/pip/_vendor/resolvelib/structs.py\", line 124, in __bool__\n",
      "    return bool(self._sequence)\n",
      "  File \"/Users/amarjitkumar/opt/anaconda3/lib/python3.8/site-packages/pip/_internal/resolution/resolvelib/found_candidates.py\", line 143, in __bool__\n",
      "    return any(self)\n",
      "  File \"/Users/amarjitkumar/opt/anaconda3/lib/python3.8/site-packages/pip/_internal/resolution/resolvelib/found_candidates.py\", line 38, in _iter_built\n",
      "    candidate = func()\n",
      "  File \"/Users/amarjitkumar/opt/anaconda3/lib/python3.8/site-packages/pip/_internal/resolution/resolvelib/factory.py\", line 167, in _make_candidate_from_link\n",
      "    self._link_candidate_cache[link] = LinkCandidate(\n",
      "  File \"/Users/amarjitkumar/opt/anaconda3/lib/python3.8/site-packages/pip/_internal/resolution/resolvelib/candidates.py\", line 300, in __init__\n",
      "    super().__init__(\n",
      "  File \"/Users/amarjitkumar/opt/anaconda3/lib/python3.8/site-packages/pip/_internal/resolution/resolvelib/candidates.py\", line 144, in __init__\n",
      "    self.dist = self._prepare()\n",
      "  File \"/Users/amarjitkumar/opt/anaconda3/lib/python3.8/site-packages/pip/_internal/resolution/resolvelib/candidates.py\", line 226, in _prepare\n",
      "    dist = self._prepare_distribution()\n",
      "  File \"/Users/amarjitkumar/opt/anaconda3/lib/python3.8/site-packages/pip/_internal/resolution/resolvelib/candidates.py\", line 311, in _prepare_distribution\n",
      "    return self._factory.preparer.prepare_linked_requirement(\n",
      "  File \"/Users/amarjitkumar/opt/anaconda3/lib/python3.8/site-packages/pip/_internal/operations/prepare.py\", line 457, in prepare_linked_requirement\n",
      "    return self._prepare_linked_requirement(req, parallel_builds)\n",
      "  File \"/Users/amarjitkumar/opt/anaconda3/lib/python3.8/site-packages/pip/_internal/operations/prepare.py\", line 480, in _prepare_linked_requirement\n",
      "    local_file = unpack_url(\n",
      "  File \"/Users/amarjitkumar/opt/anaconda3/lib/python3.8/site-packages/pip/_internal/operations/prepare.py\", line 230, in unpack_url\n",
      "    file = get_http_url(\n",
      "  File \"/Users/amarjitkumar/opt/anaconda3/lib/python3.8/site-packages/pip/_internal/operations/prepare.py\", line 108, in get_http_url\n",
      "    from_path, content_type = download(link, temp_dir.path)\n",
      "  File \"/Users/amarjitkumar/opt/anaconda3/lib/python3.8/site-packages/pip/_internal/network/download.py\", line 163, in __call__\n",
      "    for chunk in chunks:\n",
      "  File \"/Users/amarjitkumar/opt/anaconda3/lib/python3.8/site-packages/pip/_internal/cli/progress_bars.py\", line 159, in iter\n",
      "    for x in it:\n",
      "  File \"/Users/amarjitkumar/opt/anaconda3/lib/python3.8/site-packages/pip/_internal/network/utils.py\", line 64, in response_chunks\n",
      "    for chunk in response.raw.stream(\n",
      "  File \"/Users/amarjitkumar/opt/anaconda3/lib/python3.8/site-packages/pip/_vendor/urllib3/response.py\", line 576, in stream\n",
      "    data = self.read(amt=amt, decode_content=decode_content)\n",
      "  File \"/Users/amarjitkumar/opt/anaconda3/lib/python3.8/site-packages/pip/_vendor/urllib3/response.py\", line 541, in read\n",
      "    raise IncompleteRead(self._fp_bytes_read, self.length_remaining)\n",
      "  File \"/Users/amarjitkumar/opt/anaconda3/lib/python3.8/contextlib.py\", line 131, in __exit__\n",
      "    self.gen.throw(type, value, traceback)\n",
      "  File \"/Users/amarjitkumar/opt/anaconda3/lib/python3.8/site-packages/pip/_vendor/urllib3/response.py\", line 443, in _error_catcher\n",
      "    raise ReadTimeoutError(self._pool, None, \"Read timed out.\")\n",
      "pip._vendor.urllib3.exceptions.ReadTimeoutError: HTTPSConnectionPool(host='files.pythonhosted.org', port=443): Read timed out.\u001b[0m\n",
      "Note: you may need to restart the kernel to use updated packages.\n"
     ]
    }
   ],
   "source": [
    "pip install scipy==1.1.0"
   ]
  },
  {
   "cell_type": "code",
   "execution_count": 1,
   "id": "f7ab1946",
   "metadata": {},
   "outputs": [],
   "source": [
    "#import matplotlib.pyplot"
   ]
  },
  {
   "cell_type": "code",
   "execution_count": 8,
   "id": "d05a3eec",
   "metadata": {},
   "outputs": [
    {
     "ename": "AttributeError",
     "evalue": "module 'scipy.misc' has no attribute 'imread'",
     "output_type": "error",
     "traceback": [
      "\u001b[0;31m---------------------------------------------------------------------------\u001b[0m",
      "\u001b[0;31mAttributeError\u001b[0m                            Traceback (most recent call last)",
      "\u001b[0;32m<ipython-input-8-5fe691356c4f>\u001b[0m in \u001b[0;36m<module>\u001b[0;34m\u001b[0m\n\u001b[1;32m      1\u001b[0m \u001b[0;32mimport\u001b[0m \u001b[0mscipy\u001b[0m\u001b[0;34m.\u001b[0m\u001b[0mmisc\u001b[0m\u001b[0;34m\u001b[0m\u001b[0;34m\u001b[0m\u001b[0m\n\u001b[1;32m      2\u001b[0m \u001b[0;32mfrom\u001b[0m \u001b[0mmatplotlib\u001b[0m\u001b[0;34m.\u001b[0m\u001b[0mpyplot\u001b[0m \u001b[0;32mimport\u001b[0m \u001b[0mimread\u001b[0m\u001b[0;34m\u001b[0m\u001b[0;34m\u001b[0m\u001b[0m\n\u001b[0;32m----> 3\u001b[0;31m \u001b[0mimg\u001b[0m\u001b[0;34m=\u001b[0m\u001b[0mscipy\u001b[0m\u001b[0;34m.\u001b[0m\u001b[0mmisc\u001b[0m\u001b[0;34m.\u001b[0m\u001b[0mimread\u001b[0m\u001b[0;34m(\u001b[0m\u001b[0;34m'/Users/amarjitkumar/Desktop/imag.jpg'\u001b[0m\u001b[0;34m)\u001b[0m\u001b[0;34m\u001b[0m\u001b[0;34m\u001b[0m\u001b[0m\n\u001b[0m\u001b[1;32m      4\u001b[0m \u001b[0mprint\u001b[0m\u001b[0;34m(\u001b[0m\u001b[0;34m'Image shape:'\u001b[0m\u001b[0;34m,\u001b[0m \u001b[0mim\u001b[0m\u001b[0;34m.\u001b[0m\u001b[0mshape\u001b[0m\u001b[0;34m)\u001b[0m\u001b[0;34m\u001b[0m\u001b[0;34m\u001b[0m\u001b[0m\n",
      "\u001b[0;31mAttributeError\u001b[0m: module 'scipy.misc' has no attribute 'imread'"
     ]
    }
   ],
   "source": [
    "import scipy.misc\n",
    "from matplotlib.pyplot import imread\n",
    "img=scipy.misc.imread('/Users/amarjitkumar/Desktop/imag.jpg')\n",
    "print('Image shape:', im.shape)"
   ]
  },
  {
   "cell_type": "markdown",
   "id": "ef48a9fc",
   "metadata": {},
   "source": [
    "# CNN Implementation"
   ]
  },
  {
   "cell_type": "code",
   "execution_count": 17,
   "id": "46559ee4",
   "metadata": {},
   "outputs": [],
   "source": [
    "import numpy as np\n",
    "import tensorflow\n",
    "import keras\n",
    "from keras.models import Sequential\n",
    "from keras.layers import Dense, Dropout, Flatten\n",
    "from keras.layers import Conv2D, MaxPooling2D\n",
    "from tensorflow.keras.optimizers import SGD\n",
    "\n",
    "# Generate Dummy data\n",
    "x_train=np.random.random((100, 100, 100, 3))\n",
    "y_train=tensorflow.keras.utils.to_categorical(np.random.randint(10, size=(100, 1)), num_classes=10)\n",
    "x_test=np.random.random((20,100,100,3))\n",
    "y_test=tensorflow.keras.utils.to_categorical(np.random.randint(10, size=(20,1)), num_classes=10)\n",
    "        "
   ]
  },
  {
   "cell_type": "code",
   "execution_count": 28,
   "id": "2b51aacc",
   "metadata": {},
   "outputs": [],
   "source": [
    "model=Sequential()\n",
    "model.add((Conv2D(32,(3,3), activation='relu', input_shape=(100,100,3))))\n",
    "model.add(Conv2D(32,(3,3), activation='relu'))\n",
    "model.add(MaxPooling2D(pool_size=(2,2)))\n",
    "model.add(Dropout(0,25))\n",
    "\n",
    "model.add(Conv2D(64, (3,3), activation='relu'))\n",
    "model.add(Conv2D(64,(3,3), activation='relu'))\n",
    "model.add(MaxPooling2D(pool_size=(2,2)))\n",
    "model.add(Dropout(0.25))\n",
    "\n",
    "model.add(Flatten())\n",
    "model.add(Dense(256, activation='relu'))\n",
    "model.add(Dropout(0.5))\n",
    "model.add(Dense(10, activation='softmax'))"
   ]
  },
  {
   "cell_type": "code",
   "execution_count": 29,
   "id": "19c99f2a",
   "metadata": {},
   "outputs": [],
   "source": [
    "sgd=SGD(lr=0.01, decay=1e-6, momentum=0.9, nesterov=True)\n",
    "model.compile(loss='categorical_crossentropy', optimizer=sgd)"
   ]
  },
  {
   "cell_type": "code",
   "execution_count": 30,
   "id": "0965fb51",
   "metadata": {},
   "outputs": [
    {
     "name": "stdout",
     "output_type": "stream",
     "text": [
      "Epoch 1/10\n"
     ]
    },
    {
     "ename": "TypeError",
     "evalue": "in user code:\n\n    File \"/Users/amarjitkumar/opt/anaconda3/lib/python3.8/site-packages/keras/engine/training.py\", line 1021, in train_function  *\n        return step_function(self, iterator)\n    File \"/Users/amarjitkumar/opt/anaconda3/lib/python3.8/site-packages/keras/engine/training.py\", line 1010, in step_function  **\n        outputs = model.distribute_strategy.run(run_step, args=(data,))\n    File \"/Users/amarjitkumar/opt/anaconda3/lib/python3.8/site-packages/keras/engine/training.py\", line 1000, in run_step  **\n        outputs = model.train_step(data)\n    File \"/Users/amarjitkumar/opt/anaconda3/lib/python3.8/site-packages/keras/engine/training.py\", line 859, in train_step\n        y_pred = self(x, training=True)\n    File \"/Users/amarjitkumar/opt/anaconda3/lib/python3.8/site-packages/keras/utils/traceback_utils.py\", line 67, in error_handler\n        raise e.with_traceback(filtered_tb) from None\n    File \"/Users/amarjitkumar/opt/anaconda3/lib/python3.8/site-packages/keras/layers/core/dropout.py\", line 99, in _get_noise_shape\n        for i, value in enumerate(self.noise_shape):\n\n    TypeError: Exception encountered when calling layer \"dropout_9\" (type Dropout).\n    \n    'int' object is not iterable\n    \n    Call arguments received:\n      • inputs=tf.Tensor(shape=(None, 48, 48, 32), dtype=float32)\n      • training=True\n",
     "output_type": "error",
     "traceback": [
      "\u001b[0;31m---------------------------------------------------------------------------\u001b[0m",
      "\u001b[0;31mTypeError\u001b[0m                                 Traceback (most recent call last)",
      "\u001b[0;32m<ipython-input-30-50e6c5661437>\u001b[0m in \u001b[0;36m<module>\u001b[0;34m\u001b[0m\n\u001b[0;32m----> 1\u001b[0;31m \u001b[0mmodel\u001b[0m\u001b[0;34m.\u001b[0m\u001b[0mfit\u001b[0m\u001b[0;34m(\u001b[0m\u001b[0mx_train\u001b[0m\u001b[0;34m,\u001b[0m \u001b[0my_train\u001b[0m\u001b[0;34m,\u001b[0m \u001b[0mbatch_size\u001b[0m\u001b[0;34m=\u001b[0m\u001b[0;36m32\u001b[0m\u001b[0;34m,\u001b[0m \u001b[0mepochs\u001b[0m\u001b[0;34m=\u001b[0m\u001b[0;36m10\u001b[0m\u001b[0;34m)\u001b[0m\u001b[0;34m\u001b[0m\u001b[0;34m\u001b[0m\u001b[0m\n\u001b[0m\u001b[1;32m      2\u001b[0m \u001b[0mscore\u001b[0m\u001b[0;34m=\u001b[0m\u001b[0mmodel\u001b[0m\u001b[0;34m.\u001b[0m\u001b[0mevaluate\u001b[0m\u001b[0;34m(\u001b[0m\u001b[0mx_test\u001b[0m\u001b[0;34m,\u001b[0m \u001b[0my_test\u001b[0m\u001b[0;34m,\u001b[0m \u001b[0mbatch_size\u001b[0m\u001b[0;34m=\u001b[0m\u001b[0;36m32\u001b[0m\u001b[0;34m)\u001b[0m\u001b[0;34m\u001b[0m\u001b[0;34m\u001b[0m\u001b[0m\n",
      "\u001b[0;32m~/opt/anaconda3/lib/python3.8/site-packages/keras/utils/traceback_utils.py\u001b[0m in \u001b[0;36merror_handler\u001b[0;34m(*args, **kwargs)\u001b[0m\n\u001b[1;32m     65\u001b[0m     \u001b[0;32mexcept\u001b[0m \u001b[0mException\u001b[0m \u001b[0;32mas\u001b[0m \u001b[0me\u001b[0m\u001b[0;34m:\u001b[0m  \u001b[0;31m# pylint: disable=broad-except\u001b[0m\u001b[0;34m\u001b[0m\u001b[0;34m\u001b[0m\u001b[0m\n\u001b[1;32m     66\u001b[0m       \u001b[0mfiltered_tb\u001b[0m \u001b[0;34m=\u001b[0m \u001b[0m_process_traceback_frames\u001b[0m\u001b[0;34m(\u001b[0m\u001b[0me\u001b[0m\u001b[0;34m.\u001b[0m\u001b[0m__traceback__\u001b[0m\u001b[0;34m)\u001b[0m\u001b[0;34m\u001b[0m\u001b[0;34m\u001b[0m\u001b[0m\n\u001b[0;32m---> 67\u001b[0;31m       \u001b[0;32mraise\u001b[0m \u001b[0me\u001b[0m\u001b[0;34m.\u001b[0m\u001b[0mwith_traceback\u001b[0m\u001b[0;34m(\u001b[0m\u001b[0mfiltered_tb\u001b[0m\u001b[0;34m)\u001b[0m \u001b[0;32mfrom\u001b[0m \u001b[0;32mNone\u001b[0m\u001b[0;34m\u001b[0m\u001b[0;34m\u001b[0m\u001b[0m\n\u001b[0m\u001b[1;32m     68\u001b[0m     \u001b[0;32mfinally\u001b[0m\u001b[0;34m:\u001b[0m\u001b[0;34m\u001b[0m\u001b[0;34m\u001b[0m\u001b[0m\n\u001b[1;32m     69\u001b[0m       \u001b[0;32mdel\u001b[0m \u001b[0mfiltered_tb\u001b[0m\u001b[0;34m\u001b[0m\u001b[0;34m\u001b[0m\u001b[0m\n",
      "\u001b[0;32m~/opt/anaconda3/lib/python3.8/site-packages/tensorflow/python/framework/func_graph.py\u001b[0m in \u001b[0;36mautograph_handler\u001b[0;34m(*args, **kwargs)\u001b[0m\n\u001b[1;32m   1145\u001b[0m           \u001b[0;32mexcept\u001b[0m \u001b[0mException\u001b[0m \u001b[0;32mas\u001b[0m \u001b[0me\u001b[0m\u001b[0;34m:\u001b[0m  \u001b[0;31m# pylint:disable=broad-except\u001b[0m\u001b[0;34m\u001b[0m\u001b[0;34m\u001b[0m\u001b[0m\n\u001b[1;32m   1146\u001b[0m             \u001b[0;32mif\u001b[0m \u001b[0mhasattr\u001b[0m\u001b[0;34m(\u001b[0m\u001b[0me\u001b[0m\u001b[0;34m,\u001b[0m \u001b[0;34m\"ag_error_metadata\"\u001b[0m\u001b[0;34m)\u001b[0m\u001b[0;34m:\u001b[0m\u001b[0;34m\u001b[0m\u001b[0;34m\u001b[0m\u001b[0m\n\u001b[0;32m-> 1147\u001b[0;31m               \u001b[0;32mraise\u001b[0m \u001b[0me\u001b[0m\u001b[0;34m.\u001b[0m\u001b[0mag_error_metadata\u001b[0m\u001b[0;34m.\u001b[0m\u001b[0mto_exception\u001b[0m\u001b[0;34m(\u001b[0m\u001b[0me\u001b[0m\u001b[0;34m)\u001b[0m\u001b[0;34m\u001b[0m\u001b[0;34m\u001b[0m\u001b[0m\n\u001b[0m\u001b[1;32m   1148\u001b[0m             \u001b[0;32melse\u001b[0m\u001b[0;34m:\u001b[0m\u001b[0;34m\u001b[0m\u001b[0;34m\u001b[0m\u001b[0m\n\u001b[1;32m   1149\u001b[0m               \u001b[0;32mraise\u001b[0m\u001b[0;34m\u001b[0m\u001b[0;34m\u001b[0m\u001b[0m\n",
      "\u001b[0;31mTypeError\u001b[0m: in user code:\n\n    File \"/Users/amarjitkumar/opt/anaconda3/lib/python3.8/site-packages/keras/engine/training.py\", line 1021, in train_function  *\n        return step_function(self, iterator)\n    File \"/Users/amarjitkumar/opt/anaconda3/lib/python3.8/site-packages/keras/engine/training.py\", line 1010, in step_function  **\n        outputs = model.distribute_strategy.run(run_step, args=(data,))\n    File \"/Users/amarjitkumar/opt/anaconda3/lib/python3.8/site-packages/keras/engine/training.py\", line 1000, in run_step  **\n        outputs = model.train_step(data)\n    File \"/Users/amarjitkumar/opt/anaconda3/lib/python3.8/site-packages/keras/engine/training.py\", line 859, in train_step\n        y_pred = self(x, training=True)\n    File \"/Users/amarjitkumar/opt/anaconda3/lib/python3.8/site-packages/keras/utils/traceback_utils.py\", line 67, in error_handler\n        raise e.with_traceback(filtered_tb) from None\n    File \"/Users/amarjitkumar/opt/anaconda3/lib/python3.8/site-packages/keras/layers/core/dropout.py\", line 99, in _get_noise_shape\n        for i, value in enumerate(self.noise_shape):\n\n    TypeError: Exception encountered when calling layer \"dropout_9\" (type Dropout).\n    \n    'int' object is not iterable\n    \n    Call arguments received:\n      • inputs=tf.Tensor(shape=(None, 48, 48, 32), dtype=float32)\n      • training=True\n"
     ]
    }
   ],
   "source": [
    "model.fit(x_train, y_train, batch_size=32, epochs=10)\n",
    "score=model.evaluate(x_test, y_test, batch_size=32)"
   ]
  },
  {
   "cell_type": "markdown",
   "id": "34eb6055",
   "metadata": {},
   "source": [
    "# Augmentation"
   ]
  },
  {
   "cell_type": "code",
   "execution_count": 31,
   "id": "568ec181",
   "metadata": {},
   "outputs": [],
   "source": [
    "# This is done to increase the number of images"
   ]
  },
  {
   "cell_type": "code",
   "execution_count": 3,
   "id": "eecc36d9",
   "metadata": {},
   "outputs": [
    {
     "name": "stdout",
     "output_type": "stream",
     "text": [
      "\u001b[33mWARNING: Retrying (Retry(total=4, connect=None, read=None, redirect=None, status=None)) after connection broken by 'NewConnectionError('<pip._vendor.urllib3.connection.HTTPSConnection object at 0x7facf99501c0>: Failed to establish a new connection: [Errno 8] nodename nor servname provided, or not known')': /simple/torchvision/\u001b[0m\n",
      "\u001b[33mWARNING: Retrying (Retry(total=3, connect=None, read=None, redirect=None, status=None)) after connection broken by 'NewConnectionError('<pip._vendor.urllib3.connection.HTTPSConnection object at 0x7facf9950670>: Failed to establish a new connection: [Errno 8] nodename nor servname provided, or not known')': /simple/torchvision/\u001b[0m\n",
      "\u001b[33mWARNING: Retrying (Retry(total=2, connect=None, read=None, redirect=None, status=None)) after connection broken by 'NewConnectionError('<pip._vendor.urllib3.connection.HTTPSConnection object at 0x7facf9950760>: Failed to establish a new connection: [Errno 8] nodename nor servname provided, or not known')': /simple/torchvision/\u001b[0m\n",
      "\u001b[33mWARNING: Retrying (Retry(total=1, connect=None, read=None, redirect=None, status=None)) after connection broken by 'NewConnectionError('<pip._vendor.urllib3.connection.HTTPSConnection object at 0x7facf99506a0>: Failed to establish a new connection: [Errno 8] nodename nor servname provided, or not known')': /simple/torchvision/\u001b[0m\n",
      "\u001b[33mWARNING: Retrying (Retry(total=0, connect=None, read=None, redirect=None, status=None)) after connection broken by 'NewConnectionError('<pip._vendor.urllib3.connection.HTTPSConnection object at 0x7facf9950820>: Failed to establish a new connection: [Errno 8] nodename nor servname provided, or not known')': /simple/torchvision/\u001b[0m\n",
      "\u001b[31mERROR: Could not find a version that satisfies the requirement torchvision\u001b[0m\n",
      "\u001b[31mERROR: No matching distribution found for torchvision\u001b[0m\n",
      "Note: you may need to restart the kernel to use updated packages.\n"
     ]
    }
   ],
   "source": [
    "pip install torchvision"
   ]
  },
  {
   "cell_type": "code",
   "execution_count": null,
   "id": "27c35127",
   "metadata": {},
   "outputs": [],
   "source": [
    "import PIL.Image\n",
    "import matplotlib.pyplot as plt\n",
    "import torch\n",
    "from torchvision import transforms"
   ]
  },
  {
   "cell_type": "code",
   "execution_count": null,
   "id": "59a6b56f",
   "metadata": {},
   "outputs": [],
   "source": [
    "def imshow(img, transform):\n",
    "    img=PIL.Image.open(img)\n",
    "    fig, ax=plt.subplots(1,2, figsize=(15,4))\n",
    "    ax[0].set_title(f'original image (img.size)')\n",
    "    ax[0].imshow(img)\n",
    "    img=transform(img)\n",
    "    ax[1].set_title(f'transformed image (img.size)')\n",
    "    ax[1].imshow(img)"
   ]
  },
  {
   "cell_type": "code",
   "execution_count": null,
   "id": "9d01d236",
   "metadata": {},
   "outputs": [],
   "source": [
    "# Scaling\n",
    "loader_transform=transform.Resize((140, 140))\n",
    "imshow('download.img')"
   ]
  },
  {
   "cell_type": "code",
   "execution_count": 3,
   "id": "616993d7",
   "metadata": {},
   "outputs": [
    {
     "ename": "NameError",
     "evalue": "name 'transform' is not defined",
     "output_type": "error",
     "traceback": [
      "\u001b[0;31m---------------------------------------------------------------------------\u001b[0m",
      "\u001b[0;31mNameError\u001b[0m                                 Traceback (most recent call last)",
      "\u001b[0;32m<ipython-input-3-eee77688b6dc>\u001b[0m in \u001b[0;36m<module>\u001b[0;34m\u001b[0m\n\u001b[1;32m      1\u001b[0m \u001b[0;31m# Cropping\u001b[0m\u001b[0;34m\u001b[0m\u001b[0;34m\u001b[0m\u001b[0;34m\u001b[0m\u001b[0m\n\u001b[0;32m----> 2\u001b[0;31m \u001b[0mloader_transform\u001b[0m\u001b[0;34m=\u001b[0m\u001b[0mtransform\u001b[0m\u001b[0;34m.\u001b[0m\u001b[0mCenterCrop\u001b[0m\u001b[0;34m(\u001b[0m\u001b[0;36m140\u001b[0m\u001b[0;34m)\u001b[0m\u001b[0;34m\u001b[0m\u001b[0;34m\u001b[0m\u001b[0m\n\u001b[0m\u001b[1;32m      3\u001b[0m \u001b[0mimshow\u001b[0m\u001b[0;34m(\u001b[0m\u001b[0;34m'path'\u001b[0m\u001b[0;34m,\u001b[0m \u001b[0mloader_transfrom\u001b[0m\u001b[0;34m)\u001b[0m\u001b[0;34m\u001b[0m\u001b[0;34m\u001b[0m\u001b[0m\n",
      "\u001b[0;31mNameError\u001b[0m: name 'transform' is not defined"
     ]
    }
   ],
   "source": [
    "# Cropping\n",
    "loader_transform=transform.CenterCrop(140)\n",
    "imshow('path', loader_transfrom)"
   ]
  },
  {
   "cell_type": "code",
   "execution_count": 4,
   "id": "6a877985",
   "metadata": {},
   "outputs": [
    {
     "ename": "NameError",
     "evalue": "name 'transforms' is not defined",
     "output_type": "error",
     "traceback": [
      "\u001b[0;31m---------------------------------------------------------------------------\u001b[0m",
      "\u001b[0;31mNameError\u001b[0m                                 Traceback (most recent call last)",
      "\u001b[0;32m<ipython-input-4-ed10cdba9735>\u001b[0m in \u001b[0;36m<module>\u001b[0;34m\u001b[0m\n\u001b[1;32m      1\u001b[0m \u001b[0;31m# Flipping\u001b[0m\u001b[0;34m\u001b[0m\u001b[0;34m\u001b[0m\u001b[0;34m\u001b[0m\u001b[0m\n\u001b[0;32m----> 2\u001b[0;31m \u001b[0mloader_transform\u001b[0m\u001b[0;34m=\u001b[0m\u001b[0mtransforms\u001b[0m\u001b[0;34m.\u001b[0m\u001b[0mRandomHorizontalFlip\u001b[0m\u001b[0;34m(\u001b[0m\u001b[0mp\u001b[0m\u001b[0;34m=\u001b[0m\u001b[0;36m1\u001b[0m\u001b[0;34m)\u001b[0m\u001b[0;34m\u001b[0m\u001b[0;34m\u001b[0m\u001b[0m\n\u001b[0m\u001b[1;32m      3\u001b[0m \u001b[0mimshow\u001b[0m\u001b[0;34m(\u001b[0m\u001b[0;34m'/home/harshit/Pictures/tiger.jpg'\u001b[0m\u001b[0;34m,\u001b[0m \u001b[0mloader_transform\u001b[0m\u001b[0;34m)\u001b[0m\u001b[0;34m\u001b[0m\u001b[0;34m\u001b[0m\u001b[0m\n",
      "\u001b[0;31mNameError\u001b[0m: name 'transforms' is not defined"
     ]
    }
   ],
   "source": [
    "# Flipping\n",
    "loader_transform=transforms.RandomHorizontalFlip(p=1)\n",
    "imshow('/home/harshit/Pictures/tiger.jpg', loader_transform)"
   ]
  },
  {
   "cell_type": "code",
   "execution_count": 5,
   "id": "baf58214",
   "metadata": {},
   "outputs": [],
   "source": [
    "# In total there are many types of Augmentation"
   ]
  },
  {
   "cell_type": "code",
   "execution_count": 6,
   "id": "334d1450",
   "metadata": {},
   "outputs": [],
   "source": [
    "# 1. Scaling 2. Cropping 3. Flipping 4. Padding 5. Rotation 6. Transformation 7. Color Augmentation"
   ]
  },
  {
   "cell_type": "code",
   "execution_count": 7,
   "id": "730a7308",
   "metadata": {},
   "outputs": [
    {
     "ename": "NameError",
     "evalue": "name 'transform' is not defined",
     "output_type": "error",
     "traceback": [
      "\u001b[0;31m---------------------------------------------------------------------------\u001b[0m",
      "\u001b[0;31mNameError\u001b[0m                                 Traceback (most recent call last)",
      "\u001b[0;32m<ipython-input-7-74fbadd85f95>\u001b[0m in \u001b[0;36m<module>\u001b[0;34m\u001b[0m\n\u001b[1;32m      1\u001b[0m \u001b[0;31m# Padding\u001b[0m\u001b[0;34m\u001b[0m\u001b[0;34m\u001b[0m\u001b[0;34m\u001b[0m\u001b[0m\n\u001b[0;32m----> 2\u001b[0;31m \u001b[0mloader_transform\u001b[0m\u001b[0;34m=\u001b[0m\u001b[0mtransform\u001b[0m\u001b[0;34m.\u001b[0m\u001b[0mPad\u001b[0m\u001b[0;34m(\u001b[0m\u001b[0;34m(\u001b[0m\u001b[0;36m2\u001b[0m\u001b[0;34m,\u001b[0m\u001b[0;36m5\u001b[0m\u001b[0;34m,\u001b[0m\u001b[0;36m0\u001b[0m\u001b[0;34m,\u001b[0m\u001b[0;36m5\u001b[0m\u001b[0;34m)\u001b[0m\u001b[0;34m)\u001b[0m\u001b[0;34m\u001b[0m\u001b[0;34m\u001b[0m\u001b[0m\n\u001b[0m\u001b[1;32m      3\u001b[0m \u001b[0mimshow\u001b[0m\u001b[0;34m(\u001b[0m\u001b[0;34m'image path'\u001b[0m\u001b[0;34m,\u001b[0m \u001b[0mloader_transform\u001b[0m\u001b[0;34m)\u001b[0m\u001b[0;34m\u001b[0m\u001b[0;34m\u001b[0m\u001b[0m\n",
      "\u001b[0;31mNameError\u001b[0m: name 'transform' is not defined"
     ]
    }
   ],
   "source": [
    "# Padding\n",
    "loader_transform=transform.Pad((2,5,0,5))\n",
    "imshow('image path', loader_transform)"
   ]
  },
  {
   "cell_type": "code",
   "execution_count": 8,
   "id": "e93c19c2",
   "metadata": {},
   "outputs": [
    {
     "ename": "NameError",
     "evalue": "name 'transform' is not defined",
     "output_type": "error",
     "traceback": [
      "\u001b[0;31m---------------------------------------------------------------------------\u001b[0m",
      "\u001b[0;31mNameError\u001b[0m                                 Traceback (most recent call last)",
      "\u001b[0;32m<ipython-input-8-d35c59cefd62>\u001b[0m in \u001b[0;36m<module>\u001b[0;34m\u001b[0m\n\u001b[1;32m      1\u001b[0m \u001b[0;31m# Rotation\u001b[0m\u001b[0;34m\u001b[0m\u001b[0;34m\u001b[0m\u001b[0;34m\u001b[0m\u001b[0m\n\u001b[0;32m----> 2\u001b[0;31m \u001b[0mloader_transform\u001b[0m\u001b[0;34m=\u001b[0m\u001b[0mtransform\u001b[0m\u001b[0;34m.\u001b[0m\u001b[0mRandomRotation\u001b[0m\u001b[0;34m(\u001b[0m\u001b[0;36m30\u001b[0m\u001b[0;34m)\u001b[0m\u001b[0;34m\u001b[0m\u001b[0;34m\u001b[0m\u001b[0m\n\u001b[0m",
      "\u001b[0;31mNameError\u001b[0m: name 'transform' is not defined"
     ]
    }
   ],
   "source": [
    "# Rotation\n",
    "loader_transform=transform.RandomRotation(30)"
   ]
  },
  {
   "cell_type": "code",
   "execution_count": 9,
   "id": "2643034f",
   "metadata": {},
   "outputs": [
    {
     "ename": "SyntaxError",
     "evalue": "invalid syntax (<ipython-input-9-51bd3b680e53>, line 2)",
     "output_type": "error",
     "traceback": [
      "\u001b[0;36m  File \u001b[0;32m\"<ipython-input-9-51bd3b680e53>\"\u001b[0;36m, line \u001b[0;32m2\u001b[0m\n\u001b[0;31m    loader_transform=transform.\u001b[0m\n\u001b[0m                               ^\u001b[0m\n\u001b[0;31mSyntaxError\u001b[0m\u001b[0;31m:\u001b[0m invalid syntax\n"
     ]
    }
   ],
   "source": [
    "# Transformation\n",
    "loader_transform=transform."
   ]
  },
  {
   "cell_type": "code",
   "execution_count": 10,
   "id": "43b51a3c",
   "metadata": {},
   "outputs": [
    {
     "name": "stdout",
     "output_type": "stream",
     "text": [
      "Requirement already satisfied: torchvision in ./opt/anaconda3/lib/python3.8/site-packages (0.13.1)\n",
      "Requirement already satisfied: typing-extensions in ./opt/anaconda3/lib/python3.8/site-packages (from torchvision) (3.7.4.3)\n",
      "Requirement already satisfied: pillow!=8.3.*,>=5.3.0 in ./opt/anaconda3/lib/python3.8/site-packages (from torchvision) (8.2.0)\n",
      "Requirement already satisfied: numpy in ./opt/anaconda3/lib/python3.8/site-packages (from torchvision) (1.20.1)\n",
      "Requirement already satisfied: requests in ./opt/anaconda3/lib/python3.8/site-packages (from torchvision) (2.25.1)\n",
      "Requirement already satisfied: torch==1.12.1 in ./opt/anaconda3/lib/python3.8/site-packages (from torchvision) (1.12.1)\n",
      "Requirement already satisfied: chardet<5,>=3.0.2 in ./opt/anaconda3/lib/python3.8/site-packages (from requests->torchvision) (4.0.0)\n",
      "Requirement already satisfied: idna<3,>=2.5 in ./opt/anaconda3/lib/python3.8/site-packages (from requests->torchvision) (2.10)\n",
      "Requirement already satisfied: certifi>=2017.4.17 in ./opt/anaconda3/lib/python3.8/site-packages (from requests->torchvision) (2020.12.5)\n",
      "Requirement already satisfied: urllib3<1.27,>=1.21.1 in ./opt/anaconda3/lib/python3.8/site-packages (from requests->torchvision) (1.26.4)\n"
     ]
    }
   ],
   "source": [
    "!pip3 install torchvision"
   ]
  },
  {
   "cell_type": "code",
   "execution_count": null,
   "id": "4f395707",
   "metadata": {},
   "outputs": [],
   "source": [
    "import PIL.Image\n",
    "import matplotlib.pyplot as plt\n",
    "from torchvision import transforms"
   ]
  },
  {
   "cell_type": "code",
   "execution_count": null,
   "id": "57ef60d8",
   "metadata": {},
   "outputs": [],
   "source": [
    "# Color Transformation\n",
    "img=PIL.Image.open('download.jpg')\n",
    "fig, ax=plt.subplots(2,2, figsize=(16,10))\n",
    "\n",
    "# Brightness\n",
    "loader_transofrm1=transforms.ColorJitter(brightness=2)\n",
    "img1=loader_transform1(img)\n",
    "ax[0,0].set_title(f'brightness')\n",
    "ax[0,0].imshow(img1)\n",
    "\n",
    "# Contrast\n",
    "loader_transofrm2=transforms.ColorJitter(contrast=2)\n",
    "img2=loader_transform1(img)\n",
    "ax[0,1].set_title(f'contrast')\n",
    "ax[0,1].imshow(img2)\n",
    "\n",
    "# Saturation\n",
    "loader_transofrm3=transforms.ColorJitter(saturation=2)\n",
    "img3=loader_transform1(img)\n",
    "ax[1,0].set_title(f'saturation')\n",
    "ax[1,0].imshow(img3)\n",
    "fig.savefig('color augmentation', bbox_inches='tight')\n",
    "\n",
    "#Hue\n",
    "loader_transofrm4=transforms.ColorJitter(brightness=2)\n",
    "img4=loader_transform1(img)\n",
    "ax[1,1].set_title(f'hue')\n",
    "ax[1,1].imshow(img4)\n",
    "fig.savefig('color augmentation', bbox_inches='tight')\n",
    "                  "
   ]
  },
  {
   "cell_type": "markdown",
   "id": "88b41fad",
   "metadata": {},
   "source": [
    " # Segmentation"
   ]
  },
  {
   "cell_type": "code",
   "execution_count": 2,
   "id": "ed067cab",
   "metadata": {},
   "outputs": [
    {
     "name": "stdout",
     "output_type": "stream",
     "text": [
      "Collecting tensorflow_datasets\n",
      "  Downloading tensorflow_datasets-4.6.0-py3-none-any.whl (4.3 MB)\n",
      "\u001b[K     |████████████████████████████████| 4.3 MB 51 kB/s eta 0:00:015\n",
      "\u001b[?25hRequirement already satisfied: absl-py in ./opt/anaconda3/lib/python3.8/site-packages (from tensorflow_datasets) (1.0.0)\n",
      "Collecting tensorflow-metadata\n",
      "  Downloading tensorflow_metadata-1.10.0-py3-none-any.whl (50 kB)\n",
      "\u001b[K     |████████████████████████████████| 50 kB 164 kB/s eta 0:00:01\n",
      "\u001b[?25hRequirement already satisfied: six in ./opt/anaconda3/lib/python3.8/site-packages (from tensorflow_datasets) (1.15.0)\n",
      "Collecting dill\n",
      "  Downloading dill-0.3.5.1-py2.py3-none-any.whl (95 kB)\n",
      "\u001b[K     |████████████████████████████████| 95 kB 241 kB/s eta 0:00:01\n",
      "\u001b[?25hRequirement already satisfied: protobuf>=3.12.2 in ./opt/anaconda3/lib/python3.8/site-packages (from tensorflow_datasets) (3.19.4)\n",
      "Requirement already satisfied: requests>=2.19.0 in ./opt/anaconda3/lib/python3.8/site-packages (from tensorflow_datasets) (2.25.1)\n",
      "Requirement already satisfied: toml in ./opt/anaconda3/lib/python3.8/site-packages (from tensorflow_datasets) (0.10.2)\n",
      "Requirement already satisfied: tqdm in ./opt/anaconda3/lib/python3.8/site-packages (from tensorflow_datasets) (4.59.0)\n",
      "Collecting promise\n",
      "  Downloading promise-2.3.tar.gz (19 kB)\n",
      "Collecting etils[epath]\n",
      "  Downloading etils-0.8.0-py3-none-any.whl (127 kB)\n",
      "\u001b[K     |████████████████████████████████| 127 kB 135 kB/s eta 0:00:01\n",
      "\u001b[?25hRequirement already satisfied: numpy in ./opt/anaconda3/lib/python3.8/site-packages (from tensorflow_datasets) (1.20.1)\n",
      "Collecting importlib-resources\n",
      "  Downloading importlib_resources-5.9.0-py3-none-any.whl (33 kB)\n",
      "Requirement already satisfied: termcolor in ./opt/anaconda3/lib/python3.8/site-packages (from tensorflow_datasets) (1.1.0)\n",
      "Requirement already satisfied: idna<3,>=2.5 in ./opt/anaconda3/lib/python3.8/site-packages (from requests>=2.19.0->tensorflow_datasets) (2.10)\n",
      "Requirement already satisfied: urllib3<1.27,>=1.21.1 in ./opt/anaconda3/lib/python3.8/site-packages (from requests>=2.19.0->tensorflow_datasets) (1.26.4)\n",
      "Requirement already satisfied: chardet<5,>=3.0.2 in ./opt/anaconda3/lib/python3.8/site-packages (from requests>=2.19.0->tensorflow_datasets) (4.0.0)\n",
      "Requirement already satisfied: certifi>=2017.4.17 in ./opt/anaconda3/lib/python3.8/site-packages (from requests>=2.19.0->tensorflow_datasets) (2020.12.5)\n",
      "Requirement already satisfied: zipp in ./opt/anaconda3/lib/python3.8/site-packages (from etils[epath]->tensorflow_datasets) (3.4.1)\n",
      "Requirement already satisfied: typing_extensions in ./opt/anaconda3/lib/python3.8/site-packages (from etils[epath]->tensorflow_datasets) (3.7.4.3)\n",
      "Collecting googleapis-common-protos<2,>=1.52.0\n",
      "  Downloading googleapis_common_protos-1.56.4-py2.py3-none-any.whl (211 kB)\n",
      "\u001b[K     |████████████████████████████████| 211 kB 52 kB/s eta 0:00:01\n",
      "\u001b[?25hBuilding wheels for collected packages: promise\n",
      "  Building wheel for promise (setup.py) ... \u001b[?25ldone\n",
      "\u001b[?25h  Created wheel for promise: filename=promise-2.3-py3-none-any.whl size=21494 sha256=9e0e114319134ba5fedc3701174c1cd3a8fcfa0d2cd712b9def95062a099a07b\n",
      "  Stored in directory: /Users/amarjitkumar/Library/Caches/pip/wheels/54/aa/01/724885182f93150035a2a91bce34a12877e8067a97baaf5dc8\n",
      "Successfully built promise\n",
      "Installing collected packages: etils, importlib-resources, googleapis-common-protos, tensorflow-metadata, promise, dill, tensorflow-datasets\n",
      "Successfully installed dill-0.3.5.1 etils-0.8.0 googleapis-common-protos-1.56.4 importlib-resources-5.9.0 promise-2.3 tensorflow-datasets-4.6.0 tensorflow-metadata-1.10.0\n",
      "Note: you may need to restart the kernel to use updated packages.\n"
     ]
    }
   ],
   "source": [
    "pip install tensorflow_datasets"
   ]
  },
  {
   "cell_type": "code",
   "execution_count": 3,
   "id": "a824ee44",
   "metadata": {},
   "outputs": [],
   "source": [
    "# Importing required libraries\n",
    "import tensorflow as tf\n",
    "from tensorflow import keras\n",
    "from tensorflow.keras import layers\n",
    "import tensorflow_datasets as tfds\n",
    "import matplotlib.pyplot as plt\n",
    "import numpy as np"
   ]
  },
  {
   "cell_type": "code",
   "execution_count": null,
   "id": "14675e82",
   "metadata": {},
   "outputs": [
    {
     "name": "stdout",
     "output_type": "stream",
     "text": [
      "\u001b[1mDownloading and preparing dataset 773.52 MiB (download: 773.52 MiB, generated: 774.69 MiB, total: 1.51 GiB) to ~/tensorflow_datasets/oxford_iiit_pet/3.2.0...\u001b[0m\n"
     ]
    },
    {
     "data": {
      "application/vnd.jupyter.widget-view+json": {
       "model_id": "1a5c6e7c61be455d95c6f662cecf1031",
       "version_major": 2,
       "version_minor": 0
      },
      "text/plain": [
       "Dl Completed...: 0 url [00:00, ? url/s]"
      ]
     },
     "metadata": {},
     "output_type": "display_data"
    },
    {
     "data": {
      "application/vnd.jupyter.widget-view+json": {
       "model_id": "47db16a2f33a440880597bbb93ac6edf",
       "version_major": 2,
       "version_minor": 0
      },
      "text/plain": [
       "Dl Size...: 0 MiB [00:00, ? MiB/s]"
      ]
     },
     "metadata": {},
     "output_type": "display_data"
    },
    {
     "data": {
      "application/vnd.jupyter.widget-view+json": {
       "model_id": "011141f122144595a90871cb074d66fc",
       "version_major": 2,
       "version_minor": 0
      },
      "text/plain": [
       "Extraction completed...: 0 file [00:00, ? file/s]"
      ]
     },
     "metadata": {},
     "output_type": "display_data"
    }
   ],
   "source": [
    "# Dataset\n",
    "dataset, info=tfds.load('oxford_iiit_pet:3.*.*',with_info=True)"
   ]
  },
  {
   "cell_type": "code",
   "execution_count": null,
   "id": "65d7c770",
   "metadata": {},
   "outputs": [],
   "source": [
    "print(info)"
   ]
  },
  {
   "cell_type": "code",
   "execution_count": null,
   "id": "ae1d93cf",
   "metadata": {},
   "outputs": [],
   "source": [
    "# Resizing the image and masking to 128*128\n",
    "def resize(input_image, input_mask):\n",
    "    input_image=tf.image.resize(input_image, (128,128), method='nearest')\n",
    "    input_mask=tf.image.resize(input_mask, (128,128), method='nearest')\n",
    "    return input_image, input_mask"
   ]
  },
  {
   "cell_type": "code",
   "execution_count": null,
   "id": "bc987a87",
   "metadata": {},
   "outputs": [],
   "source": [
    "# Create a function to augment the dataset by flipping them horizontally:\n",
    "def augment(input_image, input_mask):\n",
    "    if tf.random.uniform(())>0.5:\n",
    "        # Random flipping of the image and mask\n",
    "        input_image=tf.image.flip_left_right(input_image)\n",
    "        input_mask=tf.image.flip_left_right(input_mask)\n",
    "    return input_image, input_mask"
   ]
  },
  {
   "cell_type": "code",
   "execution_count": null,
   "id": "5362c014",
   "metadata": {},
   "outputs": [],
   "source": [
    "# Creating a function to normalize the dataset by scaling the images to the range of [-1,1] and decreasing the image mask by 1\n",
    "def normalize(input_image, input_mask):\n",
    "    input_image=tf.cast(input_image, tf.float32)/255.0\n",
    "    input_mask=1\n",
    "    return input_image, input_mask"
   ]
  },
  {
   "cell_type": "code",
   "execution_count": 1,
   "id": "951b1839",
   "metadata": {},
   "outputs": [
    {
     "ename": "SyntaxError",
     "evalue": "invalid syntax (<ipython-input-1-b1d6b6eabccb>, line 4)",
     "output_type": "error",
     "traceback": [
      "\u001b[0;36m  File \u001b[0;32m\"<ipython-input-1-b1d6b6eabccb>\"\u001b[0;36m, line \u001b[0;32m4\u001b[0m\n\u001b[0;31m    def load_image\u001b[0m\n\u001b[0m                  ^\u001b[0m\n\u001b[0;31mSyntaxError\u001b[0m\u001b[0;31m:\u001b[0m invalid syntax\n"
     ]
    }
   ],
   "source": [
    "# Create two functions to preprocess the training and test datasets with a slight difference between the two-\n",
    "# we only perform image augmentation on the training dataset.\n",
    "\n",
    "def load_image"
   ]
  },
  {
   "cell_type": "markdown",
   "id": "2db04214",
   "metadata": {},
   "source": [
    "# Implementation:"
   ]
  },
  {
   "cell_type": "code",
   "execution_count": 1,
   "id": "e6208e96",
   "metadata": {},
   "outputs": [
    {
     "ename": "SyntaxError",
     "evalue": "invalid syntax (<ipython-input-1-ff99e8fc2557>, line 22)",
     "output_type": "error",
     "traceback": [
      "\u001b[0;36m  File \u001b[0;32m\"<ipython-input-1-ff99e8fc2557>\"\u001b[0;36m, line \u001b[0;32m22\u001b[0m\n\u001b[0;31m    print(x_test.)\u001b[0m\n\u001b[0m                 ^\u001b[0m\n\u001b[0;31mSyntaxError\u001b[0m\u001b[0;31m:\u001b[0m invalid syntax\n"
     ]
    }
   ],
   "source": [
    "encoding_dim=15\n",
    "input_img = Input(shape=(784,))\n",
    "encoded=Dense(encoding_dim,activation='relu')(input_img)\n",
    "\n",
    "decoded=Dense(784,activation='sigmoid')(encoded)\n",
    "autoencoder= Model(input_img, decoded)\n",
    "\n",
    "encoder=Model(input_img, encoded)\n",
    "encoded_input=Input(shape=(encoding_dim,))\n",
    "decoder_layer=autoencoder.layers\n",
    "decoder=Model(encoded_input, decoder_layer(encoded_input))\n",
    "\n",
    "\n",
    "autoencoder.compile(optimizer='adam',loss='binary_crossentropy')\n",
    "\n",
    "(x_train, y_train),(x_test,y_test)=mnist.load_data()\n",
    "x_train=x_train.astype('float32')/225.\n",
    "x_test=x_test.astype('flaot32')/225.\n",
    "x_train=x_train.reshape((len(x_train),np.prod(x_train.shape[1:])))\n",
    "x_test=x_test.reshape((len(x_test),np.prod(x_test.input_shape[1:])))\n",
    "print(x_train.shape)\n",
    "print(x_test.)"
   ]
  },
  {
   "cell_type": "code",
   "execution_count": 2,
   "id": "66eed4d7",
   "metadata": {},
   "outputs": [
    {
     "ename": "NameError",
     "evalue": "name 'encoder' is not defined",
     "output_type": "error",
     "traceback": [
      "\u001b[0;31m---------------------------------------------------------------------------\u001b[0m",
      "\u001b[0;31mNameError\u001b[0m                                 Traceback (most recent call last)",
      "\u001b[0;32m<ipython-input-2-fbdb8b8dc5bb>\u001b[0m in \u001b[0;36m<module>\u001b[0;34m\u001b[0m\n\u001b[0;32m----> 1\u001b[0;31m \u001b[0mencoded_img\u001b[0m\u001b[0;34m=\u001b[0m\u001b[0mencoder\u001b[0m\u001b[0;34m.\u001b[0m\u001b[0mpredict\u001b[0m\u001b[0;34m(\u001b[0m\u001b[0mx_test\u001b[0m\u001b[0;34m)\u001b[0m\u001b[0;34m\u001b[0m\u001b[0;34m\u001b[0m\u001b[0m\n\u001b[0m\u001b[1;32m      2\u001b[0m \u001b[0mdecoded_img\u001b[0m\u001b[0;34m=\u001b[0m\u001b[0mdecoder\u001b[0m\u001b[0;34m.\u001b[0m\u001b[0mpredict\u001b[0m\u001b[0;34m(\u001b[0m\u001b[0mencoded_img\u001b[0m\u001b[0;34m)\u001b[0m\u001b[0;34m\u001b[0m\u001b[0;34m\u001b[0m\u001b[0m\n\u001b[1;32m      3\u001b[0m \u001b[0mplt\u001b[0m\u001b[0;34m.\u001b[0m\u001b[0mfigure\u001b[0m\u001b[0;34m(\u001b[0m\u001b[0mfigsize\u001b[0m\u001b[0;34m=\u001b[0m\u001b[0;34m(\u001b[0m\u001b[0;36m20\u001b[0m\u001b[0;34m,\u001b[0m\u001b[0;36m4\u001b[0m\u001b[0;34m)\u001b[0m\u001b[0;34m)\u001b[0m\u001b[0;34m\u001b[0m\u001b[0;34m\u001b[0m\u001b[0m\n\u001b[1;32m      4\u001b[0m \u001b[0;32mfor\u001b[0m \u001b[0mi\u001b[0m \u001b[0;32min\u001b[0m \u001b[0mrange\u001b[0m\u001b[0;34m(\u001b[0m\u001b[0;36m5\u001b[0m\u001b[0;34m)\u001b[0m\u001b[0;34m:\u001b[0m\u001b[0;34m\u001b[0m\u001b[0;34m\u001b[0m\u001b[0m\n\u001b[1;32m      5\u001b[0m  \u001b[0max\u001b[0m\u001b[0;34m=\u001b[0m\u001b[0mplt\u001b[0m\u001b[0;34m.\u001b[0m\u001b[0msubplot\u001b[0m\u001b[0;34m(\u001b[0m\u001b[0;36m2\u001b[0m\u001b[0;34m,\u001b[0m\u001b[0;36m5\u001b[0m\u001b[0;34m,\u001b[0m\u001b[0mi\u001b[0m\u001b[0;34m+\u001b[0m\u001b[0;36m1\u001b[0m\u001b[0;34m)\u001b[0m\u001b[0;34m\u001b[0m\u001b[0;34m\u001b[0m\u001b[0m\n",
      "\u001b[0;31mNameError\u001b[0m: name 'encoder' is not defined"
     ]
    }
   ],
   "source": [
    "encoded_img=encoder.predict(x_test)\n",
    "decoded_img=decoder.predict(encoded_img)\n",
    "plt.figure(figsize=(20,4))\n",
    "for i in range(5):\n",
    " ax=plt.subplot(2,5,i+1)\n",
    " plt.imshow(x_test[i].reshape(28,28))\n",
    " plt.gray()\n",
    " ax.get_xaxis().set_visible(False)\n",
    " ax.get_yaxis().set_visible(False)\n",
    " ax=plt.subplot(2,5,i+1+5)\n",
    " plt.imshow(decoded_img[i].reshape(28,28))\n",
    " plt.gray()\n",
    " ax.get_xaxis().set_visible(False)\n",
    " ax.get_yaxis().set_visible(False)\n",
    "plt.show()"
   ]
  },
  {
   "cell_type": "code",
   "execution_count": 9,
   "id": "2338c0c0",
   "metadata": {},
   "outputs": [],
   "source": [
    "from keras.layers import Dense,Conv2D,MaxPooling2D,UpSampling2D\n",
    "from keras import Input , Model\n",
    "from keras.datasets import mnist\n",
    "import numpy as np\n",
    "import matplotlib.pyplot as plt\n",
    "from keras.models import Sequential"
   ]
  },
  {
   "cell_type": "code",
   "execution_count": 10,
   "id": "a9a07ec1",
   "metadata": {},
   "outputs": [
    {
     "name": "stdout",
     "output_type": "stream",
     "text": [
      "Model: \"sequential\"\n",
      "_________________________________________________________________\n",
      " Layer (type)                Output Shape              Param #   \n",
      "=================================================================\n",
      " conv2d (Conv2D)             (None, 28, 28, 30)        300       \n",
      "                                                                 \n",
      " max_pooling2d (MaxPooling2D  (None, 14, 14, 30)       0         \n",
      " )                                                               \n",
      "                                                                 \n",
      " conv2d_1 (Conv2D)           (None, 14, 14, 15)        4065      \n",
      "                                                                 \n",
      " max_pooling2d_1 (MaxPooling  (None, 7, 7, 15)         0         \n",
      " 2D)                                                             \n",
      "                                                                 \n",
      " conv2d_2 (Conv2D)           (None, 7, 7, 15)          2040      \n",
      "                                                                 \n",
      " up_sampling2d (UpSampling2D  (None, 14, 14, 15)       0         \n",
      " )                                                               \n",
      "                                                                 \n",
      " conv2d_3 (Conv2D)           (None, 14, 14, 30)        4080      \n",
      "                                                                 \n",
      " up_sampling2d_1 (UpSampling  (None, 28, 28, 30)       0         \n",
      " 2D)                                                             \n",
      "                                                                 \n",
      " conv2d_4 (Conv2D)           (None, 28, 28, 1)         271       \n",
      "                                                                 \n",
      "=================================================================\n",
      "Total params: 10,756\n",
      "Trainable params: 10,756\n",
      "Non-trainable params: 0\n",
      "_________________________________________________________________\n"
     ]
    }
   ],
   "source": [
    "model=Sequential()\n",
    "\n",
    "#Encoder Network\n",
    "\n",
    "model.add(Conv2D(30, 3, activation='relu', padding='same', input_shape=(28,28,1)))\n",
    "model.add(MaxPooling2D(2,padding='same'))\n",
    "model.add(Conv2D(15,3,activation='relu', padding='same'))\n",
    "model.add(MaxPooling2D(2,padding='same'))\n",
    "\n",
    "#Deocder Network\n",
    "\n",
    "model.add(Conv2D(15, 3, activation='relu', padding='same'))\n",
    "model.add(UpSampling2D(2))\n",
    "model.add(Conv2D(30,3, activation='relu', padding='same'))\n",
    "model.add(UpSampling2D(2))\n",
    "model.add(Conv2D(1,3, activation='sigmoid', padding='same')) # Output Layer\n",
    "model.compile(optimizer='adam', loss='binary_crossentropy')\n",
    "model.summary()"
   ]
  },
  {
   "cell_type": "code",
   "execution_count": 11,
   "id": "8616db2a",
   "metadata": {},
   "outputs": [
    {
     "name": "stdout",
     "output_type": "stream",
     "text": [
      "Epoch 1/15\n",
      "469/469 [==============================] - 95s 200ms/step - loss: 0.1267 - val_loss: 0.0403\n",
      "Epoch 2/15\n",
      "469/469 [==============================] - 92s 197ms/step - loss: 0.0788 - val_loss: 0.0292\n",
      "Epoch 3/15\n",
      "469/469 [==============================] - 91s 195ms/step - loss: 0.0754 - val_loss: 0.0234\n",
      "Epoch 4/15\n",
      "469/469 [==============================] - 98s 208ms/step - loss: 0.0735 - val_loss: 0.0221\n",
      "Epoch 5/15\n",
      "469/469 [==============================] - 95s 203ms/step - loss: 0.0722 - val_loss: 0.0198\n",
      "Epoch 6/15\n",
      "469/469 [==============================] - 92s 195ms/step - loss: 0.0713 - val_loss: 0.0166\n",
      "Epoch 7/15\n",
      "469/469 [==============================] - 90s 191ms/step - loss: 0.0706 - val_loss: 0.0152\n",
      "Epoch 8/15\n",
      "469/469 [==============================] - 91s 193ms/step - loss: 0.0700 - val_loss: 0.0145\n",
      "Epoch 9/15\n",
      "469/469 [==============================] - 93s 198ms/step - loss: 0.0696 - val_loss: 0.0149\n",
      "Epoch 10/15\n",
      "469/469 [==============================] - 93s 197ms/step - loss: 0.0693 - val_loss: 0.0142\n",
      "Epoch 11/15\n",
      "469/469 [==============================] - 89s 190ms/step - loss: 0.0689 - val_loss: 0.0137\n",
      "Epoch 12/15\n",
      "469/469 [==============================] - 89s 189ms/step - loss: 0.0687 - val_loss: 0.0133\n",
      "Epoch 13/15\n",
      "469/469 [==============================] - 90s 192ms/step - loss: 0.0684 - val_loss: 0.0123\n",
      "Epoch 14/15\n",
      "469/469 [==============================] - 92s 197ms/step - loss: 0.0682 - val_loss: 0.0116\n",
      "Epoch 15/15\n",
      "469/469 [==============================] - 91s 195ms/step - loss: 0.0680 - val_loss: 0.0119\n"
     ]
    },
    {
     "data": {
      "text/plain": [
       "<keras.callbacks.History at 0x7f80b4e66b80>"
      ]
     },
     "execution_count": 11,
     "metadata": {},
     "output_type": "execute_result"
    }
   ],
   "source": [
    "(x_train,_),(x_test,_)=mnist.load_data()\n",
    "x_train=x_train.astype('float32')/255.\n",
    "x_test=x_test.astype('float32')/225.\n",
    "x_train=np.reshape(x_train,(len(x_train),28,28,1))\n",
    "x_test=np.reshape(x_test,(len(x_test),28,28,1))\n",
    "model.fit(x_train,x_train,epochs=15,batch_size=128,validation_data=(x_test,x_test))"
   ]
  },
  {
   "cell_type": "code",
   "execution_count": 13,
   "id": "ccc1a107",
   "metadata": {},
   "outputs": [
    {
     "data": {
      "image/png": "[encoded data removed]",
      "text/plain": [
       "<Figure size 1440x288 with 10 Axes>"
      ]
     },
     "metadata": {
      "needs_background": "light"
     },
     "output_type": "display_data"
    }
   ],
   "source": [
    "pred = model.predict(x_test)\n",
    "plt.figure(figsize=(20,4))\n",
    "for i in range(5):\n",
    " ax=plt.subplot(2,5,i+1)\n",
    " plt.imshow(x_test[i].reshape(28,28))\n",
    " plt.gray()\n",
    " ax.get_xaxis().set_visible(False)\n",
    " ax.get_yaxis().set_visible(False)\n",
    " ax=plt.subplot(2,5,i+1+5)\n",
    " plt.imshow(pred[i].reshape(28,28))\n",
    " plt.gray()\n",
    " ax.get_xaxis().set_visible(False)\n",
    " ax.get_yaxis().set_visible(False)\n",
    "plt.show()"
   ]
  },
  {
   "cell_type": "markdown",
   "id": "f554083b",
   "metadata": {},
   "source": [
    "# Denoising Auto-encoders:"
   ]
  },
  {
   "cell_type": "markdown",
   "id": "a96c3e5d",
   "metadata": {},
   "source": [
    "# Anomaly Detection:"
   ]
  },
  {
   "cell_type": "code",
   "execution_count": 2,
   "id": "b97a98e4",
   "metadata": {},
   "outputs": [
    {
     "name": "stdout",
     "output_type": "stream",
     "text": [
      "Collecting pyod\n",
      "  Downloading pyod-1.0.5.tar.gz (137 kB)\n",
      "\u001b[K     |████████████████████████████████| 137 kB 295 kB/s eta 0:00:01\n",
      "\u001b[?25hRequirement already satisfied: joblib in ./opt/anaconda3/lib/python3.8/site-packages (from pyod) (1.0.1)\n",
      "Requirement already satisfied: matplotlib in ./opt/anaconda3/lib/python3.8/site-packages (from pyod) (3.3.4)\n",
      "Requirement already satisfied: numpy>=1.19 in ./opt/anaconda3/lib/python3.8/site-packages (from pyod) (1.20.1)\n",
      "Requirement already satisfied: numba>=0.51 in ./opt/anaconda3/lib/python3.8/site-packages (from pyod) (0.53.1)\n",
      "Requirement already satisfied: scipy>=1.5.1 in ./opt/anaconda3/lib/python3.8/site-packages (from pyod) (1.6.2)\n",
      "Requirement already satisfied: scikit_learn>=0.20.0 in ./opt/anaconda3/lib/python3.8/site-packages (from pyod) (0.24.1)\n",
      "Requirement already satisfied: six in ./opt/anaconda3/lib/python3.8/site-packages (from pyod) (1.15.0)\n",
      "Requirement already satisfied: statsmodels in ./opt/anaconda3/lib/python3.8/site-packages (from pyod) (0.12.2)\n",
      "Requirement already satisfied: setuptools in ./opt/anaconda3/lib/python3.8/site-packages (from numba>=0.51->pyod) (52.0.0.post20210125)\n",
      "Requirement already satisfied: llvmlite<0.37,>=0.36.0rc1 in ./opt/anaconda3/lib/python3.8/site-packages (from numba>=0.51->pyod) (0.36.0)\n",
      "Requirement already satisfied: threadpoolctl>=2.0.0 in ./opt/anaconda3/lib/python3.8/site-packages (from scikit_learn>=0.20.0->pyod) (2.1.0)\n",
      "Requirement already satisfied: kiwisolver>=1.0.1 in ./opt/anaconda3/lib/python3.8/site-packages (from matplotlib->pyod) (1.3.1)\n",
      "Requirement already satisfied: pyparsing!=2.0.4,!=2.1.2,!=2.1.6,>=2.0.3 in ./opt/anaconda3/lib/python3.8/site-packages (from matplotlib->pyod) (2.4.7)\n",
      "Requirement already satisfied: python-dateutil>=2.1 in ./opt/anaconda3/lib/python3.8/site-packages (from matplotlib->pyod) (2.8.1)\n",
      "Requirement already satisfied: cycler>=0.10 in ./opt/anaconda3/lib/python3.8/site-packages (from matplotlib->pyod) (0.10.0)\n",
      "Requirement already satisfied: pillow>=6.2.0 in ./opt/anaconda3/lib/python3.8/site-packages (from matplotlib->pyod) (8.2.0)\n",
      "Requirement already satisfied: patsy>=0.5 in ./opt/anaconda3/lib/python3.8/site-packages (from statsmodels->pyod) (0.5.1)\n",
      "Requirement already satisfied: pandas>=0.21 in ./opt/anaconda3/lib/python3.8/site-packages (from statsmodels->pyod) (1.2.4)\n",
      "Requirement already satisfied: pytz>=2017.3 in ./opt/anaconda3/lib/python3.8/site-packages (from pandas>=0.21->statsmodels->pyod) (2021.1)\n",
      "Building wheels for collected packages: pyod\n",
      "  Building wheel for pyod (setup.py) ... \u001b[?25ldone\n",
      "\u001b[?25h  Created wheel for pyod: filename=pyod-1.0.5-py3-none-any.whl size=170249 sha256=19116a5e8da984dda6237162cdcc6ccc7a19d6628c498d263bc85976a9b8ed1a\n",
      "  Stored in directory: /Users/amarjitkumar/Library/Caches/pip/wheels/1c/ff/7e/9a03be54a5b71420ee3c3b57c31fcef7cf101395278855575f\n",
      "Successfully built pyod\n",
      "Installing collected packages: pyod\n",
      "Successfully installed pyod-1.0.5\n",
      "Note: you may need to restart the kernel to use updated packages.\n"
     ]
    }
   ],
   "source": [
    "pip install pyod"
   ]
  },
  {
   "cell_type": "code",
   "execution_count": 6,
   "id": "562a1e25",
   "metadata": {},
   "outputs": [],
   "source": [
    "import numpy as np\n",
    "from scipy import stats\n",
    "import matplotlib.pyplot as plt\n",
    "import matplotlib.font_manager\n",
    "from pyod.models.knn import KNN\n",
    "from pyod.utils.data import generate_data, get_outliers_inliers\n",
    "\n",
    "# Generating a random dataset with two features\n",
    "X_train, Y_train=generate_data(n_train=300, train_only=True, n_features=2)\n",
    "\n"
   ]
  },
  {
   "cell_type": "code",
   "execution_count": 15,
   "id": "b29953bd",
   "metadata": {},
   "outputs": [
    {
     "name": "stderr",
     "output_type": "stream",
     "text": [
      "/Users/amarjitkumar/opt/anaconda3/lib/python3.8/site-packages/pyod/models/base.py:410: UserWarning: y should not be presented in unsupervised learning.\n",
      "  warnings.warn(\n"
     ]
    },
    {
     "name": "stdout",
     "output_type": "stream",
     "text": [
      "The number of prediction errors are11\n"
     ]
    },
    {
     "data": {
      "image/png": "[encoded data removed]",
      "text/plain": [
       "<Figure size 432x288 with 1 Axes>"
      ]
     },
     "metadata": {
      "needs_background": "light"
     },
     "output_type": "display_data"
    }
   ],
   "source": [
    "#Setting the percentage of outliers\n",
    "outlier_fraction=0.09\n",
    "\n",
    "\n",
    "#Storing the outliers and inliners in different numpy arrays\n",
    "X_outliers,X_inliers=get_outliers_inliers(X_train,Y_train)\n",
    "n_inliers=len(X_inliers)\n",
    "n_outliers=len(X_outliers)\n",
    "\n",
    "\n",
    "#Separating the two features\n",
    "f1=X_train[:,[0]].reshape(-1,1)\n",
    "f2=X_train[:,[1]].reshape(-1,1)\n",
    "\n",
    "\n",
    "#Visualising the dataset\n",
    "#Create a meshgrid\n",
    "XX,YY=np.meshgrid(np.linspace(-10,10,200),np.linspace(-10,10,200))\n",
    "\n",
    "#scatter plot\n",
    "plt.scatter(f1,f2)\n",
    "plt.xlabel('Feature1')\n",
    "plt.ylabel('Feature2')\n",
    "\n",
    "#Training the classifier\n",
    "clf=KNN(contamination=outlier_fraction)\n",
    "clf.fit(X_train,Y_train)\n",
    "\n",
    "\n",
    "#You can print this to see all the prediction scores\n",
    "scores_pred=clf.decision_function(X_train)*-1\n",
    "\n",
    "\n",
    "Y_pred=clf.predict(X_train)\n",
    "n_errors=(Y_pred!=Y_train).sum()\n",
    "\n",
    "\n",
    "#Counting the number of errors\n",
    "print('The number of prediction errors are'+str(n_errors))\n",
    "\n"
   ]
  },
  {
   "cell_type": "code",
   "execution_count": 14,
   "id": "6ddd9e9e",
   "metadata": {},
   "outputs": [
    {
     "name": "stderr",
     "output_type": "stream",
     "text": [
      "<ipython-input-14-d2489cf9e688>:21: UserWarning: The following kwargs were not used by contour: 'level'\n",
      "  a=subplot.contour(XX,YY,Z,level=[threshold],linewidths=2,colors='red')\n"
     ]
    },
    {
     "data": {
      "image/png": "[encoded data removed]",
      "text/plain": [
       "<Figure size 432x288 with 1 Axes>"
      ]
     },
     "metadata": {
      "needs_background": "light"
     },
     "output_type": "display_data"
    }
   ],
   "source": [
    "#threshold value to consider a\n",
    "#datapoint inlier or outlier\n",
    "threshold=stats.scoreatpercentile(scores_pred,100*outlier_fraction)\n",
    "\n",
    "\n",
    "#decion function calculates the raw\n",
    "#anomaly score for every point\n",
    "Z=clf.decision_function(np.c_[XX.ravel(),YY.ravel()])*-1\n",
    "Z=Z.reshape(XX.shape)\n",
    "\n",
    "\n",
    "#fill blue colormap from minimum anomaly\n",
    "#score to threshold value\n",
    "subplot=plt.subplot(1,2,1)\n",
    "subplot.contourf(XX,YY,Z,levels=np.linspace(Z.min(),threshold,10),cmap=plt.cm.Blues_r)\n",
    "\n",
    "\n",
    "\n",
    "#draw red contour line where anomaly\n",
    "#score is equal to thershold\n",
    "a=subplot.contour(XX,YY,Z,level=[threshold],linewidths=2,colors='red')\n",
    "subplot.contourf(XX, YY, Z, levels =[threshold, Z.max()], colors ='orange')\n",
    "b = subplot.scatter(X_train[:-n_outliers, 0], X_train[:-n_outliers, 1],c ='white', s = 20, edgecolor ='k')\n",
    "c = subplot.scatter(X_train[-n_outliers:, 0], X_train[-n_outliers:, 1], c ='black', s = 20, edgecolor ='k')\n",
    "subplot.axis('tight')\n",
    "\n",
    "subplot.legend(\n",
    "[a.collections[0], b, c],\n",
    "['learned decision function', 'true inliers', 'true outliers'],\n",
    "prop = matplotlib.font_manager.FontProperties(size = 10),\n",
    "loc ='lower right')\n",
    "\n",
    "subplot.set_title('K-Nearest Neighbours')\n",
    "subplot.set_xlim((-10, 10))\n",
    "subplot.set_ylim((-10, 10))\n",
    "plt.show()"
   ]
  },
  {
   "cell_type": "markdown",
   "id": "3bf4c571",
   "metadata": {},
   "source": [
    "# Data Compression"
   ]
  },
  {
   "cell_type": "code",
   "execution_count": 2,
   "id": "3cfc8e2d",
   "metadata": {},
   "outputs": [],
   "source": [
    "import keras\n",
    "import numpy as np\n",
    "from keras.layers import Input, Dense\n",
    "from keras.models import Model\n",
    "from keras.datasets import mnist\n",
    "import matplotlib.pyplot as plt"
   ]
  },
  {
   "cell_type": "markdown",
   "id": "003832a6",
   "metadata": {},
   "source": [
    "# Declaration of hidden layers and variables"
   ]
  },
  {
   "cell_type": "code",
   "execution_count": 3,
   "id": "be3e47c0",
   "metadata": {},
   "outputs": [],
   "source": [
    "# This is the size of our encoded respresentations\n",
    "encoding_dim=32\n",
    "#32 floats -> compression of factor 24.5, assuming the input is 784 floats\n",
    "\n",
    "# this is our input placeholder\n",
    "input_img=Input(shape=(784, ))\n",
    "\n",
    "#\"encoded\" is teh encoded representation of the input\n",
    "encoded =Dense(encoding_dim, activation='relu')(input_img)\n",
    "\n",
    "#\"decoded\" is the lossy reconstruction of the input\n",
    "decoded=Dense(784, activation='sigmoid')(encoded)"
   ]
  },
  {
   "cell_type": "code",
   "execution_count": 4,
   "id": "7c19e6b8",
   "metadata": {},
   "outputs": [],
   "source": [
    "# This model maps an input to its reconstruction\n",
    "autoencoder = keras.Model(input_img, decoded)"
   ]
  },
  {
   "cell_type": "code",
   "execution_count": 5,
   "id": "86f8870d",
   "metadata": {},
   "outputs": [],
   "source": [
    "# This model maps an input to its encoded representation\n",
    "encoder = keras.Model(input_img, encoded)"
   ]
  },
  {
   "cell_type": "code",
   "execution_count": 6,
   "id": "f11a7579",
   "metadata": {},
   "outputs": [],
   "source": [
    "# This is our encoded (32-dimensional) input\n",
    "encoded_input = keras.Input(shape=(encoding_dim,))\n",
    "\n",
    "# Retrieve the last layer of the autoencoder model\n",
    "decoder_layer = autoencoder.layers[-1]\n",
    "\n",
    "# Create the decoder model\n",
    "decoder = keras.Model(encoded_input, decoder_layer(encoded_input))\n",
    "autoencoder.compile(optimizer='adam', loss='binary_crossentropy')"
   ]
  },
  {
   "cell_type": "markdown",
   "id": "446493c4",
   "metadata": {},
   "source": [
    "# Preparing the input data (MNIST Dataset)"
   ]
  },
  {
   "cell_type": "code",
   "execution_count": 7,
   "id": "c7d3af88",
   "metadata": {},
   "outputs": [
    {
     "name": "stdout",
     "output_type": "stream",
     "text": [
      "(60000, 784)\n",
      "(10000, 784)\n"
     ]
    }
   ],
   "source": [
    "(x_train, _), (x_test, _) = mnist.load_data()\n",
    "\n",
    "# Normalize all the values between 0 and 1 and we will flatten the 28x28 images into vectors of size 784\n",
    "x_train = x_train.astype('float32') / 255.\n",
    "x_test = x_test.astype('float32') / 255.\n",
    "x_train = x_train.reshape((len(x_train), np.prod(x_train.shape[1:])))\n",
    "x_test = x_test.reshape((len(x_test), np.prod(x_test.shape[1:])))\n",
    "print(x_train.shape)\n",
    "print(x_test.shape)"
   ]
  },
  {
   "cell_type": "markdown",
   "id": "9c3b4def",
   "metadata": {},
   "source": [
    "# Training Autoencoder for 50 epochs"
   ]
  },
  {
   "cell_type": "code",
   "execution_count": 8,
   "id": "c929029c",
   "metadata": {},
   "outputs": [
    {
     "name": "stdout",
     "output_type": "stream",
     "text": [
      "Epoch 1/50\n",
      "235/235 [==============================] - 3s 10ms/step - loss: 0.2725 - val_loss: 0.1862\n",
      "Epoch 2/50\n",
      "235/235 [==============================] - 2s 9ms/step - loss: 0.1702 - val_loss: 0.1545\n",
      "Epoch 3/50\n",
      "235/235 [==============================] - 2s 9ms/step - loss: 0.1452 - val_loss: 0.1341\n",
      "Epoch 4/50\n",
      "235/235 [==============================] - 3s 11ms/step - loss: 0.1288 - val_loss: 0.1213\n",
      "Epoch 5/50\n",
      "235/235 [==============================] - 2s 10ms/step - loss: 0.1182 - val_loss: 0.1127\n",
      "Epoch 6/50\n",
      "235/235 [==============================] - 2s 8ms/step - loss: 0.1110 - val_loss: 0.1067\n",
      "Epoch 7/50\n",
      "235/235 [==============================] - 2s 8ms/step - loss: 0.1058 - val_loss: 0.1022\n",
      "Epoch 8/50\n",
      "235/235 [==============================] - 2s 8ms/step - loss: 0.1020 - val_loss: 0.0990\n",
      "Epoch 9/50\n",
      "235/235 [==============================] - 2s 8ms/step - loss: 0.0992 - val_loss: 0.0968\n",
      "Epoch 10/50\n",
      "235/235 [==============================] - 2s 8ms/step - loss: 0.0973 - val_loss: 0.0952\n",
      "Epoch 11/50\n",
      "235/235 [==============================] - 2s 8ms/step - loss: 0.0960 - val_loss: 0.0942\n",
      "Epoch 12/50\n",
      "235/235 [==============================] - 2s 8ms/step - loss: 0.0951 - val_loss: 0.0935\n",
      "Epoch 13/50\n",
      "235/235 [==============================] - 2s 8ms/step - loss: 0.0946 - val_loss: 0.0931\n",
      "Epoch 14/50\n",
      "235/235 [==============================] - 2s 8ms/step - loss: 0.0942 - val_loss: 0.0928\n",
      "Epoch 15/50\n",
      "235/235 [==============================] - 2s 8ms/step - loss: 0.0940 - val_loss: 0.0927\n",
      "Epoch 16/50\n",
      "235/235 [==============================] - 2s 8ms/step - loss: 0.0938 - val_loss: 0.0923\n",
      "Epoch 17/50\n",
      "235/235 [==============================] - 2s 8ms/step - loss: 0.0936 - val_loss: 0.0923\n",
      "Epoch 18/50\n",
      "235/235 [==============================] - 2s 8ms/step - loss: 0.0935 - val_loss: 0.0922\n",
      "Epoch 19/50\n",
      "235/235 [==============================] - 2s 8ms/step - loss: 0.0934 - val_loss: 0.0921\n",
      "Epoch 20/50\n",
      "235/235 [==============================] - 2s 8ms/step - loss: 0.0933 - val_loss: 0.0920\n",
      "Epoch 21/50\n",
      "235/235 [==============================] - 2s 8ms/step - loss: 0.0932 - val_loss: 0.0920\n",
      "Epoch 22/50\n",
      "235/235 [==============================] - 2s 8ms/step - loss: 0.0932 - val_loss: 0.0919\n",
      "Epoch 23/50\n",
      "235/235 [==============================] - 2s 8ms/step - loss: 0.0931 - val_loss: 0.0919\n",
      "Epoch 24/50\n",
      "235/235 [==============================] - 2s 8ms/step - loss: 0.0931 - val_loss: 0.0919\n",
      "Epoch 25/50\n",
      "235/235 [==============================] - 2s 8ms/step - loss: 0.0930 - val_loss: 0.0919\n",
      "Epoch 26/50\n",
      "235/235 [==============================] - 2s 8ms/step - loss: 0.0930 - val_loss: 0.0918\n",
      "Epoch 27/50\n",
      "235/235 [==============================] - 2s 8ms/step - loss: 0.0930 - val_loss: 0.0918\n",
      "Epoch 28/50\n",
      "235/235 [==============================] - 2s 8ms/step - loss: 0.0929 - val_loss: 0.0917\n",
      "Epoch 29/50\n",
      "235/235 [==============================] - 2s 8ms/step - loss: 0.0929 - val_loss: 0.0918\n",
      "Epoch 30/50\n",
      "235/235 [==============================] - 2s 8ms/step - loss: 0.0929 - val_loss: 0.0917\n",
      "Epoch 31/50\n",
      "235/235 [==============================] - 2s 8ms/step - loss: 0.0928 - val_loss: 0.0917\n",
      "Epoch 32/50\n",
      "235/235 [==============================] - 2s 8ms/step - loss: 0.0928 - val_loss: 0.0917\n",
      "Epoch 33/50\n",
      "235/235 [==============================] - 2s 8ms/step - loss: 0.0928 - val_loss: 0.0916\n",
      "Epoch 34/50\n",
      "235/235 [==============================] - 2s 8ms/step - loss: 0.0928 - val_loss: 0.0916\n",
      "Epoch 35/50\n",
      "235/235 [==============================] - 2s 8ms/step - loss: 0.0928 - val_loss: 0.0916\n",
      "Epoch 36/50\n",
      "235/235 [==============================] - 2s 8ms/step - loss: 0.0927 - val_loss: 0.0916\n",
      "Epoch 37/50\n",
      "235/235 [==============================] - 2s 8ms/step - loss: 0.0927 - val_loss: 0.0916\n",
      "Epoch 38/50\n",
      "235/235 [==============================] - 2s 8ms/step - loss: 0.0927 - val_loss: 0.0916\n",
      "Epoch 39/50\n",
      "235/235 [==============================] - 2s 8ms/step - loss: 0.0927 - val_loss: 0.0916\n",
      "Epoch 40/50\n",
      "235/235 [==============================] - 2s 8ms/step - loss: 0.0927 - val_loss: 0.0916\n",
      "Epoch 41/50\n",
      "235/235 [==============================] - 2s 8ms/step - loss: 0.0927 - val_loss: 0.0915\n",
      "Epoch 42/50\n",
      "235/235 [==============================] - 2s 8ms/step - loss: 0.0926 - val_loss: 0.0915\n",
      "Epoch 43/50\n",
      "235/235 [==============================] - 2s 8ms/step - loss: 0.0926 - val_loss: 0.0915\n",
      "Epoch 44/50\n",
      "235/235 [==============================] - 2s 8ms/step - loss: 0.0926 - val_loss: 0.0915\n",
      "Epoch 45/50\n",
      "235/235 [==============================] - 2s 8ms/step - loss: 0.0926 - val_loss: 0.0915\n",
      "Epoch 46/50\n",
      "235/235 [==============================] - 2s 9ms/step - loss: 0.0926 - val_loss: 0.0915\n",
      "Epoch 47/50\n",
      "235/235 [==============================] - 3s 12ms/step - loss: 0.0926 - val_loss: 0.0915\n",
      "Epoch 48/50\n",
      "235/235 [==============================] - 3s 11ms/step - loss: 0.0926 - val_loss: 0.0916\n",
      "Epoch 49/50\n",
      "235/235 [==============================] - 2s 10ms/step - loss: 0.0926 - val_loss: 0.0915\n",
      "Epoch 50/50\n",
      "235/235 [==============================] - 2s 10ms/step - loss: 0.0925 - val_loss: 0.0914\n"
     ]
    },
    {
     "data": {
      "text/plain": [
       "<keras.callbacks.History at 0x7fe691c92f70>"
      ]
     },
     "execution_count": 8,
     "metadata": {},
     "output_type": "execute_result"
    }
   ],
   "source": [
    "autoencoder.fit(x_train, x_train,epochs=50, batch_size=256, shuffle=True, validation_data=(x_test, x_test))"
   ]
  },
  {
   "cell_type": "code",
   "execution_count": 9,
   "id": "c04b455c",
   "metadata": {},
   "outputs": [],
   "source": [
    "# Encode and decode some digits\n",
    "# Note that we take them from the *test* set\n",
    "encoded_imgs = encoder.predict(x_test)\n",
    "decoded_imgs = decoder.predict(encoded_imgs)"
   ]
  },
  {
   "cell_type": "code",
   "execution_count": 10,
   "id": "f585929a",
   "metadata": {},
   "outputs": [
    {
     "data": {
      "image/png": "[encoded data removed]",
      "text/plain": [
       "<Figure size 1440x288 with 20 Axes>"
      ]
     },
     "metadata": {
      "needs_background": "light"
     },
     "output_type": "display_data"
    }
   ],
   "source": [
    "# Use Matplotlib (don't ask)\n",
    "import matplotlib.pyplot as plt\n",
    "\n",
    "n = 10  # How many digits we will display\n",
    "plt.figure(figsize=(20, 4))\n",
    "for i in range(n):\n",
    "    # Display original\n",
    "    ax = plt.subplot(2, n, i + 1)\n",
    "    plt.imshow(x_test[i].reshape(28, 28))\n",
    "    plt.gray()\n",
    "    ax.get_xaxis().set_visible(False)\n",
    "    ax.get_yaxis().set_visible(False)\n",
    "\n",
    "    # Display reconstruction\n",
    "    ax = plt.subplot(2, n, i + 1 + n)\n",
    "    plt.imshow(decoded_imgs[i].reshape(28, 28))\n",
    "    plt.gray()\n",
    "    ax.get_xaxis().set_visible(False)\n",
    "    ax.get_yaxis().set_visible(False)\n",
    "plt.show()"
   ]
  },
  {
   "cell_type": "markdown",
   "id": "a5de0b08",
   "metadata": {},
   "source": [
    "# Variational AutoEncoder"
   ]
  },
  {
   "cell_type": "code",
   "execution_count": 1,
   "id": "0697120a",
   "metadata": {},
   "outputs": [],
   "source": [
    "import numpy as np\n",
    "import tensorflow as tf\n",
    "from tensorflow import keras\n",
    "from tensorflow.keras import Input, Model\n",
    "from tensorflow.keras.layers import Layer, Conv2D, Flatten, Dense, Reshape, Conv2DTranspose\n",
    "import matplotlib.pyplot as plt"
   ]
  },
  {
   "cell_type": "code",
   "execution_count": 2,
   "id": "e8b84345",
   "metadata": {},
   "outputs": [],
   "source": [
    "# this sampling layer is the bottleneck layer of variational autoencoder,\n",
    "# it uses the output from two dense layers z_mean and z_log_var as input,\n",
    "# convert them into normal distribution and pass them to the decoder layer\n",
    "class Sampling(Layer):\n",
    " \n",
    "    def call(self, inputs):\n",
    "        z_mean, z_log_var = inputs\n",
    "        batch = tf.shape(z_mean)[0]\n",
    "        dim = tf.shape(z_mean)[1]\n",
    "        epsilon = tf.keras.backend.random_normal(shape =(batch, dim))\n",
    "        return z_mean + tf.exp(0.5 * z_log_var) * epsilon\n"
   ]
  },
  {
   "cell_type": "code",
   "execution_count": 3,
   "id": "c74b389e",
   "metadata": {},
   "outputs": [
    {
     "name": "stdout",
     "output_type": "stream",
     "text": [
      "Model: \"encoder\"\n",
      "__________________________________________________________________________________________________\n",
      " Layer (type)                   Output Shape         Param #     Connected to                     \n",
      "==================================================================================================\n",
      " input_1 (InputLayer)           [(None, 28, 28, 1)]  0           []                               \n",
      "                                                                                                  \n",
      " conv2d (Conv2D)                (None, 14, 14, 32)   320         ['input_1[0][0]']                \n",
      "                                                                                                  \n",
      " conv2d_1 (Conv2D)              (None, 7, 7, 64)     18496       ['conv2d[0][0]']                 \n",
      "                                                                                                  \n",
      " flatten (Flatten)              (None, 3136)         0           ['conv2d_1[0][0]']               \n",
      "                                                                                                  \n",
      " dense (Dense)                  (None, 16)           50192       ['flatten[0][0]']                \n",
      "                                                                                                  \n",
      " z_mean (Dense)                 (None, 2)            34          ['dense[0][0]']                  \n",
      "                                                                                                  \n",
      " z_log_var (Dense)              (None, 2)            34          ['dense[0][0]']                  \n",
      "                                                                                                  \n",
      " sampling (Sampling)            (None, 2)            0           ['z_mean[0][0]',                 \n",
      "                                                                  'z_log_var[0][0]']              \n",
      "                                                                                                  \n",
      "==================================================================================================\n",
      "Total params: 69,076\n",
      "Trainable params: 69,076\n",
      "Non-trainable params: 0\n",
      "__________________________________________________________________________________________________\n"
     ]
    }
   ],
   "source": [
    "# Define Encoder Model\n",
    "latent_dim = 2\n",
    " \n",
    "encoder_inputs = Input(shape =(28, 28, 1))\n",
    "x = Conv2D(32, 3, activation =\"relu\", strides = 2, padding =\"same\")(encoder_inputs)\n",
    "x = Conv2D(64, 3, activation =\"relu\", strides = 2, padding =\"same\")(x)\n",
    "x = Flatten()(x)\n",
    "x = Dense(16, activation =\"relu\")(x)\n",
    "z_mean = Dense(latent_dim, name =\"z_mean\")(x)\n",
    "z_log_var = Dense(latent_dim, name =\"z_log_var\")(x)\n",
    "z = Sampling()([z_mean, z_log_var])\n",
    "encoder = Model(encoder_inputs, [z_mean, z_log_var, z], name =\"encoder\")\n",
    "encoder.summary()"
   ]
  },
  {
   "cell_type": "code",
   "execution_count": 4,
   "id": "f5bf25ac",
   "metadata": {},
   "outputs": [
    {
     "name": "stdout",
     "output_type": "stream",
     "text": [
      "Model: \"decoder\"\n",
      "_________________________________________________________________\n",
      " Layer (type)                Output Shape              Param #   \n",
      "=================================================================\n",
      " input_2 (InputLayer)        [(None, 2)]               0         \n",
      "                                                                 \n",
      " dense_1 (Dense)             (None, 3136)              9408      \n",
      "                                                                 \n",
      " reshape (Reshape)           (None, 7, 7, 64)          0         \n",
      "                                                                 \n",
      " conv2d_transpose (Conv2DTra  (None, 14, 14, 64)       36928     \n",
      " nspose)                                                         \n",
      "                                                                 \n",
      " conv2d_transpose_1 (Conv2DT  (None, 28, 28, 32)       18464     \n",
      " ranspose)                                                       \n",
      "                                                                 \n",
      " conv2d_transpose_2 (Conv2DT  (None, 28, 28, 1)        289       \n",
      " ranspose)                                                       \n",
      "                                                                 \n",
      "=================================================================\n",
      "Total params: 65,089\n",
      "Trainable params: 65,089\n",
      "Non-trainable params: 0\n",
      "_________________________________________________________________\n"
     ]
    }
   ],
   "source": [
    "# Define Decoder Architecture\n",
    "latent_inputs = keras.Input(shape =(latent_dim, ))\n",
    "x = Dense(7 * 7 * 64, activation =\"relu\")(latent_inputs)\n",
    "x = Reshape((7,7,64))(x)\n",
    "x = Conv2DTranspose(64, 3, activation =\"relu\", strides = 2, padding =\"same\")(x)\n",
    "x = Conv2DTranspose(32, 3, activation =\"relu\", strides = 2, padding =\"same\")(x)\n",
    "decoder_outputs = Conv2DTranspose(1, 3, activation =\"sigmoid\", padding =\"same\")(x)\n",
    "decoder = Model(latent_inputs, decoder_outputs, name =\"decoder\")\n",
    "decoder.summary()"
   ]
  },
  {
   "cell_type": "code",
   "execution_count": 5,
   "id": "52d493be",
   "metadata": {},
   "outputs": [],
   "source": [
    "# this class takes encoder and decoder models and\n",
    "# define the complete variational autoencoder architecture\n",
    "class VAE(keras.Model):\n",
    "    def __init__(self, encoder, decoder, **kwargs):\n",
    "        super(VAE, self).__init__(**kwargs)\n",
    "        self.encoder = encoder\n",
    "        self.decoder = decoder\n",
    " \n",
    "    def train_step(self, data):\n",
    "        if isinstance(data, tuple):\n",
    "            data = data[0]\n",
    "        with tf.GradientTape() as tape:\n",
    "            z_mean, z_log_var, z = encoder(data)\n",
    "            reconstruction = decoder(z)\n",
    "            reconstruction_loss = tf.reduce_mean(\n",
    "                keras.losses.binary_crossentropy(data, reconstruction)\n",
    "            )\n",
    "            reconstruction_loss *= 28 * 28\n",
    "            kl_loss = 1 + z_log_var - tf.square(z_mean) - tf.exp(z_log_var)\n",
    "            kl_loss = tf.reduce_mean(kl_loss)\n",
    "            kl_loss *= -0.5\n",
    "            total_loss = reconstruction_loss + kl_loss\n",
    "        grads = tape.gradient(total_loss, self.trainable_weights)\n",
    "        self.optimizer.apply_gradients(zip(grads, self.trainable_weights))\n",
    "        return {\n",
    "            \"loss\": total_loss,\n",
    "            \"reconstruction_loss\": reconstruction_loss,\n",
    "            \"kl_loss\": kl_loss,\n",
    "        }"
   ]
  },
  {
   "cell_type": "code",
   "execution_count": null,
   "id": "a71d3653",
   "metadata": {},
   "outputs": [
    {
     "name": "stdout",
     "output_type": "stream",
     "text": [
      "Epoch 1/50\n",
      "1094/1094 [==============================] - 81s 73ms/step - loss: 319.2961 - reconstruction_loss: 315.3193 - kl_loss: 3.9768\n",
      "Epoch 2/50\n",
      "1094/1094 [==============================] - 79s 72ms/step - loss: 274.0122 - reconstruction_loss: 270.1944 - kl_loss: 3.8178\n",
      "Epoch 3/50\n",
      "1094/1094 [==============================] - 78s 71ms/step - loss: 269.2036 - reconstruction_loss: 265.5036 - kl_loss: 3.7000\n",
      "Epoch 4/50\n",
      "1094/1094 [==============================] - 79s 72ms/step - loss: 267.1036 - reconstruction_loss: 263.4682 - kl_loss: 3.6354\n",
      "Epoch 5/50\n",
      " 289/1094 [======>.......................] - ETA: 1:17 - loss: 266.0993 - reconstruction_loss: 262.4819 - kl_loss: 3.6174"
     ]
    }
   ],
   "source": [
    "# load fashion mnist dataset  from  keras.dataset API\n",
    "(x_train, _), (x_test, _) = keras.datasets.fashion_mnist.load_data()\n",
    "fmnist_images = np.concatenate([x_train, x_test], axis = 0)\n",
    "# expand dimension to add  a color map dimension\n",
    "fmnist_images = np.expand_dims(fmnist_images, -1).astype(\"float32\") / 255\n",
    " \n",
    "# compile and train the model\n",
    "vae = VAE(encoder, decoder)\n",
    "vae.compile(optimizer ='adamax')\n",
    "vae.fit(fmnist_images, epochs = 50, batch_size = 64)"
   ]
  },
  {
   "cell_type": "code",
   "execution_count": null,
   "id": "305e90e2",
   "metadata": {},
   "outputs": [],
   "source": [
    "def plot_latent(encoder, decoder):\n",
    "    # display a n * n 2D manifold of images\n",
    "    n = 10\n",
    "    img_dim = 28\n",
    "    scale = 2.0\n",
    "    figsize = 15\n",
    "    figure = np.zeros((img_dim * n, img_dim * n))\n",
    "    # linearly spaced coordinates corresponding to the 2D plot\n",
    "    # of images classes in the latent space\n",
    "    grid_x = np.linspace(-scale, scale, n)\n",
    "    grid_y = np.linspace(-scale, scale, n)[::-1]\n",
    " \n",
    "    for i, yi in enumerate(grid_y):\n",
    "        for j, xi in enumerate(grid_x):\n",
    "            z_sample = np.array([[xi, yi]])\n",
    "            x_decoded = decoder.predict(z_sample)\n",
    "            images = x_decoded[0].reshape(img_dim, img_dim)\n",
    "            figure[\n",
    "                i * img_dim : (i + 1) * img_dim,\n",
    "                j * img_dim : (j + 1) * img_dim,\n",
    "            ] = images\n",
    " \n",
    "    plt.figure(figsize =(figsize, figsize))\n",
    "    start_range = img_dim // 2\n",
    "    end_range = n * img_dim + start_range + 1\n",
    "    pixel_range = np.arange(start_range, end_range, img_dim)\n",
    "    sample_range_x = np.round(grid_x, 1)\n",
    "    sample_range_y = np.round(grid_y, 1)\n",
    "    plt.xticks(pixel_range, sample_range_x)\n",
    "    plt.yticks(pixel_range, sample_range_y)\n",
    "    plt.xlabel(\"z[0]\")\n",
    "    plt.ylabel(\"z[1]\")\n",
    "    plt.imshow(figure, cmap =\"Greys_r\")\n",
    "    plt.show()\n",
    " \n",
    " \n",
    "plot_latent(encoder, decoder)"
   ]
  },
  {
   "cell_type": "markdown",
   "id": "9cd213be",
   "metadata": {},
   "source": [
    "# RNN Implementation"
   ]
  },
  {
   "cell_type": "code",
   "execution_count": 1,
   "id": "c7317134",
   "metadata": {},
   "outputs": [],
   "source": [
    "import matplotlib.pyplot as plt\n",
    "import numpy as np\n",
    "import pandas as pd\n",
    "import tensorflow as tf\n",
    "from tensorflow import keras\n",
    "from tensorflow.keras import layers"
   ]
  },
  {
   "cell_type": "code",
   "execution_count": 2,
   "id": "06921a34",
   "metadata": {},
   "outputs": [],
   "source": [
    "default_reber_grammar=[\n",
    "    [(\"B\",1)],  #(state 0) =B=> (state 1)\n",
    "    [(\"T\", 2),(\"P\", 3)],  # (state 1) =T=> (state 2) or =P=> (state 3)\n",
    "    [(\"X\", 5), (\"S\", 2)], # (state 2) =X=> (state 5) or =S=> (state 2)\n",
    "    [(\"T\", 3), (\"V\", 4)], # (state 3) =T=> (state 3) or =V=> (state 4)\n",
    "    [(\"V\", 6), (\"P\", 5)], # (state 4) =V=> (state 6) or =P=> (state 5)\n",
    "    [(\"X\",3), (\"S\", 6)],  # (state 5) =X=> (state 3) or =S=> (state 6)\n",
    "    [(\"E\", None)]         # (state 6) =E=> <EOS>\n",
    "    \n",
    "]"
   ]
  },
  {
   "cell_type": "code",
   "execution_count": 3,
   "id": "8f114bce",
   "metadata": {},
   "outputs": [],
   "source": [
    "embedded_reber_grammar=[\n",
    "    [(\"B\",1)],  #(state 0) =B=> (state 1)\n",
    "    [(\"T\", 2),(\"P\", 3)],  # (state 1) =T=> (state 2) or =P=> (state 3)\n",
    "    [(default_reber_grammar,4)], # (state 2) =REBER=> (state 4)\n",
    "    [(default_reber_grammar,5)], # (state 3) =REBER=> (state 5)\n",
    "    [(\"P\", 6)], # (state 4) =P=> (state 6)\n",
    "    [(\"T\",6)],  # (state 5) =T=> (state 3)\n",
    "    [(\"E\", None)]         # (state 6) =E=> <EOS>\n",
    "    \n",
    "]"
   ]
  },
  {
   "cell_type": "code",
   "execution_count": 4,
   "id": "3c340ac9",
   "metadata": {},
   "outputs": [],
   "source": [
    "def generate_valid_string(grammar):\n",
    "    state = 0\n",
    "    output = []\n",
    "    while state is not None:\n",
    "        char, state = grammar[state][np.random.randint(len(grammar[state]))]\n",
    "        if isinstance(char, list):  # embedded reber\n",
    "            char = generate_valid_string(char)\n",
    "        output.append(char)\n",
    "    return \"\".join(output)"
   ]
  },
  {
   "cell_type": "code",
   "execution_count": 5,
   "id": "839935b0",
   "metadata": {},
   "outputs": [],
   "source": [
    "def generate_corrupted_string(grammar, chars='BTSXPVE'):\n",
    "    '''Substitute one character to violate the grammar'''\n",
    "    good_string = generate_valid_string(grammar)\n",
    "    idx = np.random.randint(len(good_string))\n",
    "    good_char = good_string[idx]\n",
    "    bad_char = np.random.choice(sorted(set(chars)-set(good_char)))\n",
    "    return good_string[:idx]+bad_char+good_string[idx+1:]"
   ]
  },
  {
   "cell_type": "code",
   "execution_count": 6,
   "id": "08c4e263",
   "metadata": {},
   "outputs": [
    {
     "data": {
      "text/plain": [
       "{'B': 0, 'T': 1, 'S': 2, 'X': 3, 'P': 4, 'V': 5, 'E': 6}"
      ]
     },
     "execution_count": 6,
     "metadata": {},
     "output_type": "execute_result"
    }
   ],
   "source": [
    "chars='BTSXPVE'\n",
    "chars_dict = {a:i for i,a in enumerate(chars)}\n",
    "chars_dict"
   ]
  },
  {
   "cell_type": "code",
   "execution_count": 7,
   "id": "f81c085c",
   "metadata": {},
   "outputs": [],
   "source": [
    "def str2onehot(string, num_steps=12, chars_dict=chars_dict):\n",
    "    res = np.zeros((num_steps, len(chars_dict)))\n",
    "    for i in range(min(len(string), num_steps)):\n",
    "        c = string[i]\n",
    "        res[i][chars_dict[c]] = 1\n",
    "    return res"
   ]
  },
  {
   "cell_type": "code",
   "execution_count": 8,
   "id": "a684a206",
   "metadata": {},
   "outputs": [],
   "source": [
    "def generate_data(data_size=10000, grammar=embedded_reber_grammar, num_steps=None):\n",
    "    good = [generate_valid_string(grammar) for _ in range(data_size//2)]\n",
    "    bad = [generate_corrupted_string(grammar) for _ in range(data_size//2)]\n",
    "    all_strings = good+bad\n",
    "    if num_steps is None:\n",
    "        num_steps = max([len(s) for s in all_strings])\n",
    "    X = np.array([str2onehot(s) for s in all_strings])\n",
    "    l = np.array([len(s) for s in all_strings])\n",
    "    y = np.concatenate((np.ones(len(good)), np.zeros((len(bad))))).reshape(-1, 1)\n",
    "    idx = np.random.permutation(data_size)\n",
    "    return X[idx], l[idx], y[idx]"
   ]
  },
  {
   "cell_type": "code",
   "execution_count": 9,
   "id": "7896a61a",
   "metadata": {},
   "outputs": [
    {
     "data": {
      "text/plain": [
       "((10000, 12, 7), (5000, 12, 7))"
      ]
     },
     "execution_count": 9,
     "metadata": {},
     "output_type": "execute_result"
    }
   ],
   "source": [
    "np.random.seed(42)\n",
    "X_train, seq_lens_train, y_train = generate_data(10000)\n",
    "X_val, seq_lens_val, y_val = generate_data(5000)\n",
    "X_train.shape, X_val.shape"
   ]
  },
  {
   "cell_type": "code",
   "execution_count": 10,
   "id": "743ce4f3",
   "metadata": {},
   "outputs": [],
   "source": [
    "x = layers.Input(shape=(12, 7)) # we define our input's shape\n",
    "# first we define our RNN cells to use in the RNN model\n",
    "# let's keep the model simple ...\n",
    "cell = layers.SimpleRNNCell(4, activation='tanh')  # ... by just using 4 units (like 4 units in hidden layers)\n",
    "rnn = layers.RNN(cell)\n",
    "rnn_output = rnn(x)"
   ]
  },
  {
   "cell_type": "code",
   "execution_count": 11,
   "id": "6d8a68d2",
   "metadata": {},
   "outputs": [],
   "source": [
    "output = layers.Dense(units=1, activation='sigmoid')(rnn_output)"
   ]
  },
  {
   "cell_type": "code",
   "execution_count": 12,
   "id": "6fd11f95",
   "metadata": {},
   "outputs": [
    {
     "name": "stdout",
     "output_type": "stream",
     "text": [
      "Model: \"model\"\n",
      "_________________________________________________________________\n",
      " Layer (type)                Output Shape              Param #   \n",
      "=================================================================\n",
      " input_1 (InputLayer)        [(None, 12, 7)]           0         \n",
      "                                                                 \n",
      " rnn (RNN)                   (None, 4)                 48        \n",
      "                                                                 \n",
      " dense (Dense)               (None, 1)                 5         \n",
      "                                                                 \n",
      "=================================================================\n",
      "Total params: 53\n",
      "Trainable params: 53\n",
      "Non-trainable params: 0\n",
      "_________________________________________________________________\n"
     ]
    }
   ],
   "source": [
    "# let's compile the model\n",
    "model = keras.Model(inputs=x, outputs=output)\n",
    "# loss is binary cropss entropy since this is a binary classification task\n",
    "# and evaluation metric as f1\n",
    "model.compile(loss=\"binary_crossentropy\", metrics=[\"accuracy\"])\n",
    "model.summary()"
   ]
  },
  {
   "cell_type": "code",
   "execution_count": 13,
   "id": "bc02899e",
   "metadata": {},
   "outputs": [
    {
     "name": "stdout",
     "output_type": "stream",
     "text": [
      "Epoch 1/100\n",
      "313/313 - 3s - loss: 0.7258 - accuracy: 0.4996 - val_loss: 0.7066 - val_accuracy: 0.4736 - 3s/epoch - 9ms/step\n",
      "Epoch 2/100\n",
      "313/313 - 1s - loss: 0.6998 - accuracy: 0.5029 - val_loss: 0.6967 - val_accuracy: 0.5040 - 1s/epoch - 4ms/step\n",
      "Epoch 3/100\n",
      "313/313 - 1s - loss: 0.6945 - accuracy: 0.5166 - val_loss: 0.6928 - val_accuracy: 0.5336 - 1s/epoch - 4ms/step\n",
      "Epoch 4/100\n",
      "313/313 - 1s - loss: 0.6917 - accuracy: 0.5330 - val_loss: 0.6904 - val_accuracy: 0.5150 - 1s/epoch - 4ms/step\n",
      "Epoch 5/100\n",
      "313/313 - 1s - loss: 0.6888 - accuracy: 0.5529 - val_loss: 0.6869 - val_accuracy: 0.5782 - 1s/epoch - 4ms/step\n",
      "Epoch 6/100\n",
      "313/313 - 1s - loss: 0.6846 - accuracy: 0.5830 - val_loss: 0.6808 - val_accuracy: 0.5980 - 1s/epoch - 4ms/step\n",
      "Epoch 7/100\n",
      "313/313 - 1s - loss: 0.6730 - accuracy: 0.6188 - val_loss: 0.6630 - val_accuracy: 0.6232 - 1s/epoch - 4ms/step\n",
      "Epoch 8/100\n",
      "313/313 - 1s - loss: 0.6507 - accuracy: 0.6343 - val_loss: 0.6402 - val_accuracy: 0.6384 - 1s/epoch - 5ms/step\n",
      "Epoch 9/100\n",
      "313/313 - 1s - loss: 0.6302 - accuracy: 0.6542 - val_loss: 0.6186 - val_accuracy: 0.6586 - 1s/epoch - 4ms/step\n",
      "Epoch 10/100\n",
      "313/313 - 1s - loss: 0.6105 - accuracy: 0.6658 - val_loss: 0.5988 - val_accuracy: 0.6836 - 1s/epoch - 4ms/step\n",
      "Epoch 11/100\n",
      "313/313 - 1s - loss: 0.5937 - accuracy: 0.6726 - val_loss: 0.5777 - val_accuracy: 0.6756 - 1s/epoch - 4ms/step\n",
      "Epoch 12/100\n",
      "313/313 - 1s - loss: 0.5747 - accuracy: 0.6785 - val_loss: 0.5639 - val_accuracy: 0.6800 - 1s/epoch - 4ms/step\n",
      "Epoch 13/100\n",
      "313/313 - 1s - loss: 0.5556 - accuracy: 0.6966 - val_loss: 0.5404 - val_accuracy: 0.6980 - 1s/epoch - 4ms/step\n",
      "Epoch 14/100\n",
      "313/313 - 1s - loss: 0.5400 - accuracy: 0.7075 - val_loss: 0.5236 - val_accuracy: 0.7186 - 1s/epoch - 5ms/step\n",
      "Epoch 15/100\n",
      "313/313 - 2s - loss: 0.5263 - accuracy: 0.7180 - val_loss: 0.5102 - val_accuracy: 0.7244 - 2s/epoch - 5ms/step\n",
      "Epoch 16/100\n",
      "313/313 - 1s - loss: 0.5142 - accuracy: 0.7255 - val_loss: 0.4974 - val_accuracy: 0.7360 - 1s/epoch - 4ms/step\n",
      "Epoch 17/100\n",
      "313/313 - 1s - loss: 0.5037 - accuracy: 0.7289 - val_loss: 0.4875 - val_accuracy: 0.7368 - 1s/epoch - 5ms/step\n",
      "Epoch 18/100\n",
      "313/313 - 1s - loss: 0.4964 - accuracy: 0.7288 - val_loss: 0.4809 - val_accuracy: 0.7382 - 1s/epoch - 5ms/step\n",
      "Epoch 19/100\n",
      "313/313 - 1s - loss: 0.4898 - accuracy: 0.7305 - val_loss: 0.4807 - val_accuracy: 0.7330 - 1s/epoch - 4ms/step\n",
      "Epoch 20/100\n",
      "313/313 - 1s - loss: 0.4850 - accuracy: 0.7339 - val_loss: 0.4668 - val_accuracy: 0.7504 - 1s/epoch - 5ms/step\n",
      "Epoch 21/100\n",
      "313/313 - 1s - loss: 0.4766 - accuracy: 0.7456 - val_loss: 0.4602 - val_accuracy: 0.7558 - 1s/epoch - 5ms/step\n",
      "Epoch 22/100\n",
      "313/313 - 1s - loss: 0.4717 - accuracy: 0.7456 - val_loss: 0.4544 - val_accuracy: 0.7462 - 1s/epoch - 5ms/step\n",
      "Epoch 23/100\n",
      "313/313 - 1s - loss: 0.4656 - accuracy: 0.7464 - val_loss: 0.4510 - val_accuracy: 0.7476 - 1s/epoch - 5ms/step\n",
      "Epoch 24/100\n",
      "313/313 - 2s - loss: 0.4568 - accuracy: 0.7549 - val_loss: 0.4431 - val_accuracy: 0.7658 - 2s/epoch - 5ms/step\n",
      "Epoch 25/100\n",
      "313/313 - 1s - loss: 0.4488 - accuracy: 0.7645 - val_loss: 0.4615 - val_accuracy: 0.7654 - 1s/epoch - 5ms/step\n",
      "Epoch 26/100\n",
      "313/313 - 2s - loss: 0.4441 - accuracy: 0.7642 - val_loss: 0.4299 - val_accuracy: 0.7744 - 2s/epoch - 5ms/step\n",
      "Epoch 27/100\n",
      "313/313 - 1s - loss: 0.4401 - accuracy: 0.7708 - val_loss: 0.4316 - val_accuracy: 0.7790 - 1s/epoch - 5ms/step\n",
      "Epoch 28/100\n",
      "313/313 - 1s - loss: 0.4401 - accuracy: 0.7691 - val_loss: 0.4226 - val_accuracy: 0.7766 - 1s/epoch - 5ms/step\n",
      "Epoch 29/100\n",
      "313/313 - 1s - loss: 0.4382 - accuracy: 0.7751 - val_loss: 0.4210 - val_accuracy: 0.7812 - 1s/epoch - 4ms/step\n",
      "Epoch 30/100\n",
      "313/313 - 2s - loss: 0.4373 - accuracy: 0.7714 - val_loss: 0.4259 - val_accuracy: 0.7922 - 2s/epoch - 5ms/step\n",
      "Epoch 31/100\n",
      "313/313 - 2s - loss: 0.4338 - accuracy: 0.7765 - val_loss: 0.4260 - val_accuracy: 0.7890 - 2s/epoch - 5ms/step\n",
      "Epoch 32/100\n",
      "313/313 - 1s - loss: 0.4336 - accuracy: 0.7794 - val_loss: 0.4247 - val_accuracy: 0.7814 - 1s/epoch - 4ms/step\n",
      "Epoch 33/100\n",
      "313/313 - 1s - loss: 0.4332 - accuracy: 0.7830 - val_loss: 0.4166 - val_accuracy: 0.7908 - 1s/epoch - 4ms/step\n",
      "Epoch 34/100\n",
      "313/313 - 1s - loss: 0.4308 - accuracy: 0.7814 - val_loss: 0.4176 - val_accuracy: 0.7856 - 1s/epoch - 5ms/step\n",
      "Epoch 35/100\n",
      "313/313 - 1s - loss: 0.4316 - accuracy: 0.7808 - val_loss: 0.4200 - val_accuracy: 0.7940 - 1s/epoch - 4ms/step\n",
      "Epoch 36/100\n",
      "313/313 - 1s - loss: 0.4293 - accuracy: 0.7832 - val_loss: 0.4158 - val_accuracy: 0.7924 - 1s/epoch - 4ms/step\n",
      "Epoch 37/100\n",
      "313/313 - 1s - loss: 0.4280 - accuracy: 0.7812 - val_loss: 0.4124 - val_accuracy: 0.7968 - 1s/epoch - 4ms/step\n",
      "Epoch 38/100\n",
      "313/313 - 1s - loss: 0.4249 - accuracy: 0.7840 - val_loss: 0.4121 - val_accuracy: 0.7870 - 1s/epoch - 4ms/step\n",
      "Epoch 39/100\n",
      "313/313 - 1s - loss: 0.4244 - accuracy: 0.7781 - val_loss: 0.4131 - val_accuracy: 0.7936 - 1s/epoch - 4ms/step\n",
      "Epoch 40/100\n",
      "313/313 - 1s - loss: 0.4236 - accuracy: 0.7818 - val_loss: 0.4203 - val_accuracy: 0.7862 - 1s/epoch - 4ms/step\n",
      "Epoch 41/100\n",
      "313/313 - 1s - loss: 0.4226 - accuracy: 0.7781 - val_loss: 0.4151 - val_accuracy: 0.7866 - 1s/epoch - 4ms/step\n",
      "Epoch 42/100\n",
      "313/313 - 1s - loss: 0.4209 - accuracy: 0.7820 - val_loss: 0.4155 - val_accuracy: 0.7832 - 1s/epoch - 4ms/step\n",
      "Epoch 43/100\n",
      "313/313 - 1s - loss: 0.4171 - accuracy: 0.7823 - val_loss: 0.4152 - val_accuracy: 0.7794 - 1s/epoch - 4ms/step\n",
      "Epoch 44/100\n",
      "313/313 - 1s - loss: 0.4155 - accuracy: 0.7838 - val_loss: 0.4083 - val_accuracy: 0.7962 - 1s/epoch - 4ms/step\n",
      "Epoch 45/100\n",
      "313/313 - 1s - loss: 0.4137 - accuracy: 0.7806 - val_loss: 0.3992 - val_accuracy: 0.7918 - 1s/epoch - 4ms/step\n",
      "Epoch 46/100\n",
      "313/313 - 1s - loss: 0.4085 - accuracy: 0.7885 - val_loss: 0.3947 - val_accuracy: 0.8028 - 1s/epoch - 4ms/step\n",
      "Epoch 47/100\n",
      "313/313 - 1s - loss: 0.4063 - accuracy: 0.7935 - val_loss: 0.4150 - val_accuracy: 0.7828 - 1s/epoch - 4ms/step\n",
      "Epoch 48/100\n",
      "313/313 - 1s - loss: 0.4065 - accuracy: 0.7934 - val_loss: 0.4018 - val_accuracy: 0.7918 - 1s/epoch - 5ms/step\n",
      "Epoch 49/100\n",
      "313/313 - 1s - loss: 0.4020 - accuracy: 0.7933 - val_loss: 0.3941 - val_accuracy: 0.7952 - 1s/epoch - 4ms/step\n",
      "Epoch 50/100\n",
      "313/313 - 1s - loss: 0.3999 - accuracy: 0.7937 - val_loss: 0.4539 - val_accuracy: 0.7718 - 1s/epoch - 4ms/step\n",
      "Epoch 51/100\n",
      "313/313 - 1s - loss: 0.4011 - accuracy: 0.7960 - val_loss: 0.3833 - val_accuracy: 0.8090 - 1s/epoch - 4ms/step\n",
      "Epoch 52/100\n",
      "313/313 - 1s - loss: 0.3982 - accuracy: 0.7975 - val_loss: 0.3849 - val_accuracy: 0.8062 - 1s/epoch - 4ms/step\n",
      "Epoch 53/100\n",
      "313/313 - 1s - loss: 0.3941 - accuracy: 0.7996 - val_loss: 0.4441 - val_accuracy: 0.7736 - 1s/epoch - 5ms/step\n",
      "Epoch 54/100\n",
      "313/313 - 1s - loss: 0.3918 - accuracy: 0.8011 - val_loss: 0.3921 - val_accuracy: 0.7992 - 1s/epoch - 4ms/step\n",
      "Epoch 55/100\n",
      "313/313 - 1s - loss: 0.3916 - accuracy: 0.8001 - val_loss: 0.3826 - val_accuracy: 0.8030 - 1s/epoch - 4ms/step\n",
      "Epoch 56/100\n",
      "313/313 - 1s - loss: 0.3913 - accuracy: 0.7982 - val_loss: 0.3742 - val_accuracy: 0.8086 - 1s/epoch - 5ms/step\n",
      "Epoch 57/100\n",
      "313/313 - 2s - loss: 0.3910 - accuracy: 0.7944 - val_loss: 0.3746 - val_accuracy: 0.8064 - 2s/epoch - 5ms/step\n",
      "Epoch 58/100\n",
      "313/313 - 2s - loss: 0.3885 - accuracy: 0.7975 - val_loss: 0.3787 - val_accuracy: 0.8042 - 2s/epoch - 5ms/step\n",
      "Epoch 59/100\n",
      "313/313 - 1s - loss: 0.3900 - accuracy: 0.7927 - val_loss: 0.4003 - val_accuracy: 0.7900 - 1s/epoch - 5ms/step\n",
      "Epoch 60/100\n",
      "313/313 - 1s - loss: 0.3866 - accuracy: 0.7948 - val_loss: 0.3767 - val_accuracy: 0.8002 - 1s/epoch - 5ms/step\n",
      "Epoch 61/100\n",
      "313/313 - 1s - loss: 0.3884 - accuracy: 0.7961 - val_loss: 0.3996 - val_accuracy: 0.7862 - 1s/epoch - 5ms/step\n",
      "Epoch 62/100\n",
      "313/313 - 1s - loss: 0.3862 - accuracy: 0.7938 - val_loss: 0.7976 - val_accuracy: 0.6116 - 1s/epoch - 4ms/step\n",
      "Epoch 63/100\n",
      "313/313 - 1s - loss: 0.3882 - accuracy: 0.7925 - val_loss: 0.3775 - val_accuracy: 0.7942 - 1s/epoch - 5ms/step\n",
      "Epoch 64/100\n",
      "313/313 - 2s - loss: 0.3843 - accuracy: 0.7947 - val_loss: 0.3803 - val_accuracy: 0.7966 - 2s/epoch - 5ms/step\n",
      "Epoch 65/100\n",
      "313/313 - 1s - loss: 0.3856 - accuracy: 0.7963 - val_loss: 0.3701 - val_accuracy: 0.8032 - 1s/epoch - 4ms/step\n",
      "Epoch 66/100\n",
      "313/313 - 1s - loss: 0.3820 - accuracy: 0.7972 - val_loss: 0.3682 - val_accuracy: 0.8036 - 1s/epoch - 5ms/step\n",
      "Epoch 67/100\n",
      "313/313 - 1s - loss: 0.3823 - accuracy: 0.8015 - val_loss: 0.3646 - val_accuracy: 0.8094 - 1s/epoch - 4ms/step\n",
      "Epoch 68/100\n",
      "313/313 - 1s - loss: 0.3832 - accuracy: 0.7966 - val_loss: 0.3919 - val_accuracy: 0.7936 - 1s/epoch - 4ms/step\n",
      "Epoch 69/100\n",
      "313/313 - 1s - loss: 0.3812 - accuracy: 0.7972 - val_loss: 0.4016 - val_accuracy: 0.7976 - 1s/epoch - 4ms/step\n",
      "Epoch 70/100\n",
      "313/313 - 1s - loss: 0.3842 - accuracy: 0.7976 - val_loss: 0.3671 - val_accuracy: 0.8050 - 1s/epoch - 4ms/step\n",
      "Epoch 71/100\n",
      "313/313 - 1s - loss: 0.3798 - accuracy: 0.8061 - val_loss: 0.3648 - val_accuracy: 0.8076 - 1s/epoch - 4ms/step\n",
      "Epoch 72/100\n",
      "313/313 - 1s - loss: 0.3789 - accuracy: 0.8003 - val_loss: 0.3647 - val_accuracy: 0.8176 - 1s/epoch - 4ms/step\n",
      "Epoch 73/100\n",
      "313/313 - 1s - loss: 0.3809 - accuracy: 0.8005 - val_loss: 0.7842 - val_accuracy: 0.6522 - 1s/epoch - 4ms/step\n",
      "Epoch 74/100\n",
      "313/313 - 1s - loss: 0.3811 - accuracy: 0.7978 - val_loss: 0.4004 - val_accuracy: 0.7882 - 1s/epoch - 4ms/step\n",
      "Epoch 75/100\n",
      "313/313 - 1s - loss: 0.3802 - accuracy: 0.8000 - val_loss: 0.3841 - val_accuracy: 0.7912 - 1s/epoch - 4ms/step\n",
      "Epoch 76/100\n",
      "313/313 - 1s - loss: 0.3762 - accuracy: 0.8017 - val_loss: 0.3633 - val_accuracy: 0.8104 - 1s/epoch - 4ms/step\n",
      "Epoch 77/100\n",
      "313/313 - 1s - loss: 0.3814 - accuracy: 0.7995 - val_loss: 0.3905 - val_accuracy: 0.7988 - 1s/epoch - 4ms/step\n",
      "Epoch 78/100\n",
      "313/313 - 1s - loss: 0.3802 - accuracy: 0.8012 - val_loss: 0.3563 - val_accuracy: 0.8122 - 1s/epoch - 4ms/step\n",
      "Epoch 79/100\n",
      "313/313 - 1s - loss: 0.3767 - accuracy: 0.8034 - val_loss: 0.3661 - val_accuracy: 0.8146 - 1s/epoch - 5ms/step\n",
      "Epoch 80/100\n",
      "313/313 - 1s - loss: 0.3787 - accuracy: 0.7999 - val_loss: 0.3647 - val_accuracy: 0.8138 - 1s/epoch - 4ms/step\n",
      "Epoch 81/100\n",
      "313/313 - 1s - loss: 0.3765 - accuracy: 0.8029 - val_loss: 0.4520 - val_accuracy: 0.7666 - 1s/epoch - 4ms/step\n",
      "Epoch 82/100\n",
      "313/313 - 1s - loss: 0.3773 - accuracy: 0.8032 - val_loss: 0.3910 - val_accuracy: 0.7916 - 1s/epoch - 4ms/step\n",
      "Epoch 83/100\n",
      "313/313 - 1s - loss: 0.3752 - accuracy: 0.8044 - val_loss: 0.3694 - val_accuracy: 0.8080 - 1s/epoch - 4ms/step\n",
      "Epoch 84/100\n",
      "313/313 - 1s - loss: 0.3757 - accuracy: 0.8060 - val_loss: 0.3809 - val_accuracy: 0.8006 - 1s/epoch - 4ms/step\n",
      "Epoch 85/100\n",
      "313/313 - 2s - loss: 0.3756 - accuracy: 0.8038 - val_loss: 0.3772 - val_accuracy: 0.8042 - 2s/epoch - 5ms/step\n",
      "Epoch 86/100\n",
      "313/313 - 1s - loss: 0.3772 - accuracy: 0.8075 - val_loss: 0.3774 - val_accuracy: 0.7972 - 1s/epoch - 5ms/step\n",
      "Epoch 87/100\n",
      "313/313 - 1s - loss: 0.3754 - accuracy: 0.8074 - val_loss: 0.3569 - val_accuracy: 0.8130 - 1s/epoch - 4ms/step\n",
      "Epoch 88/100\n",
      "313/313 - 1s - loss: 0.3803 - accuracy: 0.8070 - val_loss: 0.3647 - val_accuracy: 0.8114 - 1s/epoch - 4ms/step\n",
      "Epoch 89/100\n",
      "313/313 - 1s - loss: 0.3735 - accuracy: 0.8094 - val_loss: 0.5031 - val_accuracy: 0.7280 - 1s/epoch - 4ms/step\n",
      "Epoch 90/100\n",
      "313/313 - 1s - loss: 0.3751 - accuracy: 0.8070 - val_loss: 0.3621 - val_accuracy: 0.8146 - 1s/epoch - 4ms/step\n",
      "Epoch 91/100\n",
      "313/313 - 1s - loss: 0.3791 - accuracy: 0.8103 - val_loss: 0.3736 - val_accuracy: 0.8070 - 1s/epoch - 5ms/step\n",
      "Epoch 92/100\n",
      "313/313 - 1s - loss: 0.3744 - accuracy: 0.8101 - val_loss: 0.3602 - val_accuracy: 0.8170 - 1s/epoch - 4ms/step\n",
      "Epoch 93/100\n",
      "313/313 - 1s - loss: 0.3738 - accuracy: 0.8105 - val_loss: 0.3651 - val_accuracy: 0.8152 - 1s/epoch - 5ms/step\n",
      "Epoch 94/100\n",
      "313/313 - 1s - loss: 0.3735 - accuracy: 0.8096 - val_loss: 0.3607 - val_accuracy: 0.8256 - 1s/epoch - 4ms/step\n",
      "Epoch 95/100\n",
      "313/313 - 1s - loss: 0.3732 - accuracy: 0.8137 - val_loss: 0.3640 - val_accuracy: 0.8142 - 1s/epoch - 4ms/step\n",
      "Epoch 96/100\n",
      "313/313 - 1s - loss: 0.3754 - accuracy: 0.8125 - val_loss: 0.3560 - val_accuracy: 0.8186 - 1s/epoch - 4ms/step\n",
      "Epoch 97/100\n",
      "313/313 - 1s - loss: 0.3719 - accuracy: 0.8096 - val_loss: 0.3736 - val_accuracy: 0.8112 - 1s/epoch - 5ms/step\n",
      "Epoch 98/100\n",
      "313/313 - 1s - loss: 0.3761 - accuracy: 0.8104 - val_loss: 0.3651 - val_accuracy: 0.8196 - 1s/epoch - 5ms/step\n",
      "Epoch 99/100\n",
      "313/313 - 1s - loss: 0.3731 - accuracy: 0.8124 - val_loss: 0.3498 - val_accuracy: 0.8244 - 1s/epoch - 4ms/step\n",
      "Epoch 100/100\n",
      "313/313 - 1s - loss: 0.3743 - accuracy: 0.8119 - val_loss: 0.3588 - val_accuracy: 0.8244 - 1s/epoch - 5ms/step\n"
     ]
    }
   ],
   "source": [
    "# we train the model for 100 epochs\n",
    "# verbose level 2 displays more info while trianing\n",
    "H = model.fit(X_train, y_train, epochs=100, verbose=2, validation_data=(X_val, y_val))"
   ]
  },
  {
   "cell_type": "code",
   "execution_count": 14,
   "id": "37e4c089",
   "metadata": {},
   "outputs": [],
   "source": [
    "def plot_results(H):\n",
    "    results = pd.DataFrame({\"Train Loss\": H.history['loss'], \"Validation Loss\": H.history['val_loss'],\n",
    "              \"Train Accuracy\": H.history['accuracy'], \"Validation Accuracy\": H.history['val_accuracy']\n",
    "             })\n",
    "    fig, ax = plt.subplots(nrows=2, figsize=(16, 9))\n",
    "    results[[\"Train Loss\", \"Validation Loss\"]].plot(ax=ax[0])\n",
    "    results[[\"Train Accuracy\", \"Validation Accuracy\"]].plot(ax=ax[1])\n",
    "    ax[0].set_xlabel(\"Epoch\")\n",
    "    ax[1].set_xlabel(\"Epoch\")\n",
    "    plt.show()"
   ]
  },
  {
   "cell_type": "code",
   "execution_count": 15,
   "id": "affbbc48",
   "metadata": {},
   "outputs": [
    {
     "data": {
      "image/png": "[encoded data removed]",
      "text/plain": [
       "<Figure size 1152x648 with 2 Axes>"
      ]
     },
     "metadata": {
      "needs_background": "light"
     },
     "output_type": "display_data"
    }
   ],
   "source": [
    "plot_results(H)"
   ]
  },
  {
   "cell_type": "markdown",
   "id": "6ed893b1",
   "metadata": {},
   "source": [
    "# Implementation of LSTM"
   ]
  },
  {
   "cell_type": "code",
   "execution_count": 1,
   "id": "959dff63",
   "metadata": {},
   "outputs": [],
   "source": [
    "# importing necessary modules"
   ]
  },
  {
   "cell_type": "code",
   "execution_count": 3,
   "id": "5c974d44",
   "metadata": {},
   "outputs": [],
   "source": [
    "import keras\n",
    "from keras.datasets import mnist\n",
    "from keras.models import Sequential\n",
    "from keras.layers import CuDNNLSTM, Dense, Dropout, LSTM\n",
    "from tensorflow.keras.optimizers import Adam"
   ]
  },
  {
   "cell_type": "code",
   "execution_count": 4,
   "id": "f2e7bda6",
   "metadata": {},
   "outputs": [],
   "source": [
    "#Importing the data\n",
    "(X_train, y_train),(X_test, y_test) = mnist.load_data()  # unpacks images to x_train/x_test and labels to y_train/y_test\n",
    "#Normalizing the data\n",
    "X_train = X_train.astype('float32') / 255.0\n",
    "X_test = X_test.astype('float32') / 255.0"
   ]
  },
  {
   "cell_type": "code",
   "execution_count": 5,
   "id": "7d5e19b5",
   "metadata": {},
   "outputs": [],
   "source": [
    "#Creating An LSTM network\n",
    "#Intializing the classifier network\n",
    "classifier = Sequential()\n",
    "\n",
    "#Adding the input LSTM network layer\n",
    "classifier.add(LSTM(128, input_shape=(X_train.shape[1:]),return_sequences=True))\n",
    "classifier.add(Dropout(0.2))"
   ]
  },
  {
   "cell_type": "code",
   "execution_count": 6,
   "id": "db38eb94",
   "metadata": {},
   "outputs": [],
   "source": [
    "#Adding a second LSTM network layer\n",
    "classifier.add(LSTM(128))\n",
    "\n",
    "#Adding a dense hidden layer\n",
    "classifier.add(Dense(64, activation='relu'))\n",
    "classifier.add(Dropout(0.2))\n",
    "\n",
    "#Adding the output layer\n",
    "classifier.add(Dense(10, activation='softmax'))"
   ]
  },
  {
   "cell_type": "code",
   "execution_count": 7,
   "id": "d34355c1",
   "metadata": {},
   "outputs": [
    {
     "name": "stdout",
     "output_type": "stream",
     "text": [
      "Epoch 1/3\n"
     ]
    },
    {
     "name": "stderr",
     "output_type": "stream",
     "text": [
      "/Users/amarjitkumar/opt/anaconda3/lib/python3.8/site-packages/keras/optimizer_v2/adam.py:105: UserWarning: The `lr` argument is deprecated, use `learning_rate` instead.\n",
      "  super(Adam, self).__init__(name, **kwargs)\n"
     ]
    },
    {
     "name": "stdout",
     "output_type": "stream",
     "text": [
      "1875/1875 [==============================] - 117s 61ms/step - loss: 0.3480 - accuracy: 0.8894 - val_loss: 0.1090 - val_accuracy: 0.9665\n",
      "Epoch 2/3\n",
      "1875/1875 [==============================] - 114s 61ms/step - loss: 0.1034 - accuracy: 0.9702 - val_loss: 0.0712 - val_accuracy: 0.9789\n",
      "Epoch 3/3\n",
      "1875/1875 [==============================] - 114s 61ms/step - loss: 0.0718 - accuracy: 0.9797 - val_loss: 0.0628 - val_accuracy: 0.9826\n",
      "313/313 [==============================] - 8s 25ms/step - loss: 0.0628 - accuracy: 0.9826\n",
      "Test Loss: 0.06277447938919067\n",
      "Test Accuracy: 0.9825999736785889\n"
     ]
    }
   ],
   "source": [
    "#Compiling the network\n",
    "classifier.compile( loss='sparse_categorical_crossentropy', optimizer=Adam(lr=0.001, decay=1e-6), metrics=['accuracy'] )\n",
    "\n",
    "#Fitting the data to the model\n",
    "classifier.fit(X_train, y_train, epochs=3, validation_data=(X_test, y_test))\n",
    "\n",
    "test_loss, test_acc = classifier.evaluate(X_test, y_test)\n",
    "print('Test Loss: {}'.format(test_loss))\n",
    "print('Test Accuracy: {}'.format(test_acc))"
   ]
  },
  {
   "cell_type": "markdown",
   "id": "dcf92cfa",
   "metadata": {},
   "source": [
    "# Sequence Classification with LSTM:"
   ]
  },
  {
   "cell_type": "code",
   "execution_count": 8,
   "id": "f0f4a993",
   "metadata": {},
   "outputs": [
    {
     "name": "stdout",
     "output_type": "stream",
     "text": [
      "Epoch 1/10\n",
      "63/63 [==============================] - 17s 238ms/step - loss: 0.6975 - accuracy: 0.0000e+00\n",
      "Epoch 2/10\n",
      "63/63 [==============================] - 15s 243ms/step - loss: 0.6946 - accuracy: 0.0000e+00\n",
      "Epoch 3/10\n",
      "63/63 [==============================] - 16s 250ms/step - loss: 0.6943 - accuracy: 0.0000e+00\n",
      "Epoch 4/10\n",
      "63/63 [==============================] - 17s 265ms/step - loss: 0.6938 - accuracy: 0.0000e+00\n",
      "Epoch 5/10\n",
      "63/63 [==============================] - 17s 268ms/step - loss: 0.6946 - accuracy: 0.0000e+00\n",
      "Epoch 6/10\n",
      "63/63 [==============================] - 20s 322ms/step - loss: 0.6937 - accuracy: 0.0000e+00\n",
      "Epoch 7/10\n",
      "63/63 [==============================] - 21s 330ms/step - loss: 0.6940 - accuracy: 0.0000e+00\n",
      "Epoch 8/10\n",
      "63/63 [==============================] - 15s 235ms/step - loss: 0.6939 - accuracy: 0.0000e+00\n",
      "Epoch 9/10\n",
      "63/63 [==============================] - 16s 247ms/step - loss: 0.6931 - accuracy: 0.0000e+00\n",
      "Epoch 10/10\n",
      "63/63 [==============================] - 15s 242ms/step - loss: 0.6939 - accuracy: 0.0000e+00\n",
      "7/7 [==============================] - 1s 61ms/step - loss: 0.6932 - accuracy: 0.0000e+00\n"
     ]
    }
   ],
   "source": [
    "import numpy as np\n",
    "# Generate dummy training data\n",
    "x_train=np.random.random((1000, 256))\n",
    "y_train=np.random.random((1000, 1))\n",
    "\n",
    "#test\n",
    "x_test=np.random.random((100, 256))\n",
    "y_test=np.random.random((100, 1))\n",
    "from keras.models import Sequential\n",
    "from keras.layers import Dense, Dropout\n",
    "from keras.layers import Embedding\n",
    "from keras.layers import LSTM\n",
    "\n",
    "max_features=1024\n",
    "model=Sequential()\n",
    "model.add(Embedding(max_features, output_dim=256))\n",
    "model.add(LSTM(128))\n",
    "model.add(Dropout(0.5))\n",
    "model.add(Dense(1, activation='sigmoid'))\n",
    "model.compile(loss='binary_crossentropy', optimizer='rmsprop', metrics=['accuracy'])\n",
    "model.fit(x_train, y_train, batch_size=16, epochs=10)\n",
    "score=model.evaluate(x_test, y_test, batch_size=16)"
   ]
  },
  {
   "cell_type": "code",
   "execution_count": 9,
   "id": "3de60730",
   "metadata": {},
   "outputs": [
    {
     "name": "stdout",
     "output_type": "stream",
     "text": [
      "['cold' 'cold' 'warm' 'cold' 'hot' 'hot' 'warm' 'cold' 'warm' 'hot']\n",
      "[0 0 2 0 1 1 2 0 2 1]\n",
      "[[1. 0. 0.]\n",
      " [1. 0. 0.]\n",
      " [0. 0. 1.]\n",
      " [1. 0. 0.]\n",
      " [0. 1. 0.]\n",
      " [0. 1. 0.]\n",
      " [0. 0. 1.]\n",
      " [1. 0. 0.]\n",
      " [0. 0. 1.]\n",
      " [0. 1. 0.]]\n"
     ]
    }
   ],
   "source": [
    "from numpy import array\n",
    "from numpy import argmax\n",
    "from sklearn.preprocessing import LabelEncoder\n",
    "from sklearn.preprocessing import OneHotEncoder\n",
    "\n",
    "# Define Example\n",
    "data=['cold', 'cold', 'warm', 'cold', 'hot', 'hot', 'warm', 'cold', 'warm', 'hot']\n",
    "values=array(data)\n",
    "print(values)\n",
    "\n",
    "# Integer Encode\n",
    "label_encoder=LabelEncoder()\n",
    "integer_encoded=label_encoder.fit_transform(values)\n",
    "print(integer_encoded)\n",
    "\n",
    "# Binary encode\n",
    "onehot_encoder=OneHotEncoder(sparse=False)\n",
    "integer_encoded=integer_encoded.reshape(len(integer_encoded), 1)\n",
    "onehot_encoded=onehot_encoder.fit_transform(integer_encoded)\n",
    "print(onehot_encoded)"
   ]
  },
  {
   "cell_type": "markdown",
   "id": "0c9d2182",
   "metadata": {},
   "source": [
    "# Text classification using RNN"
   ]
  },
  {
   "cell_type": "code",
   "execution_count": 10,
   "id": "537f6b9c",
   "metadata": {},
   "outputs": [],
   "source": [
    "import tensorflow_datasets as tfds\n",
    "import tensorflow as tf"
   ]
  },
  {
   "cell_type": "code",
   "execution_count": 11,
   "id": "ceffdd01",
   "metadata": {},
   "outputs": [
    {
     "name": "stderr",
     "output_type": "stream",
     "text": [
      "WARNING:absl:TFDS datasets with text encoding are deprecated and will be removed in a future version. Instead, you should use the plain text version and tokenize the text using `tensorflow_text` (See: https://www.tensorflow.org/tutorials/tensorflow_text/intro#tfdata_example)\n"
     ]
    },
    {
     "ename": "NameError",
     "evalue": "name 'train_dataset' is not defined",
     "output_type": "error",
     "traceback": [
      "\u001b[0;31m---------------------------------------------------------------------------\u001b[0m",
      "\u001b[0;31mNameError\u001b[0m                                 Traceback (most recent call last)",
      "\u001b[0;32m<ipython-input-11-6d5dde611dbf>\u001b[0m in \u001b[0;36m<module>\u001b[0;34m\u001b[0m\n\u001b[1;32m      1\u001b[0m \u001b[0;31m# Setup input pipeline\u001b[0m\u001b[0;34m\u001b[0m\u001b[0;34m\u001b[0m\u001b[0;34m\u001b[0m\u001b[0m\n\u001b[1;32m      2\u001b[0m \u001b[0mdatasets\u001b[0m\u001b[0;34m,\u001b[0m \u001b[0minfo\u001b[0m \u001b[0;34m=\u001b[0m\u001b[0mtfds\u001b[0m\u001b[0;34m.\u001b[0m\u001b[0mload\u001b[0m\u001b[0;34m(\u001b[0m\u001b[0;34m'imdb_reviews/subwords8k'\u001b[0m\u001b[0;34m,\u001b[0m \u001b[0mwith_info\u001b[0m\u001b[0;34m=\u001b[0m\u001b[0;32mTrue\u001b[0m\u001b[0;34m,\u001b[0m \u001b[0mas_supervised\u001b[0m\u001b[0;34m=\u001b[0m\u001b[0;32mTrue\u001b[0m\u001b[0;34m)\u001b[0m\u001b[0;34m\u001b[0m\u001b[0;34m\u001b[0m\u001b[0m\n\u001b[0;32m----> 3\u001b[0;31m \u001b[0mtrain_dataset\u001b[0m\u001b[0;34m,\u001b[0m \u001b[0mtest_dataset\u001b[0m\u001b[0;34m[\u001b[0m\u001b[0;34m'train'\u001b[0m\u001b[0;34m]\u001b[0m\u001b[0;34m,\u001b[0m \u001b[0mdataset\u001b[0m\u001b[0;34m[\u001b[0m\u001b[0;34m'test'\u001b[0m\u001b[0;34m]\u001b[0m\u001b[0;34m\u001b[0m\u001b[0;34m\u001b[0m\u001b[0m\n\u001b[0m",
      "\u001b[0;31mNameError\u001b[0m: name 'train_dataset' is not defined"
     ]
    }
   ],
   "source": [
    "# Setup input pipeline\n",
    "datasets, info =tfds.load('imdb_reviews/subwords8k', with_info=True, as_supervised=True)\n",
    "train_dataset, test_dataset['train'], dataset['test']"
   ]
  },
  {
   "cell_type": "markdown",
   "id": "809f5f95",
   "metadata": {},
   "source": [
    "# Unit 6"
   ]
  },
  {
   "cell_type": "markdown",
   "id": "81063bea",
   "metadata": {},
   "source": [
    "## Implementation of simple GAN's that generate digits from 0 to 9"
   ]
  },
  {
   "cell_type": "code",
   "execution_count": 7,
   "id": "418c9046",
   "metadata": {},
   "outputs": [
    {
     "name": "stdout",
     "output_type": "stream",
     "text": [
      "\u001b[31mERROR: Could not find a version that satisfies the requirement tensorflow==1.14\u001b[0m\n",
      "\u001b[31mERROR: No matching distribution found for tensorflow==1.14\u001b[0m\n",
      "Note: you may need to restart the kernel to use updated packages.\n"
     ]
    }
   ],
   "source": [
    "pip install tensorflow==1.14"
   ]
  },
  {
   "cell_type": "code",
   "execution_count": 9,
   "id": "6551c45a",
   "metadata": {},
   "outputs": [
    {
     "ename": "ModuleNotFoundError",
     "evalue": "No module named 'tensorflow.examples'",
     "output_type": "error",
     "traceback": [
      "\u001b[0;31m---------------------------------------------------------------------------\u001b[0m",
      "\u001b[0;31mModuleNotFoundError\u001b[0m                       Traceback (most recent call last)",
      "\u001b[0;32m<ipython-input-9-af3afc5d0ee5>\u001b[0m in \u001b[0;36m<module>\u001b[0;34m\u001b[0m\n\u001b[1;32m      1\u001b[0m \u001b[0;32mimport\u001b[0m \u001b[0mtensorflow\u001b[0m \u001b[0;32mas\u001b[0m \u001b[0mtf\u001b[0m\u001b[0;34m\u001b[0m\u001b[0;34m\u001b[0m\u001b[0m\n\u001b[0;32m----> 2\u001b[0;31m \u001b[0;32mfrom\u001b[0m \u001b[0mtensorflow\u001b[0m\u001b[0;34m.\u001b[0m\u001b[0mexamples\u001b[0m\u001b[0;34m.\u001b[0m\u001b[0mtutorials\u001b[0m\u001b[0;34m.\u001b[0m\u001b[0mmnist\u001b[0m \u001b[0;32mimport\u001b[0m \u001b[0minput_data\u001b[0m\u001b[0;34m\u001b[0m\u001b[0;34m\u001b[0m\u001b[0m\n\u001b[0m\u001b[1;32m      3\u001b[0m \u001b[0;32mimport\u001b[0m \u001b[0mnumpy\u001b[0m \u001b[0;32mas\u001b[0m \u001b[0mnp\u001b[0m\u001b[0;34m\u001b[0m\u001b[0;34m\u001b[0m\u001b[0m\n\u001b[1;32m      4\u001b[0m \u001b[0;32mimport\u001b[0m \u001b[0mmatplotlib\u001b[0m\u001b[0;34m.\u001b[0m\u001b[0mpyplot\u001b[0m \u001b[0;32mas\u001b[0m \u001b[0mplt\u001b[0m\u001b[0;34m\u001b[0m\u001b[0;34m\u001b[0m\u001b[0m\n\u001b[1;32m      5\u001b[0m \u001b[0;32mimport\u001b[0m \u001b[0mmatplotlib\u001b[0m\u001b[0;34m.\u001b[0m\u001b[0mgridspec\u001b[0m \u001b[0;32mas\u001b[0m \u001b[0mgridspec\u001b[0m\u001b[0;34m\u001b[0m\u001b[0;34m\u001b[0m\u001b[0m\n",
      "\u001b[0;31mModuleNotFoundError\u001b[0m: No module named 'tensorflow.examples'"
     ]
    }
   ],
   "source": [
    "import tensorflow as tf\n",
    "from tensorflow.examples.tutorials.mnist import input_data\n",
    "import numpy as np\n",
    "import matplotlib.pyplot as plt\n",
    "import matplotlib.gridspec as gridspec\n",
    "import os"
   ]
  },
  {
   "cell_type": "code",
   "execution_count": 10,
   "id": "2497f973",
   "metadata": {},
   "outputs": [
    {
     "ename": "IndentationError",
     "evalue": "expected an indented block (<ipython-input-10-6412cb630613>, line 3)",
     "output_type": "error",
     "traceback": [
      "\u001b[0;36m  File \u001b[0;32m\"<ipython-input-10-6412cb630613>\"\u001b[0;36m, line \u001b[0;32m3\u001b[0m\n\u001b[0;31m    return np.random.uniform(-1.,1.,size=[m,n])\u001b[0m\n\u001b[0m    ^\u001b[0m\n\u001b[0;31mIndentationError\u001b[0m\u001b[0;31m:\u001b[0m expected an indented block\n"
     ]
    }
   ],
   "source": [
    "# sample z from uniform distrubution\n",
    "def sample_Z(m,n):\n",
    "return np.random.uniform(-1.,1.,size=[m,n])"
   ]
  },
  {
   "cell_type": "code",
   "execution_count": 11,
   "id": "516f22e8",
   "metadata": {},
   "outputs": [
    {
     "ename": "IndentationError",
     "evalue": "expected an indented block (<ipython-input-11-5ba858e7a835>, line 2)",
     "output_type": "error",
     "traceback": [
      "\u001b[0;36m  File \u001b[0;32m\"<ipython-input-11-5ba858e7a835>\"\u001b[0;36m, line \u001b[0;32m2\u001b[0m\n\u001b[0;31m    fig=plt.figure(figsize=(4,4))\u001b[0m\n\u001b[0m    ^\u001b[0m\n\u001b[0;31mIndentationError\u001b[0m\u001b[0;31m:\u001b[0m expected an indented block\n"
     ]
    }
   ],
   "source": [
    "def plot(samples):\n",
    "fig=plt.figure(figsize=(4,4))\n",
    "gs=gridspec.GridSpec(4,4)\n",
    "gs.update(wspace=0.05,hspace=0.05)"
   ]
  },
  {
   "cell_type": "code",
   "execution_count": 12,
   "id": "b53c6193",
   "metadata": {
    "scrolled": false
   },
   "outputs": [
    {
     "ename": "IndentationError",
     "evalue": "expected an indented block (<ipython-input-12-5f0e7e7aafa4>, line 2)",
     "output_type": "error",
     "traceback": [
      "\u001b[0;36m  File \u001b[0;32m\"<ipython-input-12-5f0e7e7aafa4>\"\u001b[0;36m, line \u001b[0;32m2\u001b[0m\n\u001b[0;31m    ax=plt.subplot(gs[i])\u001b[0m\n\u001b[0m    ^\u001b[0m\n\u001b[0;31mIndentationError\u001b[0m\u001b[0;31m:\u001b[0m expected an indented block\n"
     ]
    }
   ],
   "source": [
    "for i, sample in enumerate(samples):\n",
    "ax=plt.subplot(gs[i])\n",
    "plt.axis('off')\n",
    "ax.set_xticklabels([])\n",
    "ax.set_yticklabels([])\n",
    "ax.set_aspect('equal')\n",
    "plt.imshow(sample.reshape(28,28),cmap='Greys_r')\n",
    "return fig"
   ]
  },
  {
   "cell_type": "code",
   "execution_count": 13,
   "id": "d7f80ba4",
   "metadata": {},
   "outputs": [],
   "source": [
    "# We can now define the placeholder for our input symbols and noise vectors"
   ]
  },
  {
   "cell_type": "code",
   "execution_count": 14,
   "id": "a5ef894d",
   "metadata": {},
   "outputs": [
    {
     "ename": "AttributeError",
     "evalue": "module 'tensorflow' has no attribute 'placeholder'",
     "output_type": "error",
     "traceback": [
      "\u001b[0;31m---------------------------------------------------------------------------\u001b[0m",
      "\u001b[0;31mAttributeError\u001b[0m                            Traceback (most recent call last)",
      "\u001b[0;32m<ipython-input-14-0cab36a8aeb4>\u001b[0m in \u001b[0;36m<module>\u001b[0;34m\u001b[0m\n\u001b[1;32m      1\u001b[0m \u001b[0;31m# input image, for discriminator model\u001b[0m\u001b[0;34m\u001b[0m\u001b[0;34m\u001b[0m\u001b[0;34m\u001b[0m\u001b[0m\n\u001b[0;32m----> 2\u001b[0;31m \u001b[0mX\u001b[0m\u001b[0;34m=\u001b[0m\u001b[0mtf\u001b[0m\u001b[0;34m.\u001b[0m\u001b[0mplaceholder\u001b[0m\u001b[0;34m(\u001b[0m\u001b[0mtf\u001b[0m\u001b[0;34m.\u001b[0m\u001b[0mfloat32\u001b[0m\u001b[0;34m,\u001b[0m \u001b[0mshape\u001b[0m\u001b[0;34m=\u001b[0m\u001b[0;34m[\u001b[0m\u001b[0;32mNone\u001b[0m\u001b[0;34m,\u001b[0m \u001b[0;36m784\u001b[0m\u001b[0;34m]\u001b[0m\u001b[0;34m)\u001b[0m\u001b[0;34m\u001b[0m\u001b[0;34m\u001b[0m\u001b[0m\n\u001b[0m\u001b[1;32m      3\u001b[0m \u001b[0;34m\u001b[0m\u001b[0m\n\u001b[1;32m      4\u001b[0m \u001b[0;31m# Input noise generator\u001b[0m\u001b[0;34m\u001b[0m\u001b[0;34m\u001b[0m\u001b[0;34m\u001b[0m\u001b[0m\n\u001b[1;32m      5\u001b[0m \u001b[0mZ\u001b[0m\u001b[0;34m=\u001b[0m\u001b[0mtf\u001b[0m\u001b[0;34m.\u001b[0m\u001b[0mplaceholder\u001b[0m\u001b[0;34m(\u001b[0m\u001b[0mtf\u001b[0m\u001b[0;34m.\u001b[0m\u001b[0mfloat32\u001b[0m\u001b[0;34m,\u001b[0m \u001b[0mshape\u001b[0m\u001b[0;34m=\u001b[0m\u001b[0;34m[\u001b[0m\u001b[0;32mNone\u001b[0m\u001b[0;34m,\u001b[0m \u001b[0;36m100\u001b[0m\u001b[0;34m]\u001b[0m\u001b[0;34m)\u001b[0m\u001b[0;34m\u001b[0m\u001b[0;34m\u001b[0m\u001b[0m\n",
      "\u001b[0;31mAttributeError\u001b[0m: module 'tensorflow' has no attribute 'placeholder'"
     ]
    }
   ],
   "source": [
    "# input image, for discriminator model\n",
    "X=tf.placeholder(tf.float32, shape=[None, 784])\n",
    "\n",
    "# Input noise generator\n",
    "Z=tf.placeholder(tf.float32, shape=[None, 100])"
   ]
  },
  {
   "cell_type": "code",
   "execution_count": 15,
   "id": "c0ee8887",
   "metadata": {},
   "outputs": [
    {
     "ename": "IndentationError",
     "evalue": "expected an indented block (<ipython-input-15-c105f9196973>, line 5)",
     "output_type": "error",
     "traceback": [
      "\u001b[0;36m  File \u001b[0;32m\"<ipython-input-15-c105f9196973>\"\u001b[0;36m, line \u001b[0;32m5\u001b[0m\n\u001b[0;31m    with tf.variable_scope(\"generator\",reuse=tf.AUTO_REUSE):\u001b[0m\n\u001b[0m    ^\u001b[0m\n\u001b[0;31mIndentationError\u001b[0m\u001b[0;31m:\u001b[0m expected an indented block\n"
     ]
    }
   ],
   "source": [
    "# Now, we define our generator and discriminator networks. They are simple perceptrons with only \n",
    "\n",
    "# We use relu activations in the hidden layers neurons, and sigmoids for the output layers.\n",
    "def generator(z):\n",
    "with tf.variable_scope(\"generator\",reuse=tf.AUTO_REUSE):\n",
    "x=tf.layers.dense(z,128,activation=tf.nn.relu)\n",
    "x=tf.layers.dense(z,784)\n",
    "x=tf.nn.sigmoid(x)\n",
    "return x"
   ]
  },
  {
   "cell_type": "code",
   "execution_count": 16,
   "id": "09f2e581",
   "metadata": {},
   "outputs": [
    {
     "ename": "IndentationError",
     "evalue": "expected an indented block (<ipython-input-16-f36dec20d62e>, line 2)",
     "output_type": "error",
     "traceback": [
      "\u001b[0;36m  File \u001b[0;32m\"<ipython-input-16-f36dec20d62e>\"\u001b[0;36m, line \u001b[0;32m2\u001b[0m\n\u001b[0;31m    with tf.variable_scope(\"discriminator\",reuse=tf.AUTO_REUSE):\u001b[0m\n\u001b[0m    ^\u001b[0m\n\u001b[0;31mIndentationError\u001b[0m\u001b[0;31m:\u001b[0m expected an indented block\n"
     ]
    }
   ],
   "source": [
    "def discriminator(x):\n",
    "with tf.variable_scope(\"discriminator\",reuse=tf.AUTO_REUSE):\n",
    "x=tf.layers.dense(x,128,activation=tf.nn.relu)\n",
    "x=tf.layers.dense(x,1)\n",
    "x=tf.nn.sigmoid(x)\n",
    "return x"
   ]
  },
  {
   "cell_type": "code",
   "execution_count": 17,
   "id": "363e7a40",
   "metadata": {},
   "outputs": [
    {
     "ename": "NameError",
     "evalue": "name 'generator' is not defined",
     "output_type": "error",
     "traceback": [
      "\u001b[0;31m---------------------------------------------------------------------------\u001b[0m",
      "\u001b[0;31mNameError\u001b[0m                                 Traceback (most recent call last)",
      "\u001b[0;32m<ipython-input-17-f13443505708>\u001b[0m in \u001b[0;36m<module>\u001b[0;34m\u001b[0m\n\u001b[1;32m      1\u001b[0m \u001b[0;31m# Generator model\u001b[0m\u001b[0;34m\u001b[0m\u001b[0;34m\u001b[0m\u001b[0;34m\u001b[0m\u001b[0m\n\u001b[0;32m----> 2\u001b[0;31m \u001b[0mG_sample\u001b[0m\u001b[0;34m=\u001b[0m\u001b[0mgenerator\u001b[0m\u001b[0;34m(\u001b[0m\u001b[0mZ\u001b[0m\u001b[0;34m)\u001b[0m\u001b[0;34m\u001b[0m\u001b[0;34m\u001b[0m\u001b[0m\n\u001b[0m",
      "\u001b[0;31mNameError\u001b[0m: name 'generator' is not defined"
     ]
    }
   ],
   "source": [
    "# Generator model\n",
    "G_sample=generator(Z)"
   ]
  },
  {
   "cell_type": "code",
   "execution_count": 18,
   "id": "98226052",
   "metadata": {},
   "outputs": [
    {
     "ename": "NameError",
     "evalue": "name 'discriminator' is not defined",
     "output_type": "error",
     "traceback": [
      "\u001b[0;31m---------------------------------------------------------------------------\u001b[0m",
      "\u001b[0;31mNameError\u001b[0m                                 Traceback (most recent call last)",
      "\u001b[0;32m<ipython-input-18-2b788211adde>\u001b[0m in \u001b[0;36m<module>\u001b[0;34m\u001b[0m\n\u001b[1;32m      1\u001b[0m \u001b[0;31m# Discriminator model\u001b[0m\u001b[0;34m\u001b[0m\u001b[0;34m\u001b[0m\u001b[0;34m\u001b[0m\u001b[0m\n\u001b[0;32m----> 2\u001b[0;31m \u001b[0mD_real\u001b[0m\u001b[0;34m=\u001b[0m\u001b[0mdiscriminator\u001b[0m\u001b[0;34m(\u001b[0m\u001b[0mX\u001b[0m\u001b[0;34m)\u001b[0m\u001b[0;34m\u001b[0m\u001b[0;34m\u001b[0m\u001b[0m\n\u001b[0m\u001b[1;32m      3\u001b[0m \u001b[0mD_fake\u001b[0m\u001b[0;34m=\u001b[0m\u001b[0mdiscriminator\u001b[0m\u001b[0;34m(\u001b[0m\u001b[0mG_sample\u001b[0m\u001b[0;34m)\u001b[0m\u001b[0;34m\u001b[0m\u001b[0;34m\u001b[0m\u001b[0m\n",
      "\u001b[0;31mNameError\u001b[0m: name 'discriminator' is not defined"
     ]
    }
   ],
   "source": [
    "# Discriminator model\n",
    "D_real=discriminator(X)\n",
    "D_fake=discriminator(G_sample)"
   ]
  },
  {
   "cell_type": "code",
   "execution_count": 19,
   "id": "68409bb0",
   "metadata": {},
   "outputs": [
    {
     "ename": "AttributeError",
     "evalue": "module 'tensorflow' has no attribute 'log'",
     "output_type": "error",
     "traceback": [
      "\u001b[0;31m---------------------------------------------------------------------------\u001b[0m",
      "\u001b[0;31mAttributeError\u001b[0m                            Traceback (most recent call last)",
      "\u001b[0;32m<ipython-input-19-bb8d4972f4cd>\u001b[0m in \u001b[0;36m<module>\u001b[0;34m\u001b[0m\n\u001b[1;32m      1\u001b[0m \u001b[0;31m# Loss function\u001b[0m\u001b[0;34m\u001b[0m\u001b[0;34m\u001b[0m\u001b[0;34m\u001b[0m\u001b[0m\n\u001b[0;32m----> 2\u001b[0;31m \u001b[0mD_loss\u001b[0m\u001b[0;34m=\u001b[0m\u001b[0mtf\u001b[0m\u001b[0;34m.\u001b[0m\u001b[0mreduce_mean\u001b[0m\u001b[0;34m(\u001b[0m\u001b[0mtf\u001b[0m\u001b[0;34m.\u001b[0m\u001b[0mlog\u001b[0m\u001b[0;34m(\u001b[0m\u001b[0mD_real\u001b[0m\u001b[0;34m)\u001b[0m\u001b[0;34m+\u001b[0m\u001b[0mtf\u001b[0m\u001b[0;34m.\u001b[0m\u001b[0mlog\u001b[0m\u001b[0;34m(\u001b[0m\u001b[0;36m1.\u001b[0m\u001b[0;34m-\u001b[0m\u001b[0mD_fake\u001b[0m\u001b[0;34m)\u001b[0m\u001b[0;34m)\u001b[0m\u001b[0;34m\u001b[0m\u001b[0;34m\u001b[0m\u001b[0m\n\u001b[0m\u001b[1;32m      3\u001b[0m \u001b[0mD_loss\u001b[0m\u001b[0;34m=\u001b[0m\u001b[0;34m-\u001b[0m\u001b[0mtf\u001b[0m\u001b[0;34m.\u001b[0m\u001b[0mreduce_mean\u001b[0m\u001b[0;34m(\u001b[0m\u001b[0mtf\u001b[0m\u001b[0;34m.\u001b[0m\u001b[0mlog\u001b[0m\u001b[0;34m(\u001b[0m\u001b[0mD_fake\u001b[0m\u001b[0;34m)\u001b[0m\u001b[0;34m)\u001b[0m\u001b[0;34m\u001b[0m\u001b[0;34m\u001b[0m\u001b[0m\n",
      "\u001b[0;31mAttributeError\u001b[0m: module 'tensorflow' has no attribute 'log'"
     ]
    }
   ],
   "source": [
    "# Loss function\n",
    "D_loss=tf.reduce_mean(tf.log(D_real)+tf.log(1.-D_fake))\n",
    "D_loss=-tf.reduce_mean(tf.log(D_fake))"
   ]
  },
  {
   "cell_type": "code",
   "execution_count": 20,
   "id": "ba961c0e",
   "metadata": {},
   "outputs": [
    {
     "ename": "AttributeError",
     "evalue": "module 'tensorflow' has no attribute 'trainable_variables'",
     "output_type": "error",
     "traceback": [
      "\u001b[0;31m---------------------------------------------------------------------------\u001b[0m",
      "\u001b[0;31mAttributeError\u001b[0m                            Traceback (most recent call last)",
      "\u001b[0;32m<ipython-input-20-98efb8042dfa>\u001b[0m in \u001b[0;36m<module>\u001b[0;34m\u001b[0m\n\u001b[1;32m      1\u001b[0m \u001b[0;31m# Select parameters\u001b[0m\u001b[0;34m\u001b[0m\u001b[0;34m\u001b[0m\u001b[0;34m\u001b[0m\u001b[0m\n\u001b[0;32m----> 2\u001b[0;31m \u001b[0mdisc_vars\u001b[0m\u001b[0;34m=\u001b[0m\u001b[0;34m[\u001b[0m\u001b[0mvar\u001b[0m \u001b[0;32mfor\u001b[0m \u001b[0mvar\u001b[0m \u001b[0;32min\u001b[0m \u001b[0mtf\u001b[0m\u001b[0;34m.\u001b[0m\u001b[0mtrainable_variables\u001b[0m\u001b[0;34m(\u001b[0m\u001b[0;34m)\u001b[0m \u001b[0;32mif\u001b[0m \u001b[0mvar\u001b[0m\u001b[0;34m.\u001b[0m\u001b[0mname\u001b[0m\u001b[0;34m.\u001b[0m\u001b[0mstartwith\u001b[0m\u001b[0;34m(\u001b[0m\u001b[0;34m\"disc\"\u001b[0m\u001b[0;34m)\u001b[0m\u001b[0;34m]\u001b[0m\u001b[0;34m\u001b[0m\u001b[0;34m\u001b[0m\u001b[0m\n\u001b[0m\u001b[1;32m      3\u001b[0m \u001b[0mgen_vars\u001b[0m\u001b[0;34m=\u001b[0m\u001b[0;34m[\u001b[0m\u001b[0mvar\u001b[0m \u001b[0;32mfor\u001b[0m \u001b[0mvar\u001b[0m \u001b[0;32min\u001b[0m \u001b[0mtf\u001b[0m\u001b[0;34m.\u001b[0m\u001b[0mtrainable_variables\u001b[0m\u001b[0;34m(\u001b[0m\u001b[0;34m)\u001b[0m \u001b[0;32mif\u001b[0m \u001b[0mvar\u001b[0m\u001b[0;34m.\u001b[0m\u001b[0mname\u001b[0m\u001b[0;34m.\u001b[0m\u001b[0mstartwith\u001b[0m\u001b[0;34m(\u001b[0m\u001b[0;34m\"gen\"\u001b[0m\u001b[0;34m)\u001b[0m\u001b[0;34m]\u001b[0m\u001b[0;34m\u001b[0m\u001b[0;34m\u001b[0m\u001b[0m\n\u001b[1;32m      4\u001b[0m \u001b[0;34m\u001b[0m\u001b[0m\n\u001b[1;32m      5\u001b[0m \u001b[0;31m# Optimizers\u001b[0m\u001b[0;34m\u001b[0m\u001b[0;34m\u001b[0m\u001b[0;34m\u001b[0m\u001b[0m\n",
      "\u001b[0;31mAttributeError\u001b[0m: module 'tensorflow' has no attribute 'trainable_variables'"
     ]
    }
   ],
   "source": [
    "# Select parameters\n",
    "disc_vars=[var for var in tf.trainable_variables() if var.name.startwith(\"disc\")]\n",
    "gen_vars=[var for var in tf.trainable_variables() if var.name.startwith(\"gen\")]\n",
    "\n",
    "# Optimizers\n",
    "D_solver=tf.train.AdamOptimizer().minimize(D_loss, var_list=disc_vars)\n",
    "G_solver=tf.train.AdamOptimizer().minimize(G_loss, var_list=gen_vars)"
   ]
  },
  {
   "cell_type": "code",
   "execution_count": null,
   "id": "501a4c0d",
   "metadata": {},
   "outputs": [],
   "source": []
  }
 ],
 "metadata": {
  "kernelspec": {
   "display_name": "Python 3",
   "language": "python",
   "name": "python3"
  },
  "language_info": {
   "codemirror_mode": {
    "name": "ipython",
    "version": 3
   },
   "file_extension": ".py",
   "mimetype": "text/x-python",
   "name": "python",
   "nbconvert_exporter": "python",
   "pygments_lexer": "ipython3",
   "version": "3.8.8"
  }
 },
 "nbformat": 4,
 "nbformat_minor": 5
}
